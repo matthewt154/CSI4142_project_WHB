{
 "cells": [
  {
   "cell_type": "code",
   "execution_count": 77,
   "id": "australian-jewel",
   "metadata": {},
   "outputs": [
    {
     "data": {
      "text/html": [
       "<style>.container { width:90% !important; }</style>"
      ],
      "text/plain": [
       "<IPython.core.display.HTML object>"
      ]
     },
     "metadata": {},
     "output_type": "display_data"
    }
   ],
   "source": [
    "import psycopg2\n",
    "import pandas as pd\n",
    "import numpy as np\n",
    "import plotly\n",
    "\n",
    "import warnings\n",
    "warnings.filterwarnings(\"ignore\")\n",
    "\n",
    "\n",
    "%matplotlib inline\n",
    "import matplotlib.pyplot as plt\n",
    "plt.style.use('seaborn-whitegrid')\n",
    "import numpy as np\n",
    "\n",
    "\n",
    "\n",
    "from IPython.display import display, HTML\n",
    "display(HTML(\"<style>.container { width:90% !important; }</style>\"))"
   ]
  },
  {
   "cell_type": "code",
   "execution_count": 24,
   "id": "ea7ce598",
   "metadata": {},
   "outputs": [
    {
     "data": {
      "image/png": "[encoded data removed]",
      "text/plain": [
       "<Figure size 432x288 with 1 Axes>"
      ]
     },
     "metadata": {},
     "output_type": "display_data"
    }
   ],
   "source": [
    "\n",
    "#scatter plot example\n",
    "x = np.linspace(0, 10, 30)\n",
    "y = np.sin(x)\n",
    "\n",
    "plt.plot(x, y, 'o', color='blue');\n",
    "\n"
   ]
  },
  {
   "cell_type": "code",
   "execution_count": 27,
   "id": "caring-upset",
   "metadata": {
    "scrolled": true
   },
   "outputs": [],
   "source": [
    "conn = psycopg2.connect(\n",
    "    host=\"localhost\",\n",
    "    database=\"deliv4\", \n",
    "    user=\"postgres\",\n",
    "    password=\"pass\")\n",
    "\n",
    "df_country = pd.read_sql_query(\"select * from country;\", conn)\n",
    "df_devidx = pd.read_sql_query(\"select * from index_dev\", conn)"
   ]
  },
  {
   "cell_type": "code",
   "execution_count": 28,
   "id": "complete-keeping",
   "metadata": {},
   "outputs": [
    {
     "data": {
      "text/html": [
       "<div>\n",
       "<style scoped>\n",
       "    .dataframe tbody tr th:only-of-type {\n",
       "        vertical-align: middle;\n",
       "    }\n",
       "\n",
       "    .dataframe tbody tr th {\n",
       "        vertical-align: top;\n",
       "    }\n",
       "\n",
       "    .dataframe thead th {\n",
       "        text-align: right;\n",
       "    }\n",
       "</style>\n",
       "<table border=\"1\" class=\"dataframe\">\n",
       "  <thead>\n",
       "    <tr style=\"text-align: right;\">\n",
       "      <th></th>\n",
       "      <th>index</th>\n",
       "      <th>countrycode</th>\n",
       "      <th>countryname</th>\n",
       "      <th>currency</th>\n",
       "      <th>Region</th>\n",
       "      <th>incomegroup</th>\n",
       "    </tr>\n",
       "  </thead>\n",
       "  <tbody>\n",
       "    <tr>\n",
       "      <th>0</th>\n",
       "      <td>2</td>\n",
       "      <td>AFG</td>\n",
       "      <td>Afghanistan</td>\n",
       "      <td>Afghan afghani</td>\n",
       "      <td>South Asia</td>\n",
       "      <td>Low income</td>\n",
       "    </tr>\n",
       "    <tr>\n",
       "      <th>1</th>\n",
       "      <td>4</td>\n",
       "      <td>AGO</td>\n",
       "      <td>Angola</td>\n",
       "      <td>Angolan kwanza</td>\n",
       "      <td>Sub-Saharan Africa</td>\n",
       "      <td>Lower middle income</td>\n",
       "    </tr>\n",
       "    <tr>\n",
       "      <th>2</th>\n",
       "      <td>5</td>\n",
       "      <td>ALB</td>\n",
       "      <td>Albania</td>\n",
       "      <td>Albanian lek</td>\n",
       "      <td>Europe &amp; Central Asia</td>\n",
       "      <td>Upper middle income</td>\n",
       "    </tr>\n",
       "    <tr>\n",
       "      <th>3</th>\n",
       "      <td>8</td>\n",
       "      <td>ARE</td>\n",
       "      <td>United Arab Emirates</td>\n",
       "      <td>U.A.E. dirham</td>\n",
       "      <td>Middle East &amp; North Africa</td>\n",
       "      <td>High income</td>\n",
       "    </tr>\n",
       "    <tr>\n",
       "      <th>4</th>\n",
       "      <td>9</td>\n",
       "      <td>ARG</td>\n",
       "      <td>Argentina</td>\n",
       "      <td>Argentine peso</td>\n",
       "      <td>Latin America &amp; Caribbean</td>\n",
       "      <td>Upper middle income</td>\n",
       "    </tr>\n",
       "    <tr>\n",
       "      <th>...</th>\n",
       "      <td>...</td>\n",
       "      <td>...</td>\n",
       "      <td>...</td>\n",
       "      <td>...</td>\n",
       "      <td>...</td>\n",
       "      <td>...</td>\n",
       "    </tr>\n",
       "    <tr>\n",
       "      <th>157</th>\n",
       "      <td>256</td>\n",
       "      <td>VNM</td>\n",
       "      <td>Vietnam</td>\n",
       "      <td>Vietnamese dong</td>\n",
       "      <td>East Asia &amp; Pacific</td>\n",
       "      <td>Lower middle income</td>\n",
       "    </tr>\n",
       "    <tr>\n",
       "      <th>158</th>\n",
       "      <td>261</td>\n",
       "      <td>YEM</td>\n",
       "      <td>Yemen</td>\n",
       "      <td>Yemeni rial</td>\n",
       "      <td>Middle East &amp; North Africa</td>\n",
       "      <td>Low income</td>\n",
       "    </tr>\n",
       "    <tr>\n",
       "      <th>159</th>\n",
       "      <td>262</td>\n",
       "      <td>ZAF</td>\n",
       "      <td>South Africa</td>\n",
       "      <td>South African rand</td>\n",
       "      <td>Sub-Saharan Africa</td>\n",
       "      <td>Upper middle income</td>\n",
       "    </tr>\n",
       "    <tr>\n",
       "      <th>160</th>\n",
       "      <td>263</td>\n",
       "      <td>ZMB</td>\n",
       "      <td>Zambia</td>\n",
       "      <td>New Zambian kwacha</td>\n",
       "      <td>Sub-Saharan Africa</td>\n",
       "      <td>Lower middle income</td>\n",
       "    </tr>\n",
       "    <tr>\n",
       "      <th>161</th>\n",
       "      <td>264</td>\n",
       "      <td>ZWE</td>\n",
       "      <td>Zimbabwe</td>\n",
       "      <td>Zimbabwean Dollar</td>\n",
       "      <td>Sub-Saharan Africa</td>\n",
       "      <td>Lower middle income</td>\n",
       "    </tr>\n",
       "  </tbody>\n",
       "</table>\n",
       "<p>162 rows × 6 columns</p>\n",
       "</div>"
      ],
      "text/plain": [
       "     index countrycode           countryname            currency  \\\n",
       "0        2         AFG           Afghanistan      Afghan afghani   \n",
       "1        4         AGO                Angola      Angolan kwanza   \n",
       "2        5         ALB               Albania        Albanian lek   \n",
       "3        8         ARE  United Arab Emirates       U.A.E. dirham   \n",
       "4        9         ARG             Argentina      Argentine peso   \n",
       "..     ...         ...                   ...                 ...   \n",
       "157    256         VNM               Vietnam     Vietnamese dong   \n",
       "158    261         YEM                 Yemen         Yemeni rial   \n",
       "159    262         ZAF          South Africa  South African rand   \n",
       "160    263         ZMB                Zambia  New Zambian kwacha   \n",
       "161    264         ZWE              Zimbabwe   Zimbabwean Dollar   \n",
       "\n",
       "                         Region          incomegroup  \n",
       "0                    South Asia           Low income  \n",
       "1            Sub-Saharan Africa  Lower middle income  \n",
       "2         Europe & Central Asia  Upper middle income  \n",
       "3    Middle East & North Africa          High income  \n",
       "4     Latin America & Caribbean  Upper middle income  \n",
       "..                          ...                  ...  \n",
       "157         East Asia & Pacific  Lower middle income  \n",
       "158  Middle East & North Africa           Low income  \n",
       "159          Sub-Saharan Africa  Upper middle income  \n",
       "160          Sub-Saharan Africa  Lower middle income  \n",
       "161          Sub-Saharan Africa  Lower middle income  \n",
       "\n",
       "[162 rows x 6 columns]"
      ]
     },
     "execution_count": 28,
     "metadata": {},
     "output_type": "execute_result"
    }
   ],
   "source": [
    "df_country = pd.read_sql_query(\"select * from country;\", conn)\n",
    "\n",
    "for yr in ['yr_2005', 'yr_2006', 'yr_2007', 'yr_2008', 'yr_2009', 'yr_2010', 'yr_2011', 'yr_2012', 'yr_2013', 'yr_2014', 'yr_2015', 'yr_2016', 'yr_2017', 'yr_2018', 'yr_2019', 'yr_2020']:\n",
    "    df_country[yr] = df_country[yr].apply(lambda x: '%.3f' % x)\n",
    "\n",
    "df_country = pd.read_csv('./spreadsheets/HNP_StatsCountry.csv')\n",
    "df_country.dropna(inplace=True)\n",
    "df_country = df_country.loc[df_country['countrycode'].isin(df_devidx['countrycode'])]\n",
    "\n",
    "df_country.reset_index(inplace=True)\n",
    "\n",
    "df_country"
   ]
  },
  {
   "cell_type": "code",
   "execution_count": 43,
   "id": "mental-musical",
   "metadata": {},
   "outputs": [
    {
     "name": "stdout",
     "output_type": "stream",
     "text": [
      "Dev index\n"
     ]
    },
    {
     "data": {
      "text/html": [
       "<div>\n",
       "<style scoped>\n",
       "    .dataframe tbody tr th:only-of-type {\n",
       "        vertical-align: middle;\n",
       "    }\n",
       "\n",
       "    .dataframe tbody tr th {\n",
       "        vertical-align: top;\n",
       "    }\n",
       "\n",
       "    .dataframe thead th {\n",
       "        text-align: right;\n",
       "    }\n",
       "</style>\n",
       "<table border=\"1\" class=\"dataframe\">\n",
       "  <thead>\n",
       "    <tr style=\"text-align: right;\">\n",
       "      <th></th>\n",
       "      <th>countryname</th>\n",
       "      <th>countrycode</th>\n",
       "      <th>yr_2005</th>\n",
       "      <th>yr_2006</th>\n",
       "      <th>yr_2007</th>\n",
       "      <th>yr_2008</th>\n",
       "      <th>yr_2009</th>\n",
       "      <th>yr_2010</th>\n",
       "      <th>yr_2011</th>\n",
       "      <th>yr_2012</th>\n",
       "      <th>yr_2013</th>\n",
       "      <th>yr_2014</th>\n",
       "      <th>yr_2015</th>\n",
       "      <th>yr_2016</th>\n",
       "      <th>yr_2017</th>\n",
       "      <th>yr_2018</th>\n",
       "      <th>yr_2019</th>\n",
       "      <th>yr_2020</th>\n",
       "    </tr>\n",
       "  </thead>\n",
       "  <tbody>\n",
       "    <tr>\n",
       "      <th>0</th>\n",
       "      <td>Afghanistan</td>\n",
       "      <td>AFG</td>\n",
       "      <td>0.16</td>\n",
       "      <td>0.16</td>\n",
       "      <td>0.16</td>\n",
       "      <td>0.16</td>\n",
       "      <td>0.16</td>\n",
       "      <td>0.18</td>\n",
       "      <td>0.18</td>\n",
       "      <td>0.18</td>\n",
       "      <td>0.18</td>\n",
       "      <td>0.18</td>\n",
       "      <td>0.25</td>\n",
       "      <td>0.25</td>\n",
       "      <td>0.25</td>\n",
       "      <td>0.25</td>\n",
       "      <td>0.25</td>\n",
       "      <td>0.25</td>\n",
       "    </tr>\n",
       "    <tr>\n",
       "      <th>1</th>\n",
       "      <td>Albania</td>\n",
       "      <td>ALB</td>\n",
       "      <td>0.46</td>\n",
       "      <td>0.46</td>\n",
       "      <td>0.51</td>\n",
       "      <td>0.51</td>\n",
       "      <td>0.51</td>\n",
       "      <td>0.53</td>\n",
       "      <td>0.53</td>\n",
       "      <td>0.53</td>\n",
       "      <td>0.53</td>\n",
       "      <td>0.53</td>\n",
       "      <td>0.59</td>\n",
       "      <td>0.59</td>\n",
       "      <td>0.59</td>\n",
       "      <td>0.59</td>\n",
       "      <td>0.59</td>\n",
       "      <td>0.59</td>\n",
       "    </tr>\n",
       "    <tr>\n",
       "      <th>2</th>\n",
       "      <td>Algeria</td>\n",
       "      <td>DZA</td>\n",
       "      <td>0.39</td>\n",
       "      <td>0.39</td>\n",
       "      <td>0.40</td>\n",
       "      <td>0.40</td>\n",
       "      <td>0.40</td>\n",
       "      <td>0.41</td>\n",
       "      <td>0.41</td>\n",
       "      <td>0.41</td>\n",
       "      <td>0.41</td>\n",
       "      <td>0.41</td>\n",
       "      <td>0.45</td>\n",
       "      <td>0.45</td>\n",
       "      <td>0.45</td>\n",
       "      <td>0.45</td>\n",
       "      <td>0.45</td>\n",
       "      <td>0.45</td>\n",
       "    </tr>\n",
       "    <tr>\n",
       "      <th>3</th>\n",
       "      <td>Angola</td>\n",
       "      <td>AGO</td>\n",
       "      <td>0.22</td>\n",
       "      <td>0.22</td>\n",
       "      <td>0.24</td>\n",
       "      <td>0.24</td>\n",
       "      <td>0.24</td>\n",
       "      <td>0.24</td>\n",
       "      <td>0.24</td>\n",
       "      <td>0.24</td>\n",
       "      <td>0.24</td>\n",
       "      <td>0.24</td>\n",
       "      <td>0.27</td>\n",
       "      <td>0.27</td>\n",
       "      <td>0.27</td>\n",
       "      <td>0.27</td>\n",
       "      <td>0.27</td>\n",
       "      <td>0.27</td>\n",
       "    </tr>\n",
       "    <tr>\n",
       "      <th>4</th>\n",
       "      <td>Argentina</td>\n",
       "      <td>ARG</td>\n",
       "      <td>0.61</td>\n",
       "      <td>0.61</td>\n",
       "      <td>0.63</td>\n",
       "      <td>0.63</td>\n",
       "      <td>0.63</td>\n",
       "      <td>0.65</td>\n",
       "      <td>0.65</td>\n",
       "      <td>0.65</td>\n",
       "      <td>0.65</td>\n",
       "      <td>0.65</td>\n",
       "      <td>0.70</td>\n",
       "      <td>0.70</td>\n",
       "      <td>0.70</td>\n",
       "      <td>0.70</td>\n",
       "      <td>0.70</td>\n",
       "      <td>0.70</td>\n",
       "    </tr>\n",
       "    <tr>\n",
       "      <th>...</th>\n",
       "      <td>...</td>\n",
       "      <td>...</td>\n",
       "      <td>...</td>\n",
       "      <td>...</td>\n",
       "      <td>...</td>\n",
       "      <td>...</td>\n",
       "      <td>...</td>\n",
       "      <td>...</td>\n",
       "      <td>...</td>\n",
       "      <td>...</td>\n",
       "      <td>...</td>\n",
       "      <td>...</td>\n",
       "      <td>...</td>\n",
       "      <td>...</td>\n",
       "      <td>...</td>\n",
       "      <td>...</td>\n",
       "      <td>...</td>\n",
       "      <td>...</td>\n",
       "    </tr>\n",
       "    <tr>\n",
       "      <th>159</th>\n",
       "      <td>Venezuela</td>\n",
       "      <td>VEN</td>\n",
       "      <td>0.50</td>\n",
       "      <td>0.50</td>\n",
       "      <td>0.55</td>\n",
       "      <td>0.55</td>\n",
       "      <td>0.55</td>\n",
       "      <td>0.56</td>\n",
       "      <td>0.56</td>\n",
       "      <td>0.56</td>\n",
       "      <td>0.56</td>\n",
       "      <td>0.56</td>\n",
       "      <td>0.56</td>\n",
       "      <td>0.56</td>\n",
       "      <td>0.56</td>\n",
       "      <td>0.56</td>\n",
       "      <td>0.56</td>\n",
       "      <td>0.56</td>\n",
       "    </tr>\n",
       "    <tr>\n",
       "      <th>160</th>\n",
       "      <td>Vietnam</td>\n",
       "      <td>VNM</td>\n",
       "      <td>0.43</td>\n",
       "      <td>0.43</td>\n",
       "      <td>0.43</td>\n",
       "      <td>0.43</td>\n",
       "      <td>0.43</td>\n",
       "      <td>0.45</td>\n",
       "      <td>0.45</td>\n",
       "      <td>0.45</td>\n",
       "      <td>0.45</td>\n",
       "      <td>0.45</td>\n",
       "      <td>0.48</td>\n",
       "      <td>0.48</td>\n",
       "      <td>0.48</td>\n",
       "      <td>0.48</td>\n",
       "      <td>0.48</td>\n",
       "      <td>0.48</td>\n",
       "    </tr>\n",
       "    <tr>\n",
       "      <th>161</th>\n",
       "      <td>Yemen</td>\n",
       "      <td>YEM</td>\n",
       "      <td>0.28</td>\n",
       "      <td>0.28</td>\n",
       "      <td>0.30</td>\n",
       "      <td>0.30</td>\n",
       "      <td>0.30</td>\n",
       "      <td>0.32</td>\n",
       "      <td>0.32</td>\n",
       "      <td>0.32</td>\n",
       "      <td>0.32</td>\n",
       "      <td>0.32</td>\n",
       "      <td>0.30</td>\n",
       "      <td>0.30</td>\n",
       "      <td>0.30</td>\n",
       "      <td>0.30</td>\n",
       "      <td>0.30</td>\n",
       "      <td>0.30</td>\n",
       "    </tr>\n",
       "    <tr>\n",
       "      <th>162</th>\n",
       "      <td>Zambia</td>\n",
       "      <td>ZMB</td>\n",
       "      <td>0.22</td>\n",
       "      <td>0.22</td>\n",
       "      <td>0.21</td>\n",
       "      <td>0.21</td>\n",
       "      <td>0.21</td>\n",
       "      <td>0.24</td>\n",
       "      <td>0.24</td>\n",
       "      <td>0.24</td>\n",
       "      <td>0.24</td>\n",
       "      <td>0.24</td>\n",
       "      <td>0.31</td>\n",
       "      <td>0.31</td>\n",
       "      <td>0.31</td>\n",
       "      <td>0.31</td>\n",
       "      <td>0.31</td>\n",
       "      <td>0.31</td>\n",
       "    </tr>\n",
       "    <tr>\n",
       "      <th>163</th>\n",
       "      <td>Zimbabwe</td>\n",
       "      <td>ZWE</td>\n",
       "      <td>0.22</td>\n",
       "      <td>0.22</td>\n",
       "      <td>0.23</td>\n",
       "      <td>0.23</td>\n",
       "      <td>0.23</td>\n",
       "      <td>0.23</td>\n",
       "      <td>0.23</td>\n",
       "      <td>0.23</td>\n",
       "      <td>0.23</td>\n",
       "      <td>0.23</td>\n",
       "      <td>0.29</td>\n",
       "      <td>0.29</td>\n",
       "      <td>0.29</td>\n",
       "      <td>0.29</td>\n",
       "      <td>0.29</td>\n",
       "      <td>0.29</td>\n",
       "    </tr>\n",
       "  </tbody>\n",
       "</table>\n",
       "<p>164 rows × 18 columns</p>\n",
       "</div>"
      ],
      "text/plain": [
       "     countryname countrycode  yr_2005  yr_2006  yr_2007  yr_2008  yr_2009  \\\n",
       "0    Afghanistan         AFG     0.16     0.16     0.16     0.16     0.16   \n",
       "1        Albania         ALB     0.46     0.46     0.51     0.51     0.51   \n",
       "2        Algeria         DZA     0.39     0.39     0.40     0.40     0.40   \n",
       "3         Angola         AGO     0.22     0.22     0.24     0.24     0.24   \n",
       "4      Argentina         ARG     0.61     0.61     0.63     0.63     0.63   \n",
       "..           ...         ...      ...      ...      ...      ...      ...   \n",
       "159    Venezuela         VEN     0.50     0.50     0.55     0.55     0.55   \n",
       "160      Vietnam         VNM     0.43     0.43     0.43     0.43     0.43   \n",
       "161        Yemen         YEM     0.28     0.28     0.30     0.30     0.30   \n",
       "162       Zambia         ZMB     0.22     0.22     0.21     0.21     0.21   \n",
       "163     Zimbabwe         ZWE     0.22     0.22     0.23     0.23     0.23   \n",
       "\n",
       "     yr_2010  yr_2011  yr_2012  yr_2013  yr_2014  yr_2015  yr_2016  yr_2017  \\\n",
       "0       0.18     0.18     0.18     0.18     0.18     0.25     0.25     0.25   \n",
       "1       0.53     0.53     0.53     0.53     0.53     0.59     0.59     0.59   \n",
       "2       0.41     0.41     0.41     0.41     0.41     0.45     0.45     0.45   \n",
       "3       0.24     0.24     0.24     0.24     0.24     0.27     0.27     0.27   \n",
       "4       0.65     0.65     0.65     0.65     0.65     0.70     0.70     0.70   \n",
       "..       ...      ...      ...      ...      ...      ...      ...      ...   \n",
       "159     0.56     0.56     0.56     0.56     0.56     0.56     0.56     0.56   \n",
       "160     0.45     0.45     0.45     0.45     0.45     0.48     0.48     0.48   \n",
       "161     0.32     0.32     0.32     0.32     0.32     0.30     0.30     0.30   \n",
       "162     0.24     0.24     0.24     0.24     0.24     0.31     0.31     0.31   \n",
       "163     0.23     0.23     0.23     0.23     0.23     0.29     0.29     0.29   \n",
       "\n",
       "     yr_2018  yr_2019  yr_2020  \n",
       "0       0.25     0.25     0.25  \n",
       "1       0.59     0.59     0.59  \n",
       "2       0.45     0.45     0.45  \n",
       "3       0.27     0.27     0.27  \n",
       "4       0.70     0.70     0.70  \n",
       "..       ...      ...      ...  \n",
       "159     0.56     0.56     0.56  \n",
       "160     0.48     0.48     0.48  \n",
       "161     0.30     0.30     0.30  \n",
       "162     0.31     0.31     0.31  \n",
       "163     0.29     0.29     0.29  \n",
       "\n",
       "[164 rows x 18 columns]"
      ]
     },
     "execution_count": 43,
     "metadata": {},
     "output_type": "execute_result"
    }
   ],
   "source": [
    "df_devidx = pd.read_sql_query(\"select * from index_dev\", conn)\n",
    "df_devidx.reset_index(drop=True, inplace=True)\n",
    "\n",
    "print(\"Dev index\")\n",
    "#print(df_devidx[\"yr_2005\"])\n",
    "df_devidx"
   ]
  },
  {
   "cell_type": "code",
   "execution_count": 52,
   "id": "comfortable-security",
   "metadata": {},
   "outputs": [
    {
     "data": {
      "text/html": [
       "<div>\n",
       "<style scoped>\n",
       "    .dataframe tbody tr th:only-of-type {\n",
       "        vertical-align: middle;\n",
       "    }\n",
       "\n",
       "    .dataframe tbody tr th {\n",
       "        vertical-align: top;\n",
       "    }\n",
       "\n",
       "    .dataframe thead th {\n",
       "        text-align: right;\n",
       "    }\n",
       "</style>\n",
       "<table border=\"1\" class=\"dataframe\">\n",
       "  <thead>\n",
       "    <tr style=\"text-align: right;\">\n",
       "      <th></th>\n",
       "      <th>series_name</th>\n",
       "      <th>series_code</th>\n",
       "      <th>country_name</th>\n",
       "      <th>country_code</th>\n",
       "      <th>yr_2005</th>\n",
       "      <th>yr_2006</th>\n",
       "      <th>yr_2007</th>\n",
       "      <th>yr_2008</th>\n",
       "      <th>yr_2009</th>\n",
       "      <th>yr_2010</th>\n",
       "      <th>yr_2011</th>\n",
       "      <th>yr_2012</th>\n",
       "      <th>yr_2013</th>\n",
       "      <th>yr_2014</th>\n",
       "      <th>yr_2015</th>\n",
       "      <th>yr_2016</th>\n",
       "      <th>yr_2017</th>\n",
       "      <th>yr_2018</th>\n",
       "      <th>yr_2019</th>\n",
       "      <th>yr_2020</th>\n",
       "    </tr>\n",
       "  </thead>\n",
       "  <tbody>\n",
       "    <tr>\n",
       "      <th>4</th>\n",
       "      <td>People with basic handwashing facilities inclu...</td>\n",
       "      <td>SH.STA.HYGN.ZS</td>\n",
       "      <td>Niger</td>\n",
       "      <td>NER</td>\n",
       "      <td>7.123087</td>\n",
       "      <td>8.208276</td>\n",
       "      <td>9.293511</td>\n",
       "      <td>10.378542</td>\n",
       "      <td>11.463872</td>\n",
       "      <td>12.549247</td>\n",
       "      <td>13.634435</td>\n",
       "      <td>14.719907</td>\n",
       "      <td>15.805423</td>\n",
       "      <td>16.894199</td>\n",
       "      <td>17.986401</td>\n",
       "      <td>19.081334</td>\n",
       "      <td>20.179142</td>\n",
       "      <td>21.279151</td>\n",
       "      <td>22.381482</td>\n",
       "      <td>23.485846</td>\n",
       "    </tr>\n",
       "    <tr>\n",
       "      <th>9</th>\n",
       "      <td>People using at least basic drinking water ser...</td>\n",
       "      <td>SH.H2O.BASW.ZS</td>\n",
       "      <td>Canada</td>\n",
       "      <td>CAN</td>\n",
       "      <td>99.234644</td>\n",
       "      <td>99.234620</td>\n",
       "      <td>99.235497</td>\n",
       "      <td>99.236077</td>\n",
       "      <td>99.236355</td>\n",
       "      <td>99.236349</td>\n",
       "      <td>99.235894</td>\n",
       "      <td>99.234326</td>\n",
       "      <td>99.232686</td>\n",
       "      <td>99.230985</td>\n",
       "      <td>99.229221</td>\n",
       "      <td>99.227395</td>\n",
       "      <td>99.225538</td>\n",
       "      <td>99.223631</td>\n",
       "      <td>99.221650</td>\n",
       "      <td>99.221811</td>\n",
       "    </tr>\n",
       "    <tr>\n",
       "      <th>10</th>\n",
       "      <td>People using at least basic drinking water ser...</td>\n",
       "      <td>SH.H2O.BASW.ZS</td>\n",
       "      <td>United States</td>\n",
       "      <td>USA</td>\n",
       "      <td>98.853687</td>\n",
       "      <td>98.860837</td>\n",
       "      <td>98.867945</td>\n",
       "      <td>98.875013</td>\n",
       "      <td>98.882040</td>\n",
       "      <td>98.978952</td>\n",
       "      <td>99.074887</td>\n",
       "      <td>99.169688</td>\n",
       "      <td>99.263379</td>\n",
       "      <td>99.355881</td>\n",
       "      <td>99.447158</td>\n",
       "      <td>99.537139</td>\n",
       "      <td>99.625816</td>\n",
       "      <td>99.713121</td>\n",
       "      <td>99.799044</td>\n",
       "      <td>99.883527</td>\n",
       "    </tr>\n",
       "    <tr>\n",
       "      <th>11</th>\n",
       "      <td>People using at least basic drinking water ser...</td>\n",
       "      <td>SH.H2O.BASW.ZS</td>\n",
       "      <td>Brazil</td>\n",
       "      <td>BRA</td>\n",
       "      <td>95.084137</td>\n",
       "      <td>95.384183</td>\n",
       "      <td>95.677625</td>\n",
       "      <td>95.964568</td>\n",
       "      <td>96.244799</td>\n",
       "      <td>96.518797</td>\n",
       "      <td>96.787980</td>\n",
       "      <td>97.050980</td>\n",
       "      <td>97.307676</td>\n",
       "      <td>97.558582</td>\n",
       "      <td>97.803568</td>\n",
       "      <td>97.955839</td>\n",
       "      <td>98.450955</td>\n",
       "      <td>98.679495</td>\n",
       "      <td>98.935544</td>\n",
       "      <td>99.320853</td>\n",
       "    </tr>\n",
       "    <tr>\n",
       "      <th>12</th>\n",
       "      <td>People using at least basic drinking water ser...</td>\n",
       "      <td>SH.H2O.BASW.ZS</td>\n",
       "      <td>Mexico</td>\n",
       "      <td>MEX</td>\n",
       "      <td>93.096689</td>\n",
       "      <td>93.710997</td>\n",
       "      <td>94.320322</td>\n",
       "      <td>94.908091</td>\n",
       "      <td>95.367103</td>\n",
       "      <td>95.821334</td>\n",
       "      <td>96.271203</td>\n",
       "      <td>96.716444</td>\n",
       "      <td>97.157255</td>\n",
       "      <td>97.593626</td>\n",
       "      <td>98.025444</td>\n",
       "      <td>98.452865</td>\n",
       "      <td>98.875781</td>\n",
       "      <td>99.269132</td>\n",
       "      <td>99.477264</td>\n",
       "      <td>99.679568</td>\n",
       "    </tr>\n",
       "  </tbody>\n",
       "</table>\n",
       "</div>"
      ],
      "text/plain": [
       "                                          series_name     series_code  \\\n",
       "4   People with basic handwashing facilities inclu...  SH.STA.HYGN.ZS   \n",
       "9   People using at least basic drinking water ser...  SH.H2O.BASW.ZS   \n",
       "10  People using at least basic drinking water ser...  SH.H2O.BASW.ZS   \n",
       "11  People using at least basic drinking water ser...  SH.H2O.BASW.ZS   \n",
       "12  People using at least basic drinking water ser...  SH.H2O.BASW.ZS   \n",
       "\n",
       "     country_name country_code    yr_2005    yr_2006    yr_2007    yr_2008  \\\n",
       "4           Niger          NER   7.123087   8.208276   9.293511  10.378542   \n",
       "9          Canada          CAN  99.234644  99.234620  99.235497  99.236077   \n",
       "10  United States          USA  98.853687  98.860837  98.867945  98.875013   \n",
       "11         Brazil          BRA  95.084137  95.384183  95.677625  95.964568   \n",
       "12         Mexico          MEX  93.096689  93.710997  94.320322  94.908091   \n",
       "\n",
       "      yr_2009    yr_2010    yr_2011    yr_2012    yr_2013    yr_2014  \\\n",
       "4   11.463872  12.549247  13.634435  14.719907  15.805423  16.894199   \n",
       "9   99.236355  99.236349  99.235894  99.234326  99.232686  99.230985   \n",
       "10  98.882040  98.978952  99.074887  99.169688  99.263379  99.355881   \n",
       "11  96.244799  96.518797  96.787980  97.050980  97.307676  97.558582   \n",
       "12  95.367103  95.821334  96.271203  96.716444  97.157255  97.593626   \n",
       "\n",
       "      yr_2015    yr_2016    yr_2017    yr_2018    yr_2019    yr_2020  \n",
       "4   17.986401  19.081334  20.179142  21.279151  22.381482  23.485846  \n",
       "9   99.229221  99.227395  99.225538  99.223631  99.221650  99.221811  \n",
       "10  99.447158  99.537139  99.625816  99.713121  99.799044  99.883527  \n",
       "11  97.803568  97.955839  98.450955  98.679495  98.935544  99.320853  \n",
       "12  98.025444  98.452865  98.875781  99.269132  99.477264  99.679568  "
      ]
     },
     "execution_count": 52,
     "metadata": {},
     "output_type": "execute_result"
    }
   ],
   "source": [
    "df_qol = pd.read_sql_query(\"select * from quality_dim\", conn)\n",
    "\n",
    "df_qol.drop('qualitykey', axis=1, inplace=True)\n",
    "\n",
    "df_qol[['yr_2005','yr_2006', 'yr_2007', 'yr_2008', 'yr_2009', 'yr_2010', 'yr_2011',\n",
    "       'yr_2012', 'yr_2013', 'yr_2014', 'yr_2015', 'yr_2016', 'yr_2017',\n",
    "       'yr_2018', 'yr_2019', 'yr_2020']] = df_qol[['yr_2005','yr_2006', 'yr_2007', 'yr_2008', 'yr_2009', 'yr_2010', 'yr_2011',\n",
    "       'yr_2012', 'yr_2013', 'yr_2014', 'yr_2015', 'yr_2016', 'yr_2017',\n",
    "       'yr_2018', 'yr_2019', 'yr_2020']].apply(pd.to_numeric, errors='coerce')\n",
    "\n",
    "\n",
    "df_qol = df_qol[~df_qol[['yr_2005','yr_2006', 'yr_2007', 'yr_2008', 'yr_2009', 'yr_2010', 'yr_2011',\n",
    "       'yr_2012', 'yr_2013', 'yr_2014', 'yr_2015', 'yr_2016', 'yr_2017',\n",
    "       'yr_2018', 'yr_2019', 'yr_2020']].eq(0).sum(1).ge(3)]\n",
    "\n",
    "df_qol.head()\n",
    "\n"
   ]
  },
  {
   "cell_type": "code",
   "execution_count": 102,
   "id": "alternative-caution",
   "metadata": {},
   "outputs": [
    {
     "data": {
      "text/html": [
       "<div>\n",
       "<style scoped>\n",
       "    .dataframe tbody tr th:only-of-type {\n",
       "        vertical-align: middle;\n",
       "    }\n",
       "\n",
       "    .dataframe tbody tr th {\n",
       "        vertical-align: top;\n",
       "    }\n",
       "\n",
       "    .dataframe thead th {\n",
       "        text-align: right;\n",
       "    }\n",
       "</style>\n",
       "<table border=\"1\" class=\"dataframe\">\n",
       "  <thead>\n",
       "    <tr style=\"text-align: right;\">\n",
       "      <th></th>\n",
       "      <th>country_code</th>\n",
       "      <th>yr_2005</th>\n",
       "      <th>yr_2006</th>\n",
       "      <th>yr_2007</th>\n",
       "      <th>yr_2008</th>\n",
       "      <th>yr_2009</th>\n",
       "      <th>yr_2010</th>\n",
       "      <th>yr_2011</th>\n",
       "      <th>yr_2012</th>\n",
       "      <th>yr_2013</th>\n",
       "      <th>yr_2014</th>\n",
       "      <th>yr_2015</th>\n",
       "      <th>yr_2016</th>\n",
       "      <th>yr_2017</th>\n",
       "      <th>yr_2018</th>\n",
       "      <th>yr_2019</th>\n",
       "      <th>yr_2020</th>\n",
       "    </tr>\n",
       "  </thead>\n",
       "  <tbody>\n",
       "    <tr>\n",
       "      <th>27</th>\n",
       "      <td>CAN</td>\n",
       "      <td>99.805195</td>\n",
       "      <td>99.750338</td>\n",
       "      <td>99.695954</td>\n",
       "      <td>99.641457</td>\n",
       "      <td>99.586846</td>\n",
       "      <td>99.532131</td>\n",
       "      <td>99.477216</td>\n",
       "      <td>99.421719</td>\n",
       "      <td>99.366191</td>\n",
       "      <td>99.310644</td>\n",
       "      <td>99.255071</td>\n",
       "      <td>99.199477</td>\n",
       "      <td>99.143884</td>\n",
       "      <td>99.088289</td>\n",
       "      <td>99.032681</td>\n",
       "      <td>99.032862</td>\n",
       "    </tr>\n",
       "    <tr>\n",
       "      <th>28</th>\n",
       "      <td>USA</td>\n",
       "      <td>99.881787</td>\n",
       "      <td>99.881540</td>\n",
       "      <td>99.881295</td>\n",
       "      <td>99.881055</td>\n",
       "      <td>99.880815</td>\n",
       "      <td>99.860766</td>\n",
       "      <td>99.841033</td>\n",
       "      <td>99.821629</td>\n",
       "      <td>99.802569</td>\n",
       "      <td>99.783861</td>\n",
       "      <td>99.765524</td>\n",
       "      <td>99.747554</td>\n",
       "      <td>99.729968</td>\n",
       "      <td>99.712774</td>\n",
       "      <td>99.695994</td>\n",
       "      <td>99.679619</td>\n",
       "    </tr>\n",
       "    <tr>\n",
       "      <th>29</th>\n",
       "      <td>BRA</td>\n",
       "      <td>77.564792</td>\n",
       "      <td>78.432906</td>\n",
       "      <td>79.295976</td>\n",
       "      <td>80.154083</td>\n",
       "      <td>81.006527</td>\n",
       "      <td>81.854204</td>\n",
       "      <td>82.700581</td>\n",
       "      <td>83.542226</td>\n",
       "      <td>84.378518</td>\n",
       "      <td>85.210642</td>\n",
       "      <td>86.037962</td>\n",
       "      <td>86.860243</td>\n",
       "      <td>87.677958</td>\n",
       "      <td>88.490545</td>\n",
       "      <td>89.298796</td>\n",
       "      <td>90.078471</td>\n",
       "    </tr>\n",
       "    <tr>\n",
       "      <th>30</th>\n",
       "      <td>MEX</td>\n",
       "      <td>81.273778</td>\n",
       "      <td>82.078307</td>\n",
       "      <td>82.872931</td>\n",
       "      <td>83.658304</td>\n",
       "      <td>84.434192</td>\n",
       "      <td>85.201028</td>\n",
       "      <td>85.959710</td>\n",
       "      <td>86.709804</td>\n",
       "      <td>87.451783</td>\n",
       "      <td>88.185732</td>\n",
       "      <td>88.911484</td>\n",
       "      <td>89.629447</td>\n",
       "      <td>90.339476</td>\n",
       "      <td>91.041845</td>\n",
       "      <td>91.736661</td>\n",
       "      <td>92.424063</td>\n",
       "    </tr>\n",
       "    <tr>\n",
       "      <th>31</th>\n",
       "      <td>NER</td>\n",
       "      <td>7.901512</td>\n",
       "      <td>8.401596</td>\n",
       "      <td>8.893620</td>\n",
       "      <td>9.377293</td>\n",
       "      <td>9.853170</td>\n",
       "      <td>10.320974</td>\n",
       "      <td>10.780380</td>\n",
       "      <td>11.232013</td>\n",
       "      <td>11.675560</td>\n",
       "      <td>12.116385</td>\n",
       "      <td>12.555830</td>\n",
       "      <td>12.993835</td>\n",
       "      <td>13.431859</td>\n",
       "      <td>13.869850</td>\n",
       "      <td>14.309386</td>\n",
       "      <td>14.751306</td>\n",
       "    </tr>\n",
       "    <tr>\n",
       "      <th>32</th>\n",
       "      <td>SYR</td>\n",
       "      <td>91.088288</td>\n",
       "      <td>91.024424</td>\n",
       "      <td>90.956335</td>\n",
       "      <td>90.883884</td>\n",
       "      <td>90.807035</td>\n",
       "      <td>90.725976</td>\n",
       "      <td>90.577673</td>\n",
       "      <td>90.439936</td>\n",
       "      <td>90.312975</td>\n",
       "      <td>90.196737</td>\n",
       "      <td>90.131757</td>\n",
       "      <td>90.059184</td>\n",
       "      <td>89.979025</td>\n",
       "      <td>89.891321</td>\n",
       "      <td>89.796115</td>\n",
       "      <td>89.693480</td>\n",
       "    </tr>\n",
       "    <tr>\n",
       "      <th>33</th>\n",
       "      <td>ZAF</td>\n",
       "      <td>64.015806</td>\n",
       "      <td>65.048130</td>\n",
       "      <td>66.071659</td>\n",
       "      <td>67.086321</td>\n",
       "      <td>68.091224</td>\n",
       "      <td>69.086684</td>\n",
       "      <td>70.072349</td>\n",
       "      <td>71.048142</td>\n",
       "      <td>72.013582</td>\n",
       "      <td>72.968804</td>\n",
       "      <td>73.913539</td>\n",
       "      <td>74.847618</td>\n",
       "      <td>75.770868</td>\n",
       "      <td>76.683188</td>\n",
       "      <td>77.584480</td>\n",
       "      <td>78.474611</td>\n",
       "    </tr>\n",
       "    <tr>\n",
       "      <th>34</th>\n",
       "      <td>COD</td>\n",
       "      <td>22.052001</td>\n",
       "      <td>21.550233</td>\n",
       "      <td>21.056586</td>\n",
       "      <td>20.571029</td>\n",
       "      <td>20.093689</td>\n",
       "      <td>19.624513</td>\n",
       "      <td>19.163642</td>\n",
       "      <td>18.711002</td>\n",
       "      <td>18.266617</td>\n",
       "      <td>17.830575</td>\n",
       "      <td>17.402839</td>\n",
       "      <td>16.983426</td>\n",
       "      <td>16.572272</td>\n",
       "      <td>16.169464</td>\n",
       "      <td>15.774931</td>\n",
       "      <td>15.388672</td>\n",
       "    </tr>\n",
       "    <tr>\n",
       "      <th>35</th>\n",
       "      <td>THA</td>\n",
       "      <td>93.837817</td>\n",
       "      <td>94.137536</td>\n",
       "      <td>94.442578</td>\n",
       "      <td>94.753025</td>\n",
       "      <td>95.069096</td>\n",
       "      <td>95.390776</td>\n",
       "      <td>95.725177</td>\n",
       "      <td>96.064622</td>\n",
       "      <td>96.407527</td>\n",
       "      <td>96.753882</td>\n",
       "      <td>97.103707</td>\n",
       "      <td>97.455331</td>\n",
       "      <td>97.790907</td>\n",
       "      <td>98.125218</td>\n",
       "      <td>98.420525</td>\n",
       "      <td>98.713119</td>\n",
       "    </tr>\n",
       "  </tbody>\n",
       "</table>\n",
       "</div>"
      ],
      "text/plain": [
       "   country_code    yr_2005    yr_2006    yr_2007    yr_2008    yr_2009  \\\n",
       "27          CAN  99.805195  99.750338  99.695954  99.641457  99.586846   \n",
       "28          USA  99.881787  99.881540  99.881295  99.881055  99.880815   \n",
       "29          BRA  77.564792  78.432906  79.295976  80.154083  81.006527   \n",
       "30          MEX  81.273778  82.078307  82.872931  83.658304  84.434192   \n",
       "31          NER   7.901512   8.401596   8.893620   9.377293   9.853170   \n",
       "32          SYR  91.088288  91.024424  90.956335  90.883884  90.807035   \n",
       "33          ZAF  64.015806  65.048130  66.071659  67.086321  68.091224   \n",
       "34          COD  22.052001  21.550233  21.056586  20.571029  20.093689   \n",
       "35          THA  93.837817  94.137536  94.442578  94.753025  95.069096   \n",
       "\n",
       "      yr_2010    yr_2011    yr_2012    yr_2013    yr_2014    yr_2015  \\\n",
       "27  99.532131  99.477216  99.421719  99.366191  99.310644  99.255071   \n",
       "28  99.860766  99.841033  99.821629  99.802569  99.783861  99.765524   \n",
       "29  81.854204  82.700581  83.542226  84.378518  85.210642  86.037962   \n",
       "30  85.201028  85.959710  86.709804  87.451783  88.185732  88.911484   \n",
       "31  10.320974  10.780380  11.232013  11.675560  12.116385  12.555830   \n",
       "32  90.725976  90.577673  90.439936  90.312975  90.196737  90.131757   \n",
       "33  69.086684  70.072349  71.048142  72.013582  72.968804  73.913539   \n",
       "34  19.624513  19.163642  18.711002  18.266617  17.830575  17.402839   \n",
       "35  95.390776  95.725177  96.064622  96.407527  96.753882  97.103707   \n",
       "\n",
       "      yr_2016    yr_2017    yr_2018    yr_2019    yr_2020  \n",
       "27  99.199477  99.143884  99.088289  99.032681  99.032862  \n",
       "28  99.747554  99.729968  99.712774  99.695994  99.679619  \n",
       "29  86.860243  87.677958  88.490545  89.298796  90.078471  \n",
       "30  89.629447  90.339476  91.041845  91.736661  92.424063  \n",
       "31  12.993835  13.431859  13.869850  14.309386  14.751306  \n",
       "32  90.059184  89.979025  89.891321  89.796115  89.693480  \n",
       "33  74.847618  75.770868  76.683188  77.584480  78.474611  \n",
       "34  16.983426  16.572272  16.169464  15.774931  15.388672  \n",
       "35  97.455331  97.790907  98.125218  98.420525  98.713119  "
      ]
     },
     "execution_count": 102,
     "metadata": {},
     "output_type": "execute_result"
    }
   ],
   "source": [
    "basicSan = df_qol.loc[df_qol['series_name'].str.contains('People using at least basic sanitation services \\(% of'), 'country_code':]\n",
    "keep_same = {'country_code'}\n",
    "'''basicSan.columns = ['{}{}'.format('' if c in keep_same else 'BasicSan_', c) \n",
    "                    for c in basicSan.columns]'''\n",
    "\n",
    "basicSan\n"
   ]
  },
  {
   "cell_type": "code",
   "execution_count": 113,
   "id": "93662b60",
   "metadata": {},
   "outputs": [
    {
     "data": {
      "application/vnd.plotly.v1+json": {
       "config": {
        "plotlyServerURL": "https://plot.ly"
       },
       "data": [
        {
         "hovertemplate": "variable=yr_2005<br>value=%{x}<br>country_code=%{y}<extra></extra>",
         "legendgroup": "yr_2005",
         "marker": {
          "color": "#636efa",
          "symbol": "circle"
         },
         "mode": "markers",
         "name": "yr_2005",
         "orientation": "h",
         "showlegend": true,
         "type": "scatter",
         "x": [
          99.80519484,
          99.8817868,
          77.56479232,
          81.27377788,
          7.901511602,
          91.0882877,
          64.01580626,
          22.05200139,
          93.83781676
         ],
         "xaxis": "x",
         "y": [
          "CAN",
          "USA",
          "BRA",
          "MEX",
          "NER",
          "SYR",
          "ZAF",
          "COD",
          "THA"
         ],
         "yaxis": "y"
        },
        {
         "hovertemplate": "variable=yr_2006<br>value=%{x}<br>country_code=%{y}<extra></extra>",
         "legendgroup": "yr_2006",
         "marker": {
          "color": "#EF553B",
          "symbol": "circle"
         },
         "mode": "markers",
         "name": "yr_2006",
         "orientation": "h",
         "showlegend": true,
         "type": "scatter",
         "x": [
          99.75033789,
          99.88154042,
          78.43290643,
          82.07830717,
          8.401596097,
          91.02442426,
          65.04813012,
          21.55023257,
          94.13753606
         ],
         "xaxis": "x",
         "y": [
          "CAN",
          "USA",
          "BRA",
          "MEX",
          "NER",
          "SYR",
          "ZAF",
          "COD",
          "THA"
         ],
         "yaxis": "y"
        },
        {
         "hovertemplate": "variable=yr_2007<br>value=%{x}<br>country_code=%{y}<extra></extra>",
         "legendgroup": "yr_2007",
         "marker": {
          "color": "#00cc96",
          "symbol": "circle"
         },
         "mode": "markers",
         "name": "yr_2007",
         "orientation": "h",
         "showlegend": true,
         "type": "scatter",
         "x": [
          99.69595411,
          99.88129549,
          79.29597638,
          82.87293106,
          8.8936197,
          90.95633527,
          66.07165911,
          21.05658611,
          94.4425781
         ],
         "xaxis": "x",
         "y": [
          "CAN",
          "USA",
          "BRA",
          "MEX",
          "NER",
          "SYR",
          "ZAF",
          "COD",
          "THA"
         ],
         "yaxis": "y"
        },
        {
         "hovertemplate": "variable=yr_2008<br>value=%{x}<br>country_code=%{y}<extra></extra>",
         "legendgroup": "yr_2008",
         "marker": {
          "color": "#ab63fa",
          "symbol": "circle"
         },
         "mode": "markers",
         "name": "yr_2008",
         "orientation": "h",
         "showlegend": true,
         "type": "scatter",
         "x": [
          99.6414571,
          99.8810546,
          80.1540827,
          83.65830449,
          9.377293422,
          90.88388403,
          67.08632138,
          20.57102918,
          94.75302481
         ],
         "xaxis": "x",
         "y": [
          "CAN",
          "USA",
          "BRA",
          "MEX",
          "NER",
          "SYR",
          "ZAF",
          "COD",
          "THA"
         ],
         "yaxis": "y"
        },
        {
         "hovertemplate": "variable=yr_2009<br>value=%{x}<br>country_code=%{y}<extra></extra>",
         "legendgroup": "yr_2009",
         "marker": {
          "color": "#FFA15A",
          "symbol": "circle"
         },
         "mode": "markers",
         "name": "yr_2009",
         "orientation": "h",
         "showlegend": true,
         "type": "scatter",
         "x": [
          99.5868457,
          99.88081511,
          81.00652682,
          84.43419231,
          9.853170088,
          90.80703479,
          68.0912245,
          20.09368866,
          95.06909558
         ],
         "xaxis": "x",
         "y": [
          "CAN",
          "USA",
          "BRA",
          "MEX",
          "NER",
          "SYR",
          "ZAF",
          "COD",
          "THA"
         ],
         "yaxis": "y"
        },
        {
         "hovertemplate": "variable=yr_2010<br>value=%{x}<br>country_code=%{y}<extra></extra>",
         "legendgroup": "yr_2010",
         "marker": {
          "color": "#19d3f3",
          "symbol": "circle"
         },
         "mode": "markers",
         "name": "yr_2010",
         "orientation": "h",
         "showlegend": true,
         "type": "scatter",
         "x": [
          99.53213067,
          99.86076619,
          81.85420444,
          85.20102819,
          10.32097412,
          90.7259759,
          69.08668367,
          19.62451329,
          95.39077552
         ],
         "xaxis": "x",
         "y": [
          "CAN",
          "USA",
          "BRA",
          "MEX",
          "NER",
          "SYR",
          "ZAF",
          "COD",
          "THA"
         ],
         "yaxis": "y"
        },
        {
         "hovertemplate": "variable=yr_2011<br>value=%{x}<br>country_code=%{y}<extra></extra>",
         "legendgroup": "yr_2011",
         "marker": {
          "color": "#FF6692",
          "symbol": "circle"
         },
         "mode": "markers",
         "name": "yr_2011",
         "orientation": "h",
         "showlegend": true,
         "type": "scatter",
         "x": [
          99.47721571,
          99.84103269,
          82.70058102,
          85.95971004,
          10.78038007,
          90.57767283,
          70.07234949,
          19.16364168,
          95.72517684
         ],
         "xaxis": "x",
         "y": [
          "CAN",
          "USA",
          "BRA",
          "MEX",
          "NER",
          "SYR",
          "ZAF",
          "COD",
          "THA"
         ],
         "yaxis": "y"
        },
        {
         "hovertemplate": "variable=yr_2012<br>value=%{x}<br>country_code=%{y}<extra></extra>",
         "legendgroup": "yr_2012",
         "marker": {
          "color": "#B6E880",
          "symbol": "circle"
         },
         "mode": "markers",
         "name": "yr_2012",
         "orientation": "h",
         "showlegend": true,
         "type": "scatter",
         "x": [
          99.42171918,
          99.82162867,
          83.54222598,
          86.70980432,
          11.23201288,
          90.43993583,
          71.04814234,
          18.71100167,
          96.06462166
         ],
         "xaxis": "x",
         "y": [
          "CAN",
          "USA",
          "BRA",
          "MEX",
          "NER",
          "SYR",
          "ZAF",
          "COD",
          "THA"
         ],
         "yaxis": "y"
        },
        {
         "hovertemplate": "variable=yr_2013<br>value=%{x}<br>country_code=%{y}<extra></extra>",
         "legendgroup": "yr_2013",
         "marker": {
          "color": "#FF97FF",
          "symbol": "circle"
         },
         "mode": "markers",
         "name": "yr_2013",
         "orientation": "h",
         "showlegend": true,
         "type": "scatter",
         "x": [
          99.36619078,
          99.80256859,
          84.37851825,
          87.45178303,
          11.67555994,
          90.31297485,
          72.01358167,
          18.26661658,
          96.40752741
         ],
         "xaxis": "x",
         "y": [
          "CAN",
          "USA",
          "BRA",
          "MEX",
          "NER",
          "SYR",
          "ZAF",
          "COD",
          "THA"
         ],
         "yaxis": "y"
        },
        {
         "hovertemplate": "variable=yr_2014<br>value=%{x}<br>country_code=%{y}<extra></extra>",
         "legendgroup": "yr_2014",
         "marker": {
          "color": "#FECB52",
          "symbol": "circle"
         },
         "mode": "markers",
         "name": "yr_2014",
         "orientation": "h",
         "showlegend": true,
         "type": "scatter",
         "x": [
          99.31064352,
          99.78386084,
          85.21064211,
          88.18573213,
          12.11638501,
          90.19673733,
          72.96880358,
          17.83057536,
          96.75388237
         ],
         "xaxis": "x",
         "y": [
          "CAN",
          "USA",
          "BRA",
          "MEX",
          "NER",
          "SYR",
          "ZAF",
          "COD",
          "THA"
         ],
         "yaxis": "y"
        },
        {
         "hovertemplate": "variable=yr_2015<br>value=%{x}<br>country_code=%{y}<extra></extra>",
         "legendgroup": "yr_2015",
         "marker": {
          "color": "#636efa",
          "symbol": "circle"
         },
         "mode": "markers",
         "name": "yr_2015",
         "orientation": "h",
         "showlegend": true,
         "type": "scatter",
         "x": [
          99.25507123,
          99.7655241,
          86.03796198,
          88.91148404,
          12.55582982,
          90.13175702,
          73.9135389,
          17.40283928,
          97.10370657
         ],
         "xaxis": "x",
         "y": [
          "CAN",
          "USA",
          "BRA",
          "MEX",
          "NER",
          "SYR",
          "ZAF",
          "COD",
          "THA"
         ],
         "yaxis": "y"
        },
        {
         "hovertemplate": "variable=yr_2016<br>value=%{x}<br>country_code=%{y}<extra></extra>",
         "legendgroup": "yr_2016",
         "marker": {
          "color": "#EF553B",
          "symbol": "circle"
         },
         "mode": "markers",
         "name": "yr_2016",
         "orientation": "h",
         "showlegend": true,
         "type": "scatter",
         "x": [
          99.19947682,
          99.74755356,
          86.86024254,
          89.62944687,
          12.99383525,
          90.05918385,
          74.84761764,
          16.98342625,
          97.45533132
         ],
         "xaxis": "x",
         "y": [
          "CAN",
          "USA",
          "BRA",
          "MEX",
          "NER",
          "SYR",
          "ZAF",
          "COD",
          "THA"
         ],
         "yaxis": "y"
        },
        {
         "hovertemplate": "variable=yr_2017<br>value=%{x}<br>country_code=%{y}<extra></extra>",
         "legendgroup": "yr_2017",
         "marker": {
          "color": "#00cc96",
          "symbol": "circle"
         },
         "mode": "markers",
         "name": "yr_2017",
         "orientation": "h",
         "showlegend": true,
         "type": "scatter",
         "x": [
          99.14388406,
          99.72996764,
          87.67795802,
          90.33947554,
          13.43185924,
          89.9790253,
          75.77086841,
          16.57227169,
          97.79090683
         ],
         "xaxis": "x",
         "y": [
          "CAN",
          "USA",
          "BRA",
          "MEX",
          "NER",
          "SYR",
          "ZAF",
          "COD",
          "THA"
         ],
         "yaxis": "y"
        },
        {
         "hovertemplate": "variable=yr_2018<br>value=%{x}<br>country_code=%{y}<extra></extra>",
         "legendgroup": "yr_2018",
         "marker": {
          "color": "#ab63fa",
          "symbol": "circle"
         },
         "mode": "markers",
         "name": "yr_2018",
         "orientation": "h",
         "showlegend": true,
         "type": "scatter",
         "x": [
          99.08828896,
          99.71277377,
          88.49054496,
          91.04184497,
          13.86985027,
          89.89132051,
          76.68318836,
          16.16946438,
          98.12521791
         ],
         "xaxis": "x",
         "y": [
          "CAN",
          "USA",
          "BRA",
          "MEX",
          "NER",
          "SYR",
          "ZAF",
          "COD",
          "THA"
         ],
         "yaxis": "y"
        },
        {
         "hovertemplate": "variable=yr_2019<br>value=%{x}<br>country_code=%{y}<extra></extra>",
         "legendgroup": "yr_2019",
         "marker": {
          "color": "#FFA15A",
          "symbol": "circle"
         },
         "mode": "markers",
         "name": "yr_2019",
         "orientation": "h",
         "showlegend": true,
         "type": "scatter",
         "x": [
          99.03268117,
          99.69599445,
          89.29879625,
          91.73666093,
          14.30938558,
          89.79611461,
          77.58447964,
          15.77493074,
          98.42052549
         ],
         "xaxis": "x",
         "y": [
          "CAN",
          "USA",
          "BRA",
          "MEX",
          "NER",
          "SYR",
          "ZAF",
          "COD",
          "THA"
         ],
         "yaxis": "y"
        },
        {
         "hovertemplate": "variable=yr_2020<br>value=%{x}<br>country_code=%{y}<extra></extra>",
         "legendgroup": "yr_2020",
         "marker": {
          "color": "#19d3f3",
          "symbol": "circle"
         },
         "mode": "markers",
         "name": "yr_2020",
         "orientation": "h",
         "showlegend": true,
         "type": "scatter",
         "x": [
          99.03286158,
          99.67961928,
          90.07847103,
          92.42406261,
          14.75130566,
          89.69347966,
          78.47461071,
          15.38867157,
          98.71311912
         ],
         "xaxis": "x",
         "y": [
          "CAN",
          "USA",
          "BRA",
          "MEX",
          "NER",
          "SYR",
          "ZAF",
          "COD",
          "THA"
         ],
         "yaxis": "y"
        }
       ],
       "layout": {
        "legend": {
         "title": {
          "text": "variable"
         },
         "tracegroupgap": 0
        },
        "template": {
         "data": {
          "bar": [
           {
            "error_x": {
             "color": "#2a3f5f"
            },
            "error_y": {
             "color": "#2a3f5f"
            },
            "marker": {
             "line": {
              "color": "#E5ECF6",
              "width": 0.5
             },
             "pattern": {
              "fillmode": "overlay",
              "size": 10,
              "solidity": 0.2
             }
            },
            "type": "bar"
           }
          ],
          "barpolar": [
           {
            "marker": {
             "line": {
              "color": "#E5ECF6",
              "width": 0.5
             },
             "pattern": {
              "fillmode": "overlay",
              "size": 10,
              "solidity": 0.2
             }
            },
            "type": "barpolar"
           }
          ],
          "carpet": [
           {
            "aaxis": {
             "endlinecolor": "#2a3f5f",
             "gridcolor": "white",
             "linecolor": "white",
             "minorgridcolor": "white",
             "startlinecolor": "#2a3f5f"
            },
            "baxis": {
             "endlinecolor": "#2a3f5f",
             "gridcolor": "white",
             "linecolor": "white",
             "minorgridcolor": "white",
             "startlinecolor": "#2a3f5f"
            },
            "type": "carpet"
           }
          ],
          "choropleth": [
           {
            "colorbar": {
             "outlinewidth": 0,
             "ticks": ""
            },
            "type": "choropleth"
           }
          ],
          "contour": [
           {
            "colorbar": {
             "outlinewidth": 0,
             "ticks": ""
            },
            "colorscale": [
             [
              0,
              "#0d0887"
             ],
             [
              0.1111111111111111,
              "#46039f"
             ],
             [
              0.2222222222222222,
              "#7201a8"
             ],
             [
              0.3333333333333333,
              "#9c179e"
             ],
             [
              0.4444444444444444,
              "#bd3786"
             ],
             [
              0.5555555555555556,
              "#d8576b"
             ],
             [
              0.6666666666666666,
              "#ed7953"
             ],
             [
              0.7777777777777778,
              "#fb9f3a"
             ],
             [
              0.8888888888888888,
              "#fdca26"
             ],
             [
              1,
              "#f0f921"
             ]
            ],
            "type": "contour"
           }
          ],
          "contourcarpet": [
           {
            "colorbar": {
             "outlinewidth": 0,
             "ticks": ""
            },
            "type": "contourcarpet"
           }
          ],
          "heatmap": [
           {
            "colorbar": {
             "outlinewidth": 0,
             "ticks": ""
            },
            "colorscale": [
             [
              0,
              "#0d0887"
             ],
             [
              0.1111111111111111,
              "#46039f"
             ],
             [
              0.2222222222222222,
              "#7201a8"
             ],
             [
              0.3333333333333333,
              "#9c179e"
             ],
             [
              0.4444444444444444,
              "#bd3786"
             ],
             [
              0.5555555555555556,
              "#d8576b"
             ],
             [
              0.6666666666666666,
              "#ed7953"
             ],
             [
              0.7777777777777778,
              "#fb9f3a"
             ],
             [
              0.8888888888888888,
              "#fdca26"
             ],
             [
              1,
              "#f0f921"
             ]
            ],
            "type": "heatmap"
           }
          ],
          "heatmapgl": [
           {
            "colorbar": {
             "outlinewidth": 0,
             "ticks": ""
            },
            "colorscale": [
             [
              0,
              "#0d0887"
             ],
             [
              0.1111111111111111,
              "#46039f"
             ],
             [
              0.2222222222222222,
              "#7201a8"
             ],
             [
              0.3333333333333333,
              "#9c179e"
             ],
             [
              0.4444444444444444,
              "#bd3786"
             ],
             [
              0.5555555555555556,
              "#d8576b"
             ],
             [
              0.6666666666666666,
              "#ed7953"
             ],
             [
              0.7777777777777778,
              "#fb9f3a"
             ],
             [
              0.8888888888888888,
              "#fdca26"
             ],
             [
              1,
              "#f0f921"
             ]
            ],
            "type": "heatmapgl"
           }
          ],
          "histogram": [
           {
            "marker": {
             "pattern": {
              "fillmode": "overlay",
              "size": 10,
              "solidity": 0.2
             }
            },
            "type": "histogram"
           }
          ],
          "histogram2d": [
           {
            "colorbar": {
             "outlinewidth": 0,
             "ticks": ""
            },
            "colorscale": [
             [
              0,
              "#0d0887"
             ],
             [
              0.1111111111111111,
              "#46039f"
             ],
             [
              0.2222222222222222,
              "#7201a8"
             ],
             [
              0.3333333333333333,
              "#9c179e"
             ],
             [
              0.4444444444444444,
              "#bd3786"
             ],
             [
              0.5555555555555556,
              "#d8576b"
             ],
             [
              0.6666666666666666,
              "#ed7953"
             ],
             [
              0.7777777777777778,
              "#fb9f3a"
             ],
             [
              0.8888888888888888,
              "#fdca26"
             ],
             [
              1,
              "#f0f921"
             ]
            ],
            "type": "histogram2d"
           }
          ],
          "histogram2dcontour": [
           {
            "colorbar": {
             "outlinewidth": 0,
             "ticks": ""
            },
            "colorscale": [
             [
              0,
              "#0d0887"
             ],
             [
              0.1111111111111111,
              "#46039f"
             ],
             [
              0.2222222222222222,
              "#7201a8"
             ],
             [
              0.3333333333333333,
              "#9c179e"
             ],
             [
              0.4444444444444444,
              "#bd3786"
             ],
             [
              0.5555555555555556,
              "#d8576b"
             ],
             [
              0.6666666666666666,
              "#ed7953"
             ],
             [
              0.7777777777777778,
              "#fb9f3a"
             ],
             [
              0.8888888888888888,
              "#fdca26"
             ],
             [
              1,
              "#f0f921"
             ]
            ],
            "type": "histogram2dcontour"
           }
          ],
          "mesh3d": [
           {
            "colorbar": {
             "outlinewidth": 0,
             "ticks": ""
            },
            "type": "mesh3d"
           }
          ],
          "parcoords": [
           {
            "line": {
             "colorbar": {
              "outlinewidth": 0,
              "ticks": ""
             }
            },
            "type": "parcoords"
           }
          ],
          "pie": [
           {
            "automargin": true,
            "type": "pie"
           }
          ],
          "scatter": [
           {
            "fillpattern": {
             "fillmode": "overlay",
             "size": 10,
             "solidity": 0.2
            },
            "type": "scatter"
           }
          ],
          "scatter3d": [
           {
            "line": {
             "colorbar": {
              "outlinewidth": 0,
              "ticks": ""
             }
            },
            "marker": {
             "colorbar": {
              "outlinewidth": 0,
              "ticks": ""
             }
            },
            "type": "scatter3d"
           }
          ],
          "scattercarpet": [
           {
            "marker": {
             "colorbar": {
              "outlinewidth": 0,
              "ticks": ""
             }
            },
            "type": "scattercarpet"
           }
          ],
          "scattergeo": [
           {
            "marker": {
             "colorbar": {
              "outlinewidth": 0,
              "ticks": ""
             }
            },
            "type": "scattergeo"
           }
          ],
          "scattergl": [
           {
            "marker": {
             "colorbar": {
              "outlinewidth": 0,
              "ticks": ""
             }
            },
            "type": "scattergl"
           }
          ],
          "scattermapbox": [
           {
            "marker": {
             "colorbar": {
              "outlinewidth": 0,
              "ticks": ""
             }
            },
            "type": "scattermapbox"
           }
          ],
          "scatterpolar": [
           {
            "marker": {
             "colorbar": {
              "outlinewidth": 0,
              "ticks": ""
             }
            },
            "type": "scatterpolar"
           }
          ],
          "scatterpolargl": [
           {
            "marker": {
             "colorbar": {
              "outlinewidth": 0,
              "ticks": ""
             }
            },
            "type": "scatterpolargl"
           }
          ],
          "scatterternary": [
           {
            "marker": {
             "colorbar": {
              "outlinewidth": 0,
              "ticks": ""
             }
            },
            "type": "scatterternary"
           }
          ],
          "surface": [
           {
            "colorbar": {
             "outlinewidth": 0,
             "ticks": ""
            },
            "colorscale": [
             [
              0,
              "#0d0887"
             ],
             [
              0.1111111111111111,
              "#46039f"
             ],
             [
              0.2222222222222222,
              "#7201a8"
             ],
             [
              0.3333333333333333,
              "#9c179e"
             ],
             [
              0.4444444444444444,
              "#bd3786"
             ],
             [
              0.5555555555555556,
              "#d8576b"
             ],
             [
              0.6666666666666666,
              "#ed7953"
             ],
             [
              0.7777777777777778,
              "#fb9f3a"
             ],
             [
              0.8888888888888888,
              "#fdca26"
             ],
             [
              1,
              "#f0f921"
             ]
            ],
            "type": "surface"
           }
          ],
          "table": [
           {
            "cells": {
             "fill": {
              "color": "#EBF0F8"
             },
             "line": {
              "color": "white"
             }
            },
            "header": {
             "fill": {
              "color": "#C8D4E3"
             },
             "line": {
              "color": "white"
             }
            },
            "type": "table"
           }
          ]
         },
         "layout": {
          "annotationdefaults": {
           "arrowcolor": "#2a3f5f",
           "arrowhead": 0,
           "arrowwidth": 1
          },
          "autotypenumbers": "strict",
          "coloraxis": {
           "colorbar": {
            "outlinewidth": 0,
            "ticks": ""
           }
          },
          "colorscale": {
           "diverging": [
            [
             0,
             "#8e0152"
            ],
            [
             0.1,
             "#c51b7d"
            ],
            [
             0.2,
             "#de77ae"
            ],
            [
             0.3,
             "#f1b6da"
            ],
            [
             0.4,
             "#fde0ef"
            ],
            [
             0.5,
             "#f7f7f7"
            ],
            [
             0.6,
             "#e6f5d0"
            ],
            [
             0.7,
             "#b8e186"
            ],
            [
             0.8,
             "#7fbc41"
            ],
            [
             0.9,
             "#4d9221"
            ],
            [
             1,
             "#276419"
            ]
           ],
           "sequential": [
            [
             0,
             "#0d0887"
            ],
            [
             0.1111111111111111,
             "#46039f"
            ],
            [
             0.2222222222222222,
             "#7201a8"
            ],
            [
             0.3333333333333333,
             "#9c179e"
            ],
            [
             0.4444444444444444,
             "#bd3786"
            ],
            [
             0.5555555555555556,
             "#d8576b"
            ],
            [
             0.6666666666666666,
             "#ed7953"
            ],
            [
             0.7777777777777778,
             "#fb9f3a"
            ],
            [
             0.8888888888888888,
             "#fdca26"
            ],
            [
             1,
             "#f0f921"
            ]
           ],
           "sequentialminus": [
            [
             0,
             "#0d0887"
            ],
            [
             0.1111111111111111,
             "#46039f"
            ],
            [
             0.2222222222222222,
             "#7201a8"
            ],
            [
             0.3333333333333333,
             "#9c179e"
            ],
            [
             0.4444444444444444,
             "#bd3786"
            ],
            [
             0.5555555555555556,
             "#d8576b"
            ],
            [
             0.6666666666666666,
             "#ed7953"
            ],
            [
             0.7777777777777778,
             "#fb9f3a"
            ],
            [
             0.8888888888888888,
             "#fdca26"
            ],
            [
             1,
             "#f0f921"
            ]
           ]
          },
          "colorway": [
           "#636efa",
           "#EF553B",
           "#00cc96",
           "#ab63fa",
           "#FFA15A",
           "#19d3f3",
           "#FF6692",
           "#B6E880",
           "#FF97FF",
           "#FECB52"
          ],
          "font": {
           "color": "#2a3f5f"
          },
          "geo": {
           "bgcolor": "white",
           "lakecolor": "white",
           "landcolor": "#E5ECF6",
           "showlakes": true,
           "showland": true,
           "subunitcolor": "white"
          },
          "hoverlabel": {
           "align": "left"
          },
          "hovermode": "closest",
          "mapbox": {
           "style": "light"
          },
          "paper_bgcolor": "white",
          "plot_bgcolor": "#E5ECF6",
          "polar": {
           "angularaxis": {
            "gridcolor": "white",
            "linecolor": "white",
            "ticks": ""
           },
           "bgcolor": "#E5ECF6",
           "radialaxis": {
            "gridcolor": "white",
            "linecolor": "white",
            "ticks": ""
           }
          },
          "scene": {
           "xaxis": {
            "backgroundcolor": "#E5ECF6",
            "gridcolor": "white",
            "gridwidth": 2,
            "linecolor": "white",
            "showbackground": true,
            "ticks": "",
            "zerolinecolor": "white"
           },
           "yaxis": {
            "backgroundcolor": "#E5ECF6",
            "gridcolor": "white",
            "gridwidth": 2,
            "linecolor": "white",
            "showbackground": true,
            "ticks": "",
            "zerolinecolor": "white"
           },
           "zaxis": {
            "backgroundcolor": "#E5ECF6",
            "gridcolor": "white",
            "gridwidth": 2,
            "linecolor": "white",
            "showbackground": true,
            "ticks": "",
            "zerolinecolor": "white"
           }
          },
          "shapedefaults": {
           "line": {
            "color": "#2a3f5f"
           }
          },
          "ternary": {
           "aaxis": {
            "gridcolor": "white",
            "linecolor": "white",
            "ticks": ""
           },
           "baxis": {
            "gridcolor": "white",
            "linecolor": "white",
            "ticks": ""
           },
           "bgcolor": "#E5ECF6",
           "caxis": {
            "gridcolor": "white",
            "linecolor": "white",
            "ticks": ""
           }
          },
          "title": {
           "x": 0.05
          },
          "xaxis": {
           "automargin": true,
           "gridcolor": "white",
           "linecolor": "white",
           "ticks": "",
           "title": {
            "standoff": 15
           },
           "zerolinecolor": "white",
           "zerolinewidth": 2
          },
          "yaxis": {
           "automargin": true,
           "gridcolor": "white",
           "linecolor": "white",
           "ticks": "",
           "title": {
            "standoff": 15
           },
           "zerolinecolor": "white",
           "zerolinewidth": 2
          }
         }
        },
        "title": {
         "text": "People using at least basic sanitation services \\(% of"
        },
        "width": 1000,
        "xaxis": {
         "anchor": "y",
         "domain": [
          0,
          1
         ],
         "title": {
          "text": "value"
         }
        },
        "yaxis": {
         "anchor": "x",
         "domain": [
          0,
          1
         ],
         "title": {
          "text": "country_code"
         }
        }
       }
      },
      "text/html": [
       "<div>                            <div id=\"ae924314-27b8-4d96-9643-fd68dca28f52\" class=\"plotly-graph-div\" style=\"height:525px; width:1000px;\"></div>            <script type=\"text/javascript\">                require([\"plotly\"], function(Plotly) {                    window.PLOTLYENV=window.PLOTLYENV || {};                                    if (document.getElementById(\"ae924314-27b8-4d96-9643-fd68dca28f52\")) {                    Plotly.newPlot(                        \"ae924314-27b8-4d96-9643-fd68dca28f52\",                        [{\"hovertemplate\":\"variable=yr_2005<br>value=%{x}<br>country_code=%{y}<extra></extra>\",\"legendgroup\":\"yr_2005\",\"marker\":{\"color\":\"#636efa\",\"symbol\":\"circle\"},\"mode\":\"markers\",\"name\":\"yr_2005\",\"orientation\":\"h\",\"showlegend\":true,\"x\":[99.80519484,99.8817868,77.56479232,81.27377788,7.901511602,91.0882877,64.01580626,22.05200139,93.83781676],\"xaxis\":\"x\",\"y\":[\"CAN\",\"USA\",\"BRA\",\"MEX\",\"NER\",\"SYR\",\"ZAF\",\"COD\",\"THA\"],\"yaxis\":\"y\",\"type\":\"scatter\"},{\"hovertemplate\":\"variable=yr_2006<br>value=%{x}<br>country_code=%{y}<extra></extra>\",\"legendgroup\":\"yr_2006\",\"marker\":{\"color\":\"#EF553B\",\"symbol\":\"circle\"},\"mode\":\"markers\",\"name\":\"yr_2006\",\"orientation\":\"h\",\"showlegend\":true,\"x\":[99.75033789,99.88154042,78.43290643,82.07830717,8.401596097,91.02442426,65.04813012,21.55023257,94.13753606],\"xaxis\":\"x\",\"y\":[\"CAN\",\"USA\",\"BRA\",\"MEX\",\"NER\",\"SYR\",\"ZAF\",\"COD\",\"THA\"],\"yaxis\":\"y\",\"type\":\"scatter\"},{\"hovertemplate\":\"variable=yr_2007<br>value=%{x}<br>country_code=%{y}<extra></extra>\",\"legendgroup\":\"yr_2007\",\"marker\":{\"color\":\"#00cc96\",\"symbol\":\"circle\"},\"mode\":\"markers\",\"name\":\"yr_2007\",\"orientation\":\"h\",\"showlegend\":true,\"x\":[99.69595411,99.88129549,79.29597638,82.87293106,8.8936197,90.95633527,66.07165911,21.05658611,94.4425781],\"xaxis\":\"x\",\"y\":[\"CAN\",\"USA\",\"BRA\",\"MEX\",\"NER\",\"SYR\",\"ZAF\",\"COD\",\"THA\"],\"yaxis\":\"y\",\"type\":\"scatter\"},{\"hovertemplate\":\"variable=yr_2008<br>value=%{x}<br>country_code=%{y}<extra></extra>\",\"legendgroup\":\"yr_2008\",\"marker\":{\"color\":\"#ab63fa\",\"symbol\":\"circle\"},\"mode\":\"markers\",\"name\":\"yr_2008\",\"orientation\":\"h\",\"showlegend\":true,\"x\":[99.6414571,99.8810546,80.1540827,83.65830449,9.377293422,90.88388403,67.08632138,20.57102918,94.75302481],\"xaxis\":\"x\",\"y\":[\"CAN\",\"USA\",\"BRA\",\"MEX\",\"NER\",\"SYR\",\"ZAF\",\"COD\",\"THA\"],\"yaxis\":\"y\",\"type\":\"scatter\"},{\"hovertemplate\":\"variable=yr_2009<br>value=%{x}<br>country_code=%{y}<extra></extra>\",\"legendgroup\":\"yr_2009\",\"marker\":{\"color\":\"#FFA15A\",\"symbol\":\"circle\"},\"mode\":\"markers\",\"name\":\"yr_2009\",\"orientation\":\"h\",\"showlegend\":true,\"x\":[99.5868457,99.88081511,81.00652682,84.43419231,9.853170088,90.80703479,68.0912245,20.09368866,95.06909558],\"xaxis\":\"x\",\"y\":[\"CAN\",\"USA\",\"BRA\",\"MEX\",\"NER\",\"SYR\",\"ZAF\",\"COD\",\"THA\"],\"yaxis\":\"y\",\"type\":\"scatter\"},{\"hovertemplate\":\"variable=yr_2010<br>value=%{x}<br>country_code=%{y}<extra></extra>\",\"legendgroup\":\"yr_2010\",\"marker\":{\"color\":\"#19d3f3\",\"symbol\":\"circle\"},\"mode\":\"markers\",\"name\":\"yr_2010\",\"orientation\":\"h\",\"showlegend\":true,\"x\":[99.53213067,99.86076619,81.85420444,85.20102819,10.32097412,90.7259759,69.08668367,19.62451329,95.39077552],\"xaxis\":\"x\",\"y\":[\"CAN\",\"USA\",\"BRA\",\"MEX\",\"NER\",\"SYR\",\"ZAF\",\"COD\",\"THA\"],\"yaxis\":\"y\",\"type\":\"scatter\"},{\"hovertemplate\":\"variable=yr_2011<br>value=%{x}<br>country_code=%{y}<extra></extra>\",\"legendgroup\":\"yr_2011\",\"marker\":{\"color\":\"#FF6692\",\"symbol\":\"circle\"},\"mode\":\"markers\",\"name\":\"yr_2011\",\"orientation\":\"h\",\"showlegend\":true,\"x\":[99.47721571,99.84103269,82.70058102,85.95971004,10.78038007,90.57767283,70.07234949,19.16364168,95.72517684],\"xaxis\":\"x\",\"y\":[\"CAN\",\"USA\",\"BRA\",\"MEX\",\"NER\",\"SYR\",\"ZAF\",\"COD\",\"THA\"],\"yaxis\":\"y\",\"type\":\"scatter\"},{\"hovertemplate\":\"variable=yr_2012<br>value=%{x}<br>country_code=%{y}<extra></extra>\",\"legendgroup\":\"yr_2012\",\"marker\":{\"color\":\"#B6E880\",\"symbol\":\"circle\"},\"mode\":\"markers\",\"name\":\"yr_2012\",\"orientation\":\"h\",\"showlegend\":true,\"x\":[99.42171918,99.82162867,83.54222598,86.70980432,11.23201288,90.43993583,71.04814234,18.71100167,96.06462166],\"xaxis\":\"x\",\"y\":[\"CAN\",\"USA\",\"BRA\",\"MEX\",\"NER\",\"SYR\",\"ZAF\",\"COD\",\"THA\"],\"yaxis\":\"y\",\"type\":\"scatter\"},{\"hovertemplate\":\"variable=yr_2013<br>value=%{x}<br>country_code=%{y}<extra></extra>\",\"legendgroup\":\"yr_2013\",\"marker\":{\"color\":\"#FF97FF\",\"symbol\":\"circle\"},\"mode\":\"markers\",\"name\":\"yr_2013\",\"orientation\":\"h\",\"showlegend\":true,\"x\":[99.36619078,99.80256859,84.37851825,87.45178303,11.67555994,90.31297485,72.01358167,18.26661658,96.40752741],\"xaxis\":\"x\",\"y\":[\"CAN\",\"USA\",\"BRA\",\"MEX\",\"NER\",\"SYR\",\"ZAF\",\"COD\",\"THA\"],\"yaxis\":\"y\",\"type\":\"scatter\"},{\"hovertemplate\":\"variable=yr_2014<br>value=%{x}<br>country_code=%{y}<extra></extra>\",\"legendgroup\":\"yr_2014\",\"marker\":{\"color\":\"#FECB52\",\"symbol\":\"circle\"},\"mode\":\"markers\",\"name\":\"yr_2014\",\"orientation\":\"h\",\"showlegend\":true,\"x\":[99.31064352,99.78386084,85.21064211,88.18573213,12.11638501,90.19673733,72.96880358,17.83057536,96.75388237],\"xaxis\":\"x\",\"y\":[\"CAN\",\"USA\",\"BRA\",\"MEX\",\"NER\",\"SYR\",\"ZAF\",\"COD\",\"THA\"],\"yaxis\":\"y\",\"type\":\"scatter\"},{\"hovertemplate\":\"variable=yr_2015<br>value=%{x}<br>country_code=%{y}<extra></extra>\",\"legendgroup\":\"yr_2015\",\"marker\":{\"color\":\"#636efa\",\"symbol\":\"circle\"},\"mode\":\"markers\",\"name\":\"yr_2015\",\"orientation\":\"h\",\"showlegend\":true,\"x\":[99.25507123,99.7655241,86.03796198,88.91148404,12.55582982,90.13175702,73.9135389,17.40283928,97.10370657],\"xaxis\":\"x\",\"y\":[\"CAN\",\"USA\",\"BRA\",\"MEX\",\"NER\",\"SYR\",\"ZAF\",\"COD\",\"THA\"],\"yaxis\":\"y\",\"type\":\"scatter\"},{\"hovertemplate\":\"variable=yr_2016<br>value=%{x}<br>country_code=%{y}<extra></extra>\",\"legendgroup\":\"yr_2016\",\"marker\":{\"color\":\"#EF553B\",\"symbol\":\"circle\"},\"mode\":\"markers\",\"name\":\"yr_2016\",\"orientation\":\"h\",\"showlegend\":true,\"x\":[99.19947682,99.74755356,86.86024254,89.62944687,12.99383525,90.05918385,74.84761764,16.98342625,97.45533132],\"xaxis\":\"x\",\"y\":[\"CAN\",\"USA\",\"BRA\",\"MEX\",\"NER\",\"SYR\",\"ZAF\",\"COD\",\"THA\"],\"yaxis\":\"y\",\"type\":\"scatter\"},{\"hovertemplate\":\"variable=yr_2017<br>value=%{x}<br>country_code=%{y}<extra></extra>\",\"legendgroup\":\"yr_2017\",\"marker\":{\"color\":\"#00cc96\",\"symbol\":\"circle\"},\"mode\":\"markers\",\"name\":\"yr_2017\",\"orientation\":\"h\",\"showlegend\":true,\"x\":[99.14388406,99.72996764,87.67795802,90.33947554,13.43185924,89.9790253,75.77086841,16.57227169,97.79090683],\"xaxis\":\"x\",\"y\":[\"CAN\",\"USA\",\"BRA\",\"MEX\",\"NER\",\"SYR\",\"ZAF\",\"COD\",\"THA\"],\"yaxis\":\"y\",\"type\":\"scatter\"},{\"hovertemplate\":\"variable=yr_2018<br>value=%{x}<br>country_code=%{y}<extra></extra>\",\"legendgroup\":\"yr_2018\",\"marker\":{\"color\":\"#ab63fa\",\"symbol\":\"circle\"},\"mode\":\"markers\",\"name\":\"yr_2018\",\"orientation\":\"h\",\"showlegend\":true,\"x\":[99.08828896,99.71277377,88.49054496,91.04184497,13.86985027,89.89132051,76.68318836,16.16946438,98.12521791],\"xaxis\":\"x\",\"y\":[\"CAN\",\"USA\",\"BRA\",\"MEX\",\"NER\",\"SYR\",\"ZAF\",\"COD\",\"THA\"],\"yaxis\":\"y\",\"type\":\"scatter\"},{\"hovertemplate\":\"variable=yr_2019<br>value=%{x}<br>country_code=%{y}<extra></extra>\",\"legendgroup\":\"yr_2019\",\"marker\":{\"color\":\"#FFA15A\",\"symbol\":\"circle\"},\"mode\":\"markers\",\"name\":\"yr_2019\",\"orientation\":\"h\",\"showlegend\":true,\"x\":[99.03268117,99.69599445,89.29879625,91.73666093,14.30938558,89.79611461,77.58447964,15.77493074,98.42052549],\"xaxis\":\"x\",\"y\":[\"CAN\",\"USA\",\"BRA\",\"MEX\",\"NER\",\"SYR\",\"ZAF\",\"COD\",\"THA\"],\"yaxis\":\"y\",\"type\":\"scatter\"},{\"hovertemplate\":\"variable=yr_2020<br>value=%{x}<br>country_code=%{y}<extra></extra>\",\"legendgroup\":\"yr_2020\",\"marker\":{\"color\":\"#19d3f3\",\"symbol\":\"circle\"},\"mode\":\"markers\",\"name\":\"yr_2020\",\"orientation\":\"h\",\"showlegend\":true,\"x\":[99.03286158,99.67961928,90.07847103,92.42406261,14.75130566,89.69347966,78.47461071,15.38867157,98.71311912],\"xaxis\":\"x\",\"y\":[\"CAN\",\"USA\",\"BRA\",\"MEX\",\"NER\",\"SYR\",\"ZAF\",\"COD\",\"THA\"],\"yaxis\":\"y\",\"type\":\"scatter\"}],                        {\"template\":{\"data\":{\"histogram2dcontour\":[{\"type\":\"histogram2dcontour\",\"colorbar\":{\"outlinewidth\":0,\"ticks\":\"\"},\"colorscale\":[[0.0,\"#0d0887\"],[0.1111111111111111,\"#46039f\"],[0.2222222222222222,\"#7201a8\"],[0.3333333333333333,\"#9c179e\"],[0.4444444444444444,\"#bd3786\"],[0.5555555555555556,\"#d8576b\"],[0.6666666666666666,\"#ed7953\"],[0.7777777777777778,\"#fb9f3a\"],[0.8888888888888888,\"#fdca26\"],[1.0,\"#f0f921\"]]}],\"choropleth\":[{\"type\":\"choropleth\",\"colorbar\":{\"outlinewidth\":0,\"ticks\":\"\"}}],\"histogram2d\":[{\"type\":\"histogram2d\",\"colorbar\":{\"outlinewidth\":0,\"ticks\":\"\"},\"colorscale\":[[0.0,\"#0d0887\"],[0.1111111111111111,\"#46039f\"],[0.2222222222222222,\"#7201a8\"],[0.3333333333333333,\"#9c179e\"],[0.4444444444444444,\"#bd3786\"],[0.5555555555555556,\"#d8576b\"],[0.6666666666666666,\"#ed7953\"],[0.7777777777777778,\"#fb9f3a\"],[0.8888888888888888,\"#fdca26\"],[1.0,\"#f0f921\"]]}],\"heatmap\":[{\"type\":\"heatmap\",\"colorbar\":{\"outlinewidth\":0,\"ticks\":\"\"},\"colorscale\":[[0.0,\"#0d0887\"],[0.1111111111111111,\"#46039f\"],[0.2222222222222222,\"#7201a8\"],[0.3333333333333333,\"#9c179e\"],[0.4444444444444444,\"#bd3786\"],[0.5555555555555556,\"#d8576b\"],[0.6666666666666666,\"#ed7953\"],[0.7777777777777778,\"#fb9f3a\"],[0.8888888888888888,\"#fdca26\"],[1.0,\"#f0f921\"]]}],\"heatmapgl\":[{\"type\":\"heatmapgl\",\"colorbar\":{\"outlinewidth\":0,\"ticks\":\"\"},\"colorscale\":[[0.0,\"#0d0887\"],[0.1111111111111111,\"#46039f\"],[0.2222222222222222,\"#7201a8\"],[0.3333333333333333,\"#9c179e\"],[0.4444444444444444,\"#bd3786\"],[0.5555555555555556,\"#d8576b\"],[0.6666666666666666,\"#ed7953\"],[0.7777777777777778,\"#fb9f3a\"],[0.8888888888888888,\"#fdca26\"],[1.0,\"#f0f921\"]]}],\"contourcarpet\":[{\"type\":\"contourcarpet\",\"colorbar\":{\"outlinewidth\":0,\"ticks\":\"\"}}],\"contour\":[{\"type\":\"contour\",\"colorbar\":{\"outlinewidth\":0,\"ticks\":\"\"},\"colorscale\":[[0.0,\"#0d0887\"],[0.1111111111111111,\"#46039f\"],[0.2222222222222222,\"#7201a8\"],[0.3333333333333333,\"#9c179e\"],[0.4444444444444444,\"#bd3786\"],[0.5555555555555556,\"#d8576b\"],[0.6666666666666666,\"#ed7953\"],[0.7777777777777778,\"#fb9f3a\"],[0.8888888888888888,\"#fdca26\"],[1.0,\"#f0f921\"]]}],\"surface\":[{\"type\":\"surface\",\"colorbar\":{\"outlinewidth\":0,\"ticks\":\"\"},\"colorscale\":[[0.0,\"#0d0887\"],[0.1111111111111111,\"#46039f\"],[0.2222222222222222,\"#7201a8\"],[0.3333333333333333,\"#9c179e\"],[0.4444444444444444,\"#bd3786\"],[0.5555555555555556,\"#d8576b\"],[0.6666666666666666,\"#ed7953\"],[0.7777777777777778,\"#fb9f3a\"],[0.8888888888888888,\"#fdca26\"],[1.0,\"#f0f921\"]]}],\"mesh3d\":[{\"type\":\"mesh3d\",\"colorbar\":{\"outlinewidth\":0,\"ticks\":\"\"}}],\"scatter\":[{\"fillpattern\":{\"fillmode\":\"overlay\",\"size\":10,\"solidity\":0.2},\"type\":\"scatter\"}],\"parcoords\":[{\"type\":\"parcoords\",\"line\":{\"colorbar\":{\"outlinewidth\":0,\"ticks\":\"\"}}}],\"scatterpolargl\":[{\"type\":\"scatterpolargl\",\"marker\":{\"colorbar\":{\"outlinewidth\":0,\"ticks\":\"\"}}}],\"bar\":[{\"error_x\":{\"color\":\"#2a3f5f\"},\"error_y\":{\"color\":\"#2a3f5f\"},\"marker\":{\"line\":{\"color\":\"#E5ECF6\",\"width\":0.5},\"pattern\":{\"fillmode\":\"overlay\",\"size\":10,\"solidity\":0.2}},\"type\":\"bar\"}],\"scattergeo\":[{\"type\":\"scattergeo\",\"marker\":{\"colorbar\":{\"outlinewidth\":0,\"ticks\":\"\"}}}],\"scatterpolar\":[{\"type\":\"scatterpolar\",\"marker\":{\"colorbar\":{\"outlinewidth\":0,\"ticks\":\"\"}}}],\"histogram\":[{\"marker\":{\"pattern\":{\"fillmode\":\"overlay\",\"size\":10,\"solidity\":0.2}},\"type\":\"histogram\"}],\"scattergl\":[{\"type\":\"scattergl\",\"marker\":{\"colorbar\":{\"outlinewidth\":0,\"ticks\":\"\"}}}],\"scatter3d\":[{\"type\":\"scatter3d\",\"line\":{\"colorbar\":{\"outlinewidth\":0,\"ticks\":\"\"}},\"marker\":{\"colorbar\":{\"outlinewidth\":0,\"ticks\":\"\"}}}],\"scattermapbox\":[{\"type\":\"scattermapbox\",\"marker\":{\"colorbar\":{\"outlinewidth\":0,\"ticks\":\"\"}}}],\"scatterternary\":[{\"type\":\"scatterternary\",\"marker\":{\"colorbar\":{\"outlinewidth\":0,\"ticks\":\"\"}}}],\"scattercarpet\":[{\"type\":\"scattercarpet\",\"marker\":{\"colorbar\":{\"outlinewidth\":0,\"ticks\":\"\"}}}],\"carpet\":[{\"aaxis\":{\"endlinecolor\":\"#2a3f5f\",\"gridcolor\":\"white\",\"linecolor\":\"white\",\"minorgridcolor\":\"white\",\"startlinecolor\":\"#2a3f5f\"},\"baxis\":{\"endlinecolor\":\"#2a3f5f\",\"gridcolor\":\"white\",\"linecolor\":\"white\",\"minorgridcolor\":\"white\",\"startlinecolor\":\"#2a3f5f\"},\"type\":\"carpet\"}],\"table\":[{\"cells\":{\"fill\":{\"color\":\"#EBF0F8\"},\"line\":{\"color\":\"white\"}},\"header\":{\"fill\":{\"color\":\"#C8D4E3\"},\"line\":{\"color\":\"white\"}},\"type\":\"table\"}],\"barpolar\":[{\"marker\":{\"line\":{\"color\":\"#E5ECF6\",\"width\":0.5},\"pattern\":{\"fillmode\":\"overlay\",\"size\":10,\"solidity\":0.2}},\"type\":\"barpolar\"}],\"pie\":[{\"automargin\":true,\"type\":\"pie\"}]},\"layout\":{\"autotypenumbers\":\"strict\",\"colorway\":[\"#636efa\",\"#EF553B\",\"#00cc96\",\"#ab63fa\",\"#FFA15A\",\"#19d3f3\",\"#FF6692\",\"#B6E880\",\"#FF97FF\",\"#FECB52\"],\"font\":{\"color\":\"#2a3f5f\"},\"hovermode\":\"closest\",\"hoverlabel\":{\"align\":\"left\"},\"paper_bgcolor\":\"white\",\"plot_bgcolor\":\"#E5ECF6\",\"polar\":{\"bgcolor\":\"#E5ECF6\",\"angularaxis\":{\"gridcolor\":\"white\",\"linecolor\":\"white\",\"ticks\":\"\"},\"radialaxis\":{\"gridcolor\":\"white\",\"linecolor\":\"white\",\"ticks\":\"\"}},\"ternary\":{\"bgcolor\":\"#E5ECF6\",\"aaxis\":{\"gridcolor\":\"white\",\"linecolor\":\"white\",\"ticks\":\"\"},\"baxis\":{\"gridcolor\":\"white\",\"linecolor\":\"white\",\"ticks\":\"\"},\"caxis\":{\"gridcolor\":\"white\",\"linecolor\":\"white\",\"ticks\":\"\"}},\"coloraxis\":{\"colorbar\":{\"outlinewidth\":0,\"ticks\":\"\"}},\"colorscale\":{\"sequential\":[[0.0,\"#0d0887\"],[0.1111111111111111,\"#46039f\"],[0.2222222222222222,\"#7201a8\"],[0.3333333333333333,\"#9c179e\"],[0.4444444444444444,\"#bd3786\"],[0.5555555555555556,\"#d8576b\"],[0.6666666666666666,\"#ed7953\"],[0.7777777777777778,\"#fb9f3a\"],[0.8888888888888888,\"#fdca26\"],[1.0,\"#f0f921\"]],\"sequentialminus\":[[0.0,\"#0d0887\"],[0.1111111111111111,\"#46039f\"],[0.2222222222222222,\"#7201a8\"],[0.3333333333333333,\"#9c179e\"],[0.4444444444444444,\"#bd3786\"],[0.5555555555555556,\"#d8576b\"],[0.6666666666666666,\"#ed7953\"],[0.7777777777777778,\"#fb9f3a\"],[0.8888888888888888,\"#fdca26\"],[1.0,\"#f0f921\"]],\"diverging\":[[0,\"#8e0152\"],[0.1,\"#c51b7d\"],[0.2,\"#de77ae\"],[0.3,\"#f1b6da\"],[0.4,\"#fde0ef\"],[0.5,\"#f7f7f7\"],[0.6,\"#e6f5d0\"],[0.7,\"#b8e186\"],[0.8,\"#7fbc41\"],[0.9,\"#4d9221\"],[1,\"#276419\"]]},\"xaxis\":{\"gridcolor\":\"white\",\"linecolor\":\"white\",\"ticks\":\"\",\"title\":{\"standoff\":15},\"zerolinecolor\":\"white\",\"automargin\":true,\"zerolinewidth\":2},\"yaxis\":{\"gridcolor\":\"white\",\"linecolor\":\"white\",\"ticks\":\"\",\"title\":{\"standoff\":15},\"zerolinecolor\":\"white\",\"automargin\":true,\"zerolinewidth\":2},\"scene\":{\"xaxis\":{\"backgroundcolor\":\"#E5ECF6\",\"gridcolor\":\"white\",\"linecolor\":\"white\",\"showbackground\":true,\"ticks\":\"\",\"zerolinecolor\":\"white\",\"gridwidth\":2},\"yaxis\":{\"backgroundcolor\":\"#E5ECF6\",\"gridcolor\":\"white\",\"linecolor\":\"white\",\"showbackground\":true,\"ticks\":\"\",\"zerolinecolor\":\"white\",\"gridwidth\":2},\"zaxis\":{\"backgroundcolor\":\"#E5ECF6\",\"gridcolor\":\"white\",\"linecolor\":\"white\",\"showbackground\":true,\"ticks\":\"\",\"zerolinecolor\":\"white\",\"gridwidth\":2}},\"shapedefaults\":{\"line\":{\"color\":\"#2a3f5f\"}},\"annotationdefaults\":{\"arrowcolor\":\"#2a3f5f\",\"arrowhead\":0,\"arrowwidth\":1},\"geo\":{\"bgcolor\":\"white\",\"landcolor\":\"#E5ECF6\",\"subunitcolor\":\"white\",\"showland\":true,\"showlakes\":true,\"lakecolor\":\"white\"},\"title\":{\"x\":0.05},\"mapbox\":{\"style\":\"light\"}}},\"xaxis\":{\"anchor\":\"y\",\"domain\":[0.0,1.0],\"title\":{\"text\":\"value\"}},\"yaxis\":{\"anchor\":\"x\",\"domain\":[0.0,1.0],\"title\":{\"text\":\"country_code\"}},\"legend\":{\"title\":{\"text\":\"variable\"},\"tracegroupgap\":0},\"title\":{\"text\":\"People using at least basic sanitation services \\\\(% of\"},\"width\":1000},                        {\"responsive\": true}                    ).then(function(){\n",
       "                            \n",
       "var gd = document.getElementById('ae924314-27b8-4d96-9643-fd68dca28f52');\n",
       "var x = new MutationObserver(function (mutations, observer) {{\n",
       "        var display = window.getComputedStyle(gd).display;\n",
       "        if (!display || display === 'none') {{\n",
       "            console.log([gd, 'removed!']);\n",
       "            Plotly.purge(gd);\n",
       "            observer.disconnect();\n",
       "        }}\n",
       "}});\n",
       "\n",
       "// Listen for the removal of the full notebook cells\n",
       "var notebookContainer = gd.closest('#notebook-container');\n",
       "if (notebookContainer) {{\n",
       "    x.observe(notebookContainer, {childList: true});\n",
       "}}\n",
       "\n",
       "// Listen for the clearing of the current output cell\n",
       "var outputEl = gd.closest('.output');\n",
       "if (outputEl) {{\n",
       "    x.observe(outputEl, {childList: true});\n",
       "}}\n",
       "\n",
       "                        })                };                });            </script>        </div>"
      ]
     },
     "metadata": {},
     "output_type": "display_data"
    }
   ],
   "source": [
    "##############Scatter plot analysis ################\n",
    "#scatter plot quality of life metric - People using at least basic sanitation services \\(% of\n",
    "\n",
    "df=basicSan\n",
    "\n",
    "df.plot(\n",
    "    title='People using at least basic sanitation services \\(% of',\n",
    "    kind='scatter',\n",
    "    x= df.drop(['country_code'], axis = 1).columns, #['yr_2005', 'yr_2006','yr_2007','yr_2008','yr_2009', 'yr_2011'], \n",
    "    y='country_code', \n",
    "    backend='plotly', \n",
    "    width=1000, \n",
    "    \n",
    ")\n",
    "\n"
   ]
  },
  {
   "cell_type": "code",
   "execution_count": 146,
   "id": "f353ec05",
   "metadata": {},
   "outputs": [
    {
     "data": {
      "text/plain": [
       "<AxesSubplot:>"
      ]
     },
     "execution_count": 146,
     "metadata": {},
     "output_type": "execute_result"
    },
    {
     "data": {
      "image/png": "[encoded data removed]",
      "text/plain": [
       "<Figure size 1440x720 with 1 Axes>"
      ]
     },
     "metadata": {},
     "output_type": "display_data"
    }
   ],
   "source": [
    "####Boxplot Basic sanitation #######\n",
    "df=basicSan\n",
    "\n",
    "df.boxplot(column=list(df.drop(['country_code'], axis = 1).columns), rot=45, fontsize=15, figsize=(20,10))"
   ]
  },
  {
   "cell_type": "code",
   "execution_count": 163,
   "id": "7b2371c5",
   "metadata": {},
   "outputs": [
    {
     "data": {
      "text/plain": [
       "<AxesSubplot:ylabel='Frequency'>"
      ]
     },
     "execution_count": 163,
     "metadata": {},
     "output_type": "execute_result"
    },
    {
     "data": {
      "image/png": "[encoded data removed]",
      "text/plain": [
       "<Figure size 432x288 with 1 Axes>"
      ]
     },
     "metadata": {},
     "output_type": "display_data"
    }
   ],
   "source": [
    "#####Histogram Basic sanitation #####\n",
    "df.plot.hist(bins=20, alpha=0.75)"
   ]
  },
  {
   "cell_type": "code",
   "execution_count": 116,
   "id": "handled-curtis",
   "metadata": {},
   "outputs": [
    {
     "data": {
      "text/html": [
       "<div>\n",
       "<style scoped>\n",
       "    .dataframe tbody tr th:only-of-type {\n",
       "        vertical-align: middle;\n",
       "    }\n",
       "\n",
       "    .dataframe tbody tr th {\n",
       "        vertical-align: top;\n",
       "    }\n",
       "\n",
       "    .dataframe thead th {\n",
       "        text-align: right;\n",
       "    }\n",
       "</style>\n",
       "<table border=\"1\" class=\"dataframe\">\n",
       "  <thead>\n",
       "    <tr style=\"text-align: right;\">\n",
       "      <th></th>\n",
       "      <th>countrycode</th>\n",
       "      <th>yr_2005_x</th>\n",
       "      <th>yr_2006_x</th>\n",
       "      <th>yr_2007_x</th>\n",
       "      <th>yr_2008_x</th>\n",
       "      <th>yr_2009_x</th>\n",
       "      <th>yr_2010_x</th>\n",
       "      <th>yr_2011_x</th>\n",
       "      <th>yr_2012_x</th>\n",
       "      <th>yr_2013_x</th>\n",
       "      <th>...</th>\n",
       "      <th>yr_2011_y</th>\n",
       "      <th>yr_2012_y</th>\n",
       "      <th>yr_2013_y</th>\n",
       "      <th>yr_2014_y</th>\n",
       "      <th>yr_2015_y</th>\n",
       "      <th>yr_2016_y</th>\n",
       "      <th>yr_2017_y</th>\n",
       "      <th>yr_2018_y</th>\n",
       "      <th>yr_2019_y</th>\n",
       "      <th>yr_2020_y</th>\n",
       "    </tr>\n",
       "  </thead>\n",
       "  <tbody>\n",
       "    <tr>\n",
       "      <th>0</th>\n",
       "      <td>CAN</td>\n",
       "      <td>6.760000</td>\n",
       "      <td>6.320</td>\n",
       "      <td>6.040000</td>\n",
       "      <td>6.140</td>\n",
       "      <td>8.340</td>\n",
       "      <td>8.060</td>\n",
       "      <td>7.510000</td>\n",
       "      <td>7.290</td>\n",
       "      <td>7.070000</td>\n",
       "      <td>...</td>\n",
       "      <td>99.477216</td>\n",
       "      <td>99.421719</td>\n",
       "      <td>99.366191</td>\n",
       "      <td>99.310644</td>\n",
       "      <td>99.255071</td>\n",
       "      <td>99.199477</td>\n",
       "      <td>99.143884</td>\n",
       "      <td>99.088289</td>\n",
       "      <td>99.032681</td>\n",
       "      <td>99.032862</td>\n",
       "    </tr>\n",
       "    <tr>\n",
       "      <th>1</th>\n",
       "      <td>USA</td>\n",
       "      <td>5.080000</td>\n",
       "      <td>4.620</td>\n",
       "      <td>4.620000</td>\n",
       "      <td>5.780</td>\n",
       "      <td>9.250</td>\n",
       "      <td>9.630</td>\n",
       "      <td>8.950000</td>\n",
       "      <td>8.070</td>\n",
       "      <td>7.370000</td>\n",
       "      <td>...</td>\n",
       "      <td>99.841033</td>\n",
       "      <td>99.821629</td>\n",
       "      <td>99.802569</td>\n",
       "      <td>99.783861</td>\n",
       "      <td>99.765524</td>\n",
       "      <td>99.747554</td>\n",
       "      <td>99.729968</td>\n",
       "      <td>99.712774</td>\n",
       "      <td>99.695994</td>\n",
       "      <td>99.679619</td>\n",
       "    </tr>\n",
       "    <tr>\n",
       "      <th>2</th>\n",
       "      <td>BRA</td>\n",
       "      <td>9.570000</td>\n",
       "      <td>8.640</td>\n",
       "      <td>8.330000</td>\n",
       "      <td>7.340</td>\n",
       "      <td>8.520</td>\n",
       "      <td>7.274</td>\n",
       "      <td>6.920000</td>\n",
       "      <td>7.190</td>\n",
       "      <td>6.980000</td>\n",
       "      <td>...</td>\n",
       "      <td>82.700581</td>\n",
       "      <td>83.542226</td>\n",
       "      <td>84.378518</td>\n",
       "      <td>85.210642</td>\n",
       "      <td>86.037962</td>\n",
       "      <td>86.860243</td>\n",
       "      <td>87.677958</td>\n",
       "      <td>88.490545</td>\n",
       "      <td>89.298796</td>\n",
       "      <td>90.078471</td>\n",
       "    </tr>\n",
       "    <tr>\n",
       "      <th>3</th>\n",
       "      <td>MEX</td>\n",
       "      <td>3.560000</td>\n",
       "      <td>3.570</td>\n",
       "      <td>3.630000</td>\n",
       "      <td>3.870</td>\n",
       "      <td>5.360</td>\n",
       "      <td>5.300</td>\n",
       "      <td>5.170000</td>\n",
       "      <td>4.890</td>\n",
       "      <td>4.910000</td>\n",
       "      <td>...</td>\n",
       "      <td>85.959710</td>\n",
       "      <td>86.709804</td>\n",
       "      <td>87.451783</td>\n",
       "      <td>88.185732</td>\n",
       "      <td>88.911484</td>\n",
       "      <td>89.629447</td>\n",
       "      <td>90.339476</td>\n",
       "      <td>91.041845</td>\n",
       "      <td>91.736661</td>\n",
       "      <td>92.424063</td>\n",
       "    </tr>\n",
       "    <tr>\n",
       "      <th>4</th>\n",
       "      <td>NER</td>\n",
       "      <td>3.100000</td>\n",
       "      <td>2.649</td>\n",
       "      <td>2.203000</td>\n",
       "      <td>1.710</td>\n",
       "      <td>1.267</td>\n",
       "      <td>0.779</td>\n",
       "      <td>0.320000</td>\n",
       "      <td>2.180</td>\n",
       "      <td>1.369000</td>\n",
       "      <td>...</td>\n",
       "      <td>10.780380</td>\n",
       "      <td>11.232013</td>\n",
       "      <td>11.675560</td>\n",
       "      <td>12.116385</td>\n",
       "      <td>12.555830</td>\n",
       "      <td>12.993835</td>\n",
       "      <td>13.431859</td>\n",
       "      <td>13.869850</td>\n",
       "      <td>14.309386</td>\n",
       "      <td>14.751306</td>\n",
       "    </tr>\n",
       "    <tr>\n",
       "      <th>5</th>\n",
       "      <td>SYR</td>\n",
       "      <td>8.853000</td>\n",
       "      <td>8.170</td>\n",
       "      <td>8.420000</td>\n",
       "      <td>10.940</td>\n",
       "      <td>8.140</td>\n",
       "      <td>8.610</td>\n",
       "      <td>8.697000</td>\n",
       "      <td>8.808</td>\n",
       "      <td>8.826000</td>\n",
       "      <td>...</td>\n",
       "      <td>90.577673</td>\n",
       "      <td>90.439936</td>\n",
       "      <td>90.312975</td>\n",
       "      <td>90.196737</td>\n",
       "      <td>90.131757</td>\n",
       "      <td>90.059184</td>\n",
       "      <td>89.979025</td>\n",
       "      <td>89.891321</td>\n",
       "      <td>89.796115</td>\n",
       "      <td>89.693480</td>\n",
       "    </tr>\n",
       "    <tr>\n",
       "      <th>6</th>\n",
       "      <td>ZAF</td>\n",
       "      <td>29.120001</td>\n",
       "      <td>28.340</td>\n",
       "      <td>26.540001</td>\n",
       "      <td>22.410</td>\n",
       "      <td>23.520</td>\n",
       "      <td>24.680</td>\n",
       "      <td>24.639999</td>\n",
       "      <td>24.730</td>\n",
       "      <td>24.559999</td>\n",
       "      <td>...</td>\n",
       "      <td>70.072349</td>\n",
       "      <td>71.048142</td>\n",
       "      <td>72.013582</td>\n",
       "      <td>72.968804</td>\n",
       "      <td>73.913539</td>\n",
       "      <td>74.847618</td>\n",
       "      <td>75.770868</td>\n",
       "      <td>76.683188</td>\n",
       "      <td>77.584480</td>\n",
       "      <td>78.474611</td>\n",
       "    </tr>\n",
       "    <tr>\n",
       "      <th>7</th>\n",
       "      <td>COD</td>\n",
       "      <td>2.850000</td>\n",
       "      <td>3.083</td>\n",
       "      <td>3.313000</td>\n",
       "      <td>3.547</td>\n",
       "      <td>3.793</td>\n",
       "      <td>4.014</td>\n",
       "      <td>4.252000</td>\n",
       "      <td>4.490</td>\n",
       "      <td>4.476000</td>\n",
       "      <td>...</td>\n",
       "      <td>19.163642</td>\n",
       "      <td>18.711002</td>\n",
       "      <td>18.266617</td>\n",
       "      <td>17.830575</td>\n",
       "      <td>17.402839</td>\n",
       "      <td>16.983426</td>\n",
       "      <td>16.572272</td>\n",
       "      <td>16.169464</td>\n",
       "      <td>15.774931</td>\n",
       "      <td>15.388672</td>\n",
       "    </tr>\n",
       "    <tr>\n",
       "      <th>8</th>\n",
       "      <td>THA</td>\n",
       "      <td>1.350000</td>\n",
       "      <td>1.220</td>\n",
       "      <td>1.180000</td>\n",
       "      <td>1.180</td>\n",
       "      <td>0.949</td>\n",
       "      <td>0.620</td>\n",
       "      <td>0.660000</td>\n",
       "      <td>0.580</td>\n",
       "      <td>0.250000</td>\n",
       "      <td>...</td>\n",
       "      <td>95.725177</td>\n",
       "      <td>96.064622</td>\n",
       "      <td>96.407527</td>\n",
       "      <td>96.753882</td>\n",
       "      <td>97.103707</td>\n",
       "      <td>97.455331</td>\n",
       "      <td>97.790907</td>\n",
       "      <td>98.125218</td>\n",
       "      <td>98.420525</td>\n",
       "      <td>98.713119</td>\n",
       "    </tr>\n",
       "  </tbody>\n",
       "</table>\n",
       "<p>9 rows × 33 columns</p>\n",
       "</div>"
      ],
      "text/plain": [
       "  countrycode  yr_2005_x  yr_2006_x  yr_2007_x  yr_2008_x  yr_2009_x  \\\n",
       "0         CAN   6.760000      6.320   6.040000      6.140      8.340   \n",
       "1         USA   5.080000      4.620   4.620000      5.780      9.250   \n",
       "2         BRA   9.570000      8.640   8.330000      7.340      8.520   \n",
       "3         MEX   3.560000      3.570   3.630000      3.870      5.360   \n",
       "4         NER   3.100000      2.649   2.203000      1.710      1.267   \n",
       "5         SYR   8.853000      8.170   8.420000     10.940      8.140   \n",
       "6         ZAF  29.120001     28.340  26.540001     22.410     23.520   \n",
       "7         COD   2.850000      3.083   3.313000      3.547      3.793   \n",
       "8         THA   1.350000      1.220   1.180000      1.180      0.949   \n",
       "\n",
       "   yr_2010_x  yr_2011_x  yr_2012_x  yr_2013_x  ...  yr_2011_y  yr_2012_y  \\\n",
       "0      8.060   7.510000      7.290   7.070000  ...  99.477216  99.421719   \n",
       "1      9.630   8.950000      8.070   7.370000  ...  99.841033  99.821629   \n",
       "2      7.274   6.920000      7.190   6.980000  ...  82.700581  83.542226   \n",
       "3      5.300   5.170000      4.890   4.910000  ...  85.959710  86.709804   \n",
       "4      0.779   0.320000      2.180   1.369000  ...  10.780380  11.232013   \n",
       "5      8.610   8.697000      8.808   8.826000  ...  90.577673  90.439936   \n",
       "6     24.680  24.639999     24.730  24.559999  ...  70.072349  71.048142   \n",
       "7      4.014   4.252000      4.490   4.476000  ...  19.163642  18.711002   \n",
       "8      0.620   0.660000      0.580   0.250000  ...  95.725177  96.064622   \n",
       "\n",
       "   yr_2013_y  yr_2014_y  yr_2015_y  yr_2016_y  yr_2017_y  yr_2018_y  \\\n",
       "0  99.366191  99.310644  99.255071  99.199477  99.143884  99.088289   \n",
       "1  99.802569  99.783861  99.765524  99.747554  99.729968  99.712774   \n",
       "2  84.378518  85.210642  86.037962  86.860243  87.677958  88.490545   \n",
       "3  87.451783  88.185732  88.911484  89.629447  90.339476  91.041845   \n",
       "4  11.675560  12.116385  12.555830  12.993835  13.431859  13.869850   \n",
       "5  90.312975  90.196737  90.131757  90.059184  89.979025  89.891321   \n",
       "6  72.013582  72.968804  73.913539  74.847618  75.770868  76.683188   \n",
       "7  18.266617  17.830575  17.402839  16.983426  16.572272  16.169464   \n",
       "8  96.407527  96.753882  97.103707  97.455331  97.790907  98.125218   \n",
       "\n",
       "   yr_2019_y  yr_2020_y  \n",
       "0  99.032681  99.032862  \n",
       "1  99.695994  99.679619  \n",
       "2  89.298796  90.078471  \n",
       "3  91.736661  92.424063  \n",
       "4  14.309386  14.751306  \n",
       "5  89.796115  89.693480  \n",
       "6  77.584480  78.474611  \n",
       "7  15.774931  15.388672  \n",
       "8  98.420525  98.713119  \n",
       "\n",
       "[9 rows x 33 columns]"
      ]
     },
     "execution_count": 116,
     "metadata": {},
     "output_type": "execute_result"
    }
   ],
   "source": [
    "unemployment = df_qol.loc[df_qol['series_name'].str.contains('Unemployment, total'), 'country_code':]\n",
    "keep_same = {'country_code'}\n",
    "'''unemployment.columns = ['{}{}'.format('' if c in keep_same else 'UnEmployed_', c) \n",
    "                    for c in unemployment.columns]'''\n",
    "\n",
    "df_quality = pd.merge(unemployment, basicSan, on='country_code', how='inner')\n",
    "df_quality.rename(columns={'country_code': 'countrycode'}, inplace=True)\n",
    "df_quality"
   ]
  },
  {
   "cell_type": "code",
   "execution_count": 152,
   "id": "1a09c851",
   "metadata": {},
   "outputs": [
    {
     "data": {
      "application/vnd.plotly.v1+json": {
       "config": {
        "plotlyServerURL": "https://plot.ly"
       },
       "data": [
        {
         "hovertemplate": "variable=yr_2005_x<br>value=%{x}<br>countrycode=%{y}<extra></extra>",
         "legendgroup": "yr_2005_x",
         "marker": {
          "color": "#636efa",
          "symbol": "circle"
         },
         "mode": "markers",
         "name": "yr_2005_x",
         "orientation": "h",
         "showlegend": true,
         "type": "scatter",
         "x": [
          6.76000022888184,
          5.07999992370605,
          9.56999969482422,
          3.55999994277954,
          3.09999990463257,
          8.85299968719482,
          29.1200008392334,
          2.84999990463257,
          1.35000002384186
         ],
         "xaxis": "x",
         "y": [
          "CAN",
          "USA",
          "BRA",
          "MEX",
          "NER",
          "SYR",
          "ZAF",
          "COD",
          "THA"
         ],
         "yaxis": "y"
        },
        {
         "hovertemplate": "variable=yr_2006_x<br>value=%{x}<br>countrycode=%{y}<extra></extra>",
         "legendgroup": "yr_2006_x",
         "marker": {
          "color": "#EF553B",
          "symbol": "circle"
         },
         "mode": "markers",
         "name": "yr_2006_x",
         "orientation": "h",
         "showlegend": true,
         "type": "scatter",
         "x": [
          6.32000017166138,
          4.61999988555908,
          8.64000034332275,
          3.5699999332428,
          2.6489999294281,
          8.17000007629395,
          28.3400001525879,
          3.08299994468689,
          1.22000002861023
         ],
         "xaxis": "x",
         "y": [
          "CAN",
          "USA",
          "BRA",
          "MEX",
          "NER",
          "SYR",
          "ZAF",
          "COD",
          "THA"
         ],
         "yaxis": "y"
        },
        {
         "hovertemplate": "variable=yr_2007_x<br>value=%{x}<br>countrycode=%{y}<extra></extra>",
         "legendgroup": "yr_2007_x",
         "marker": {
          "color": "#00cc96",
          "symbol": "circle"
         },
         "mode": "markers",
         "name": "yr_2007_x",
         "orientation": "h",
         "showlegend": true,
         "type": "scatter",
         "x": [
          6.03999996185303,
          4.61999988555908,
          8.32999992370605,
          3.63000011444092,
          2.20300006866455,
          8.42000007629395,
          26.5400009155273,
          3.31299996376038,
          1.17999994754791
         ],
         "xaxis": "x",
         "y": [
          "CAN",
          "USA",
          "BRA",
          "MEX",
          "NER",
          "SYR",
          "ZAF",
          "COD",
          "THA"
         ],
         "yaxis": "y"
        },
        {
         "hovertemplate": "variable=yr_2008_x<br>value=%{x}<br>countrycode=%{y}<extra></extra>",
         "legendgroup": "yr_2008_x",
         "marker": {
          "color": "#ab63fa",
          "symbol": "circle"
         },
         "mode": "markers",
         "name": "yr_2008_x",
         "orientation": "h",
         "showlegend": true,
         "type": "scatter",
         "x": [
          6.1399998664856,
          5.78000020980835,
          7.34000015258789,
          3.86999988555908,
          1.71000003814697,
          10.9399995803833,
          22.4099998474121,
          3.54699993133545,
          1.17999994754791
         ],
         "xaxis": "x",
         "y": [
          "CAN",
          "USA",
          "BRA",
          "MEX",
          "NER",
          "SYR",
          "ZAF",
          "COD",
          "THA"
         ],
         "yaxis": "y"
        },
        {
         "hovertemplate": "variable=yr_2009_x<br>value=%{x}<br>countrycode=%{y}<extra></extra>",
         "legendgroup": "yr_2009_x",
         "marker": {
          "color": "#FFA15A",
          "symbol": "circle"
         },
         "mode": "markers",
         "name": "yr_2009_x",
         "orientation": "h",
         "showlegend": true,
         "type": "scatter",
         "x": [
          8.34000015258789,
          9.25,
          8.52000045776367,
          5.3600001335144,
          1.26699995994568,
          8.14000034332275,
          23.5200004577637,
          3.79299998283386,
          0.949000000953674
         ],
         "xaxis": "x",
         "y": [
          "CAN",
          "USA",
          "BRA",
          "MEX",
          "NER",
          "SYR",
          "ZAF",
          "COD",
          "THA"
         ],
         "yaxis": "y"
        },
        {
         "hovertemplate": "variable=yr_2010_x<br>value=%{x}<br>countrycode=%{y}<extra></extra>",
         "legendgroup": "yr_2010_x",
         "marker": {
          "color": "#19d3f3",
          "symbol": "circle"
         },
         "mode": "markers",
         "name": "yr_2010_x",
         "orientation": "h",
         "showlegend": true,
         "type": "scatter",
         "x": [
          8.0600004196167,
          9.63000011444092,
          7.27400016784668,
          5.30000019073486,
          0.778999984264374,
          8.60999965667725,
          24.6800003051758,
          4.01399993896484,
          0.620000004768372
         ],
         "xaxis": "x",
         "y": [
          "CAN",
          "USA",
          "BRA",
          "MEX",
          "NER",
          "SYR",
          "ZAF",
          "COD",
          "THA"
         ],
         "yaxis": "y"
        },
        {
         "hovertemplate": "variable=yr_2011_x<br>value=%{x}<br>countrycode=%{y}<extra></extra>",
         "legendgroup": "yr_2011_x",
         "marker": {
          "color": "#FF6692",
          "symbol": "circle"
         },
         "mode": "markers",
         "name": "yr_2011_x",
         "orientation": "h",
         "showlegend": true,
         "type": "scatter",
         "x": [
          7.51000022888184,
          8.94999980926514,
          6.92000007629395,
          5.17000007629395,
          0.319999992847443,
          8.69699954986572,
          24.6399993896484,
          4.2519998550415,
          0.660000026226044
         ],
         "xaxis": "x",
         "y": [
          "CAN",
          "USA",
          "BRA",
          "MEX",
          "NER",
          "SYR",
          "ZAF",
          "COD",
          "THA"
         ],
         "yaxis": "y"
        },
        {
         "hovertemplate": "variable=yr_2012_x<br>value=%{x}<br>countrycode=%{y}<extra></extra>",
         "legendgroup": "yr_2012_x",
         "marker": {
          "color": "#B6E880",
          "symbol": "circle"
         },
         "mode": "markers",
         "name": "yr_2012_x",
         "orientation": "h",
         "showlegend": true,
         "type": "scatter",
         "x": [
          7.28999996185303,
          8.06999969482422,
          7.19000005722046,
          4.8899998664856,
          2.1800000667572,
          8.80799961090088,
          24.7299995422363,
          4.48999977111816,
          0.579999983310699
         ],
         "xaxis": "x",
         "y": [
          "CAN",
          "USA",
          "BRA",
          "MEX",
          "NER",
          "SYR",
          "ZAF",
          "COD",
          "THA"
         ],
         "yaxis": "y"
        },
        {
         "hovertemplate": "variable=yr_2013_x<br>value=%{x}<br>countrycode=%{y}<extra></extra>",
         "legendgroup": "yr_2013_x",
         "marker": {
          "color": "#FF97FF",
          "symbol": "circle"
         },
         "mode": "markers",
         "name": "yr_2013_x",
         "orientation": "h",
         "showlegend": true,
         "type": "scatter",
         "x": [
          7.07000017166138,
          7.36999988555908,
          6.98000001907349,
          4.90999984741211,
          1.36899995803833,
          8.82600021362305,
          24.5599994659424,
          4.47599983215332,
          0.25
         ],
         "xaxis": "x",
         "y": [
          "CAN",
          "USA",
          "BRA",
          "MEX",
          "NER",
          "SYR",
          "ZAF",
          "COD",
          "THA"
         ],
         "yaxis": "y"
        },
        {
         "hovertemplate": "variable=yr_2014_x<br>value=%{x}<br>countrycode=%{y}<extra></extra>",
         "legendgroup": "yr_2014_x",
         "marker": {
          "color": "#FECB52",
          "symbol": "circle"
         },
         "mode": "markers",
         "name": "yr_2014_x",
         "orientation": "h",
         "showlegend": true,
         "type": "scatter",
         "x": [
          6.90999984741211,
          6.17000007629395,
          6.65999984741211,
          4.80999994277954,
          0.519999980926514,
          8.7209997177124,
          24.8899993896484,
          4.46400022506714,
          0.579999983310699
         ],
         "xaxis": "x",
         "y": [
          "CAN",
          "USA",
          "BRA",
          "MEX",
          "NER",
          "SYR",
          "ZAF",
          "COD",
          "THA"
         ],
         "yaxis": "y"
        },
        {
         "hovertemplate": "variable=yr_2015_x<br>value=%{x}<br>countrycode=%{y}<extra></extra>",
         "legendgroup": "yr_2015_x",
         "marker": {
          "color": "#636efa",
          "symbol": "circle"
         },
         "mode": "markers",
         "name": "yr_2015_x",
         "orientation": "h",
         "showlegend": true,
         "type": "scatter",
         "x": [
          6.90999984741211,
          5.28000020980835,
          8.43000030517578,
          4.30999994277954,
          0.529999971389771,
          8.71199989318848,
          25.1499996185303,
          4.46600008010864,
          0.600000023841858
         ],
         "xaxis": "x",
         "y": [
          "CAN",
          "USA",
          "BRA",
          "MEX",
          "NER",
          "SYR",
          "ZAF",
          "COD",
          "THA"
         ],
         "yaxis": "y"
        },
        {
         "hovertemplate": "variable=yr_2016_x<br>value=%{x}<br>countrycode=%{y}<extra></extra>",
         "legendgroup": "yr_2016_x",
         "marker": {
          "color": "#EF553B",
          "symbol": "circle"
         },
         "mode": "markers",
         "name": "yr_2016_x",
         "orientation": "h",
         "showlegend": true,
         "type": "scatter",
         "x": [
          7,
          4.86999988555908,
          11.6000003814697,
          3.85999989509583,
          0.533999979496002,
          8.72500038146973,
          26.5400009155273,
          4.47700023651123,
          0.689999997615814
         ],
         "xaxis": "x",
         "y": [
          "CAN",
          "USA",
          "BRA",
          "MEX",
          "NER",
          "SYR",
          "ZAF",
          "COD",
          "THA"
         ],
         "yaxis": "y"
        },
        {
         "hovertemplate": "variable=yr_2017_x<br>value=%{x}<br>countrycode=%{y}<extra></extra>",
         "legendgroup": "yr_2017_x",
         "marker": {
          "color": "#00cc96",
          "symbol": "circle"
         },
         "mode": "markers",
         "name": "yr_2017_x",
         "orientation": "h",
         "showlegend": true,
         "type": "scatter",
         "x": [
          6.34000015258789,
          4.3600001335144,
          12.8199996948242,
          3.42000007629395,
          0.541999995708466,
          8.7519998550415,
          27.0400009155273,
          4.46500015258789,
          0.829999983310699
         ],
         "xaxis": "x",
         "y": [
          "CAN",
          "USA",
          "BRA",
          "MEX",
          "NER",
          "SYR",
          "ZAF",
          "COD",
          "THA"
         ],
         "yaxis": "y"
        },
        {
         "hovertemplate": "variable=yr_2018_x<br>value=%{x}<br>countrycode=%{y}<extra></extra>",
         "legendgroup": "yr_2018_x",
         "marker": {
          "color": "#ab63fa",
          "symbol": "circle"
         },
         "mode": "markers",
         "name": "yr_2018_x",
         "orientation": "h",
         "showlegend": true,
         "type": "scatter",
         "x": [
          5.82999992370605,
          3.90000009536743,
          12.3299999237061,
          3.27999997138977,
          0.545000016689301,
          8.75500011444092,
          26.9099998474121,
          4.45100021362305,
          0.769999980926514
         ],
         "xaxis": "x",
         "y": [
          "CAN",
          "USA",
          "BRA",
          "MEX",
          "NER",
          "SYR",
          "ZAF",
          "COD",
          "THA"
         ],
         "yaxis": "y"
        },
        {
         "hovertemplate": "variable=yr_2019_x<br>value=%{x}<br>countrycode=%{y}<extra></extra>",
         "legendgroup": "yr_2019_x",
         "marker": {
          "color": "#FFA15A",
          "symbol": "circle"
         },
         "mode": "markers",
         "name": "yr_2019_x",
         "orientation": "h",
         "showlegend": true,
         "type": "scatter",
         "x": [
          5.65999984741211,
          3.67000007629395,
          11.9300003051758,
          3.48000001907349,
          0.554000020027161,
          8.77299976348877,
          28.4699993133545,
          4.45100021362305,
          0.720000028610229
         ],
         "xaxis": "x",
         "y": [
          "CAN",
          "USA",
          "BRA",
          "MEX",
          "NER",
          "SYR",
          "ZAF",
          "COD",
          "THA"
         ],
         "yaxis": "y"
        },
        {
         "hovertemplate": "variable=yr_2020_x<br>value=%{x}<br>countrycode=%{y}<extra></extra>",
         "legendgroup": "yr_2020_x",
         "marker": {
          "color": "#19d3f3",
          "symbol": "circle"
         },
         "mode": "markers",
         "name": "yr_2020_x",
         "orientation": "h",
         "showlegend": true,
         "type": "scatter",
         "x": [
          9.46000003814697,
          8.05000019073486,
          13.6899995803833,
          4.44999980926514,
          0.624000012874603,
          10.2569999694824,
          29.2199993133545,
          5.26599979400635,
          1.10000002384186
         ],
         "xaxis": "x",
         "y": [
          "CAN",
          "USA",
          "BRA",
          "MEX",
          "NER",
          "SYR",
          "ZAF",
          "COD",
          "THA"
         ],
         "yaxis": "y"
        },
        {
         "hovertemplate": "variable=yr_2005_y<br>value=%{x}<br>countrycode=%{y}<extra></extra>",
         "legendgroup": "yr_2005_y",
         "marker": {
          "color": "#FF6692",
          "symbol": "circle"
         },
         "mode": "markers",
         "name": "yr_2005_y",
         "orientation": "h",
         "showlegend": true,
         "type": "scatter",
         "x": [
          99.80519484,
          99.8817868,
          77.56479232,
          81.27377788,
          7.901511602,
          91.0882877,
          64.01580626,
          22.05200139,
          93.83781676
         ],
         "xaxis": "x",
         "y": [
          "CAN",
          "USA",
          "BRA",
          "MEX",
          "NER",
          "SYR",
          "ZAF",
          "COD",
          "THA"
         ],
         "yaxis": "y"
        },
        {
         "hovertemplate": "variable=yr_2006_y<br>value=%{x}<br>countrycode=%{y}<extra></extra>",
         "legendgroup": "yr_2006_y",
         "marker": {
          "color": "#B6E880",
          "symbol": "circle"
         },
         "mode": "markers",
         "name": "yr_2006_y",
         "orientation": "h",
         "showlegend": true,
         "type": "scatter",
         "x": [
          99.75033789,
          99.88154042,
          78.43290643,
          82.07830717,
          8.401596097,
          91.02442426,
          65.04813012,
          21.55023257,
          94.13753606
         ],
         "xaxis": "x",
         "y": [
          "CAN",
          "USA",
          "BRA",
          "MEX",
          "NER",
          "SYR",
          "ZAF",
          "COD",
          "THA"
         ],
         "yaxis": "y"
        },
        {
         "hovertemplate": "variable=yr_2007_y<br>value=%{x}<br>countrycode=%{y}<extra></extra>",
         "legendgroup": "yr_2007_y",
         "marker": {
          "color": "#FF97FF",
          "symbol": "circle"
         },
         "mode": "markers",
         "name": "yr_2007_y",
         "orientation": "h",
         "showlegend": true,
         "type": "scatter",
         "x": [
          99.69595411,
          99.88129549,
          79.29597638,
          82.87293106,
          8.8936197,
          90.95633527,
          66.07165911,
          21.05658611,
          94.4425781
         ],
         "xaxis": "x",
         "y": [
          "CAN",
          "USA",
          "BRA",
          "MEX",
          "NER",
          "SYR",
          "ZAF",
          "COD",
          "THA"
         ],
         "yaxis": "y"
        },
        {
         "hovertemplate": "variable=yr_2008_y<br>value=%{x}<br>countrycode=%{y}<extra></extra>",
         "legendgroup": "yr_2008_y",
         "marker": {
          "color": "#FECB52",
          "symbol": "circle"
         },
         "mode": "markers",
         "name": "yr_2008_y",
         "orientation": "h",
         "showlegend": true,
         "type": "scatter",
         "x": [
          99.6414571,
          99.8810546,
          80.1540827,
          83.65830449,
          9.377293422,
          90.88388403,
          67.08632138,
          20.57102918,
          94.75302481
         ],
         "xaxis": "x",
         "y": [
          "CAN",
          "USA",
          "BRA",
          "MEX",
          "NER",
          "SYR",
          "ZAF",
          "COD",
          "THA"
         ],
         "yaxis": "y"
        },
        {
         "hovertemplate": "variable=yr_2009_y<br>value=%{x}<br>countrycode=%{y}<extra></extra>",
         "legendgroup": "yr_2009_y",
         "marker": {
          "color": "#636efa",
          "symbol": "circle"
         },
         "mode": "markers",
         "name": "yr_2009_y",
         "orientation": "h",
         "showlegend": true,
         "type": "scatter",
         "x": [
          99.5868457,
          99.88081511,
          81.00652682,
          84.43419231,
          9.853170088,
          90.80703479,
          68.0912245,
          20.09368866,
          95.06909558
         ],
         "xaxis": "x",
         "y": [
          "CAN",
          "USA",
          "BRA",
          "MEX",
          "NER",
          "SYR",
          "ZAF",
          "COD",
          "THA"
         ],
         "yaxis": "y"
        },
        {
         "hovertemplate": "variable=yr_2010_y<br>value=%{x}<br>countrycode=%{y}<extra></extra>",
         "legendgroup": "yr_2010_y",
         "marker": {
          "color": "#EF553B",
          "symbol": "circle"
         },
         "mode": "markers",
         "name": "yr_2010_y",
         "orientation": "h",
         "showlegend": true,
         "type": "scatter",
         "x": [
          99.53213067,
          99.86076619,
          81.85420444,
          85.20102819,
          10.32097412,
          90.7259759,
          69.08668367,
          19.62451329,
          95.39077552
         ],
         "xaxis": "x",
         "y": [
          "CAN",
          "USA",
          "BRA",
          "MEX",
          "NER",
          "SYR",
          "ZAF",
          "COD",
          "THA"
         ],
         "yaxis": "y"
        },
        {
         "hovertemplate": "variable=yr_2011_y<br>value=%{x}<br>countrycode=%{y}<extra></extra>",
         "legendgroup": "yr_2011_y",
         "marker": {
          "color": "#00cc96",
          "symbol": "circle"
         },
         "mode": "markers",
         "name": "yr_2011_y",
         "orientation": "h",
         "showlegend": true,
         "type": "scatter",
         "x": [
          99.47721571,
          99.84103269,
          82.70058102,
          85.95971004,
          10.78038007,
          90.57767283,
          70.07234949,
          19.16364168,
          95.72517684
         ],
         "xaxis": "x",
         "y": [
          "CAN",
          "USA",
          "BRA",
          "MEX",
          "NER",
          "SYR",
          "ZAF",
          "COD",
          "THA"
         ],
         "yaxis": "y"
        },
        {
         "hovertemplate": "variable=yr_2012_y<br>value=%{x}<br>countrycode=%{y}<extra></extra>",
         "legendgroup": "yr_2012_y",
         "marker": {
          "color": "#ab63fa",
          "symbol": "circle"
         },
         "mode": "markers",
         "name": "yr_2012_y",
         "orientation": "h",
         "showlegend": true,
         "type": "scatter",
         "x": [
          99.42171918,
          99.82162867,
          83.54222598,
          86.70980432,
          11.23201288,
          90.43993583,
          71.04814234,
          18.71100167,
          96.06462166
         ],
         "xaxis": "x",
         "y": [
          "CAN",
          "USA",
          "BRA",
          "MEX",
          "NER",
          "SYR",
          "ZAF",
          "COD",
          "THA"
         ],
         "yaxis": "y"
        },
        {
         "hovertemplate": "variable=yr_2013_y<br>value=%{x}<br>countrycode=%{y}<extra></extra>",
         "legendgroup": "yr_2013_y",
         "marker": {
          "color": "#FFA15A",
          "symbol": "circle"
         },
         "mode": "markers",
         "name": "yr_2013_y",
         "orientation": "h",
         "showlegend": true,
         "type": "scatter",
         "x": [
          99.36619078,
          99.80256859,
          84.37851825,
          87.45178303,
          11.67555994,
          90.31297485,
          72.01358167,
          18.26661658,
          96.40752741
         ],
         "xaxis": "x",
         "y": [
          "CAN",
          "USA",
          "BRA",
          "MEX",
          "NER",
          "SYR",
          "ZAF",
          "COD",
          "THA"
         ],
         "yaxis": "y"
        },
        {
         "hovertemplate": "variable=yr_2014_y<br>value=%{x}<br>countrycode=%{y}<extra></extra>",
         "legendgroup": "yr_2014_y",
         "marker": {
          "color": "#19d3f3",
          "symbol": "circle"
         },
         "mode": "markers",
         "name": "yr_2014_y",
         "orientation": "h",
         "showlegend": true,
         "type": "scatter",
         "x": [
          99.31064352,
          99.78386084,
          85.21064211,
          88.18573213,
          12.11638501,
          90.19673733,
          72.96880358,
          17.83057536,
          96.75388237
         ],
         "xaxis": "x",
         "y": [
          "CAN",
          "USA",
          "BRA",
          "MEX",
          "NER",
          "SYR",
          "ZAF",
          "COD",
          "THA"
         ],
         "yaxis": "y"
        },
        {
         "hovertemplate": "variable=yr_2015_y<br>value=%{x}<br>countrycode=%{y}<extra></extra>",
         "legendgroup": "yr_2015_y",
         "marker": {
          "color": "#FF6692",
          "symbol": "circle"
         },
         "mode": "markers",
         "name": "yr_2015_y",
         "orientation": "h",
         "showlegend": true,
         "type": "scatter",
         "x": [
          99.25507123,
          99.7655241,
          86.03796198,
          88.91148404,
          12.55582982,
          90.13175702,
          73.9135389,
          17.40283928,
          97.10370657
         ],
         "xaxis": "x",
         "y": [
          "CAN",
          "USA",
          "BRA",
          "MEX",
          "NER",
          "SYR",
          "ZAF",
          "COD",
          "THA"
         ],
         "yaxis": "y"
        },
        {
         "hovertemplate": "variable=yr_2016_y<br>value=%{x}<br>countrycode=%{y}<extra></extra>",
         "legendgroup": "yr_2016_y",
         "marker": {
          "color": "#B6E880",
          "symbol": "circle"
         },
         "mode": "markers",
         "name": "yr_2016_y",
         "orientation": "h",
         "showlegend": true,
         "type": "scatter",
         "x": [
          99.19947682,
          99.74755356,
          86.86024254,
          89.62944687,
          12.99383525,
          90.05918385,
          74.84761764,
          16.98342625,
          97.45533132
         ],
         "xaxis": "x",
         "y": [
          "CAN",
          "USA",
          "BRA",
          "MEX",
          "NER",
          "SYR",
          "ZAF",
          "COD",
          "THA"
         ],
         "yaxis": "y"
        },
        {
         "hovertemplate": "variable=yr_2017_y<br>value=%{x}<br>countrycode=%{y}<extra></extra>",
         "legendgroup": "yr_2017_y",
         "marker": {
          "color": "#FF97FF",
          "symbol": "circle"
         },
         "mode": "markers",
         "name": "yr_2017_y",
         "orientation": "h",
         "showlegend": true,
         "type": "scatter",
         "x": [
          99.14388406,
          99.72996764,
          87.67795802,
          90.33947554,
          13.43185924,
          89.9790253,
          75.77086841,
          16.57227169,
          97.79090683
         ],
         "xaxis": "x",
         "y": [
          "CAN",
          "USA",
          "BRA",
          "MEX",
          "NER",
          "SYR",
          "ZAF",
          "COD",
          "THA"
         ],
         "yaxis": "y"
        },
        {
         "hovertemplate": "variable=yr_2018_y<br>value=%{x}<br>countrycode=%{y}<extra></extra>",
         "legendgroup": "yr_2018_y",
         "marker": {
          "color": "#FECB52",
          "symbol": "circle"
         },
         "mode": "markers",
         "name": "yr_2018_y",
         "orientation": "h",
         "showlegend": true,
         "type": "scatter",
         "x": [
          99.08828896,
          99.71277377,
          88.49054496,
          91.04184497,
          13.86985027,
          89.89132051,
          76.68318836,
          16.16946438,
          98.12521791
         ],
         "xaxis": "x",
         "y": [
          "CAN",
          "USA",
          "BRA",
          "MEX",
          "NER",
          "SYR",
          "ZAF",
          "COD",
          "THA"
         ],
         "yaxis": "y"
        },
        {
         "hovertemplate": "variable=yr_2019_y<br>value=%{x}<br>countrycode=%{y}<extra></extra>",
         "legendgroup": "yr_2019_y",
         "marker": {
          "color": "#636efa",
          "symbol": "circle"
         },
         "mode": "markers",
         "name": "yr_2019_y",
         "orientation": "h",
         "showlegend": true,
         "type": "scatter",
         "x": [
          99.03268117,
          99.69599445,
          89.29879625,
          91.73666093,
          14.30938558,
          89.79611461,
          77.58447964,
          15.77493074,
          98.42052549
         ],
         "xaxis": "x",
         "y": [
          "CAN",
          "USA",
          "BRA",
          "MEX",
          "NER",
          "SYR",
          "ZAF",
          "COD",
          "THA"
         ],
         "yaxis": "y"
        },
        {
         "hovertemplate": "variable=yr_2020_y<br>value=%{x}<br>countrycode=%{y}<extra></extra>",
         "legendgroup": "yr_2020_y",
         "marker": {
          "color": "#EF553B",
          "symbol": "circle"
         },
         "mode": "markers",
         "name": "yr_2020_y",
         "orientation": "h",
         "showlegend": true,
         "type": "scatter",
         "x": [
          99.03286158,
          99.67961928,
          90.07847103,
          92.42406261,
          14.75130566,
          89.69347966,
          78.47461071,
          15.38867157,
          98.71311912
         ],
         "xaxis": "x",
         "y": [
          "CAN",
          "USA",
          "BRA",
          "MEX",
          "NER",
          "SYR",
          "ZAF",
          "COD",
          "THA"
         ],
         "yaxis": "y"
        }
       ],
       "layout": {
        "legend": {
         "title": {
          "text": "variable"
         },
         "tracegroupgap": 0
        },
        "template": {
         "data": {
          "bar": [
           {
            "error_x": {
             "color": "#2a3f5f"
            },
            "error_y": {
             "color": "#2a3f5f"
            },
            "marker": {
             "line": {
              "color": "#E5ECF6",
              "width": 0.5
             },
             "pattern": {
              "fillmode": "overlay",
              "size": 10,
              "solidity": 0.2
             }
            },
            "type": "bar"
           }
          ],
          "barpolar": [
           {
            "marker": {
             "line": {
              "color": "#E5ECF6",
              "width": 0.5
             },
             "pattern": {
              "fillmode": "overlay",
              "size": 10,
              "solidity": 0.2
             }
            },
            "type": "barpolar"
           }
          ],
          "carpet": [
           {
            "aaxis": {
             "endlinecolor": "#2a3f5f",
             "gridcolor": "white",
             "linecolor": "white",
             "minorgridcolor": "white",
             "startlinecolor": "#2a3f5f"
            },
            "baxis": {
             "endlinecolor": "#2a3f5f",
             "gridcolor": "white",
             "linecolor": "white",
             "minorgridcolor": "white",
             "startlinecolor": "#2a3f5f"
            },
            "type": "carpet"
           }
          ],
          "choropleth": [
           {
            "colorbar": {
             "outlinewidth": 0,
             "ticks": ""
            },
            "type": "choropleth"
           }
          ],
          "contour": [
           {
            "colorbar": {
             "outlinewidth": 0,
             "ticks": ""
            },
            "colorscale": [
             [
              0,
              "#0d0887"
             ],
             [
              0.1111111111111111,
              "#46039f"
             ],
             [
              0.2222222222222222,
              "#7201a8"
             ],
             [
              0.3333333333333333,
              "#9c179e"
             ],
             [
              0.4444444444444444,
              "#bd3786"
             ],
             [
              0.5555555555555556,
              "#d8576b"
             ],
             [
              0.6666666666666666,
              "#ed7953"
             ],
             [
              0.7777777777777778,
              "#fb9f3a"
             ],
             [
              0.8888888888888888,
              "#fdca26"
             ],
             [
              1,
              "#f0f921"
             ]
            ],
            "type": "contour"
           }
          ],
          "contourcarpet": [
           {
            "colorbar": {
             "outlinewidth": 0,
             "ticks": ""
            },
            "type": "contourcarpet"
           }
          ],
          "heatmap": [
           {
            "colorbar": {
             "outlinewidth": 0,
             "ticks": ""
            },
            "colorscale": [
             [
              0,
              "#0d0887"
             ],
             [
              0.1111111111111111,
              "#46039f"
             ],
             [
              0.2222222222222222,
              "#7201a8"
             ],
             [
              0.3333333333333333,
              "#9c179e"
             ],
             [
              0.4444444444444444,
              "#bd3786"
             ],
             [
              0.5555555555555556,
              "#d8576b"
             ],
             [
              0.6666666666666666,
              "#ed7953"
             ],
             [
              0.7777777777777778,
              "#fb9f3a"
             ],
             [
              0.8888888888888888,
              "#fdca26"
             ],
             [
              1,
              "#f0f921"
             ]
            ],
            "type": "heatmap"
           }
          ],
          "heatmapgl": [
           {
            "colorbar": {
             "outlinewidth": 0,
             "ticks": ""
            },
            "colorscale": [
             [
              0,
              "#0d0887"
             ],
             [
              0.1111111111111111,
              "#46039f"
             ],
             [
              0.2222222222222222,
              "#7201a8"
             ],
             [
              0.3333333333333333,
              "#9c179e"
             ],
             [
              0.4444444444444444,
              "#bd3786"
             ],
             [
              0.5555555555555556,
              "#d8576b"
             ],
             [
              0.6666666666666666,
              "#ed7953"
             ],
             [
              0.7777777777777778,
              "#fb9f3a"
             ],
             [
              0.8888888888888888,
              "#fdca26"
             ],
             [
              1,
              "#f0f921"
             ]
            ],
            "type": "heatmapgl"
           }
          ],
          "histogram": [
           {
            "marker": {
             "pattern": {
              "fillmode": "overlay",
              "size": 10,
              "solidity": 0.2
             }
            },
            "type": "histogram"
           }
          ],
          "histogram2d": [
           {
            "colorbar": {
             "outlinewidth": 0,
             "ticks": ""
            },
            "colorscale": [
             [
              0,
              "#0d0887"
             ],
             [
              0.1111111111111111,
              "#46039f"
             ],
             [
              0.2222222222222222,
              "#7201a8"
             ],
             [
              0.3333333333333333,
              "#9c179e"
             ],
             [
              0.4444444444444444,
              "#bd3786"
             ],
             [
              0.5555555555555556,
              "#d8576b"
             ],
             [
              0.6666666666666666,
              "#ed7953"
             ],
             [
              0.7777777777777778,
              "#fb9f3a"
             ],
             [
              0.8888888888888888,
              "#fdca26"
             ],
             [
              1,
              "#f0f921"
             ]
            ],
            "type": "histogram2d"
           }
          ],
          "histogram2dcontour": [
           {
            "colorbar": {
             "outlinewidth": 0,
             "ticks": ""
            },
            "colorscale": [
             [
              0,
              "#0d0887"
             ],
             [
              0.1111111111111111,
              "#46039f"
             ],
             [
              0.2222222222222222,
              "#7201a8"
             ],
             [
              0.3333333333333333,
              "#9c179e"
             ],
             [
              0.4444444444444444,
              "#bd3786"
             ],
             [
              0.5555555555555556,
              "#d8576b"
             ],
             [
              0.6666666666666666,
              "#ed7953"
             ],
             [
              0.7777777777777778,
              "#fb9f3a"
             ],
             [
              0.8888888888888888,
              "#fdca26"
             ],
             [
              1,
              "#f0f921"
             ]
            ],
            "type": "histogram2dcontour"
           }
          ],
          "mesh3d": [
           {
            "colorbar": {
             "outlinewidth": 0,
             "ticks": ""
            },
            "type": "mesh3d"
           }
          ],
          "parcoords": [
           {
            "line": {
             "colorbar": {
              "outlinewidth": 0,
              "ticks": ""
             }
            },
            "type": "parcoords"
           }
          ],
          "pie": [
           {
            "automargin": true,
            "type": "pie"
           }
          ],
          "scatter": [
           {
            "fillpattern": {
             "fillmode": "overlay",
             "size": 10,
             "solidity": 0.2
            },
            "type": "scatter"
           }
          ],
          "scatter3d": [
           {
            "line": {
             "colorbar": {
              "outlinewidth": 0,
              "ticks": ""
             }
            },
            "marker": {
             "colorbar": {
              "outlinewidth": 0,
              "ticks": ""
             }
            },
            "type": "scatter3d"
           }
          ],
          "scattercarpet": [
           {
            "marker": {
             "colorbar": {
              "outlinewidth": 0,
              "ticks": ""
             }
            },
            "type": "scattercarpet"
           }
          ],
          "scattergeo": [
           {
            "marker": {
             "colorbar": {
              "outlinewidth": 0,
              "ticks": ""
             }
            },
            "type": "scattergeo"
           }
          ],
          "scattergl": [
           {
            "marker": {
             "colorbar": {
              "outlinewidth": 0,
              "ticks": ""
             }
            },
            "type": "scattergl"
           }
          ],
          "scattermapbox": [
           {
            "marker": {
             "colorbar": {
              "outlinewidth": 0,
              "ticks": ""
             }
            },
            "type": "scattermapbox"
           }
          ],
          "scatterpolar": [
           {
            "marker": {
             "colorbar": {
              "outlinewidth": 0,
              "ticks": ""
             }
            },
            "type": "scatterpolar"
           }
          ],
          "scatterpolargl": [
           {
            "marker": {
             "colorbar": {
              "outlinewidth": 0,
              "ticks": ""
             }
            },
            "type": "scatterpolargl"
           }
          ],
          "scatterternary": [
           {
            "marker": {
             "colorbar": {
              "outlinewidth": 0,
              "ticks": ""
             }
            },
            "type": "scatterternary"
           }
          ],
          "surface": [
           {
            "colorbar": {
             "outlinewidth": 0,
             "ticks": ""
            },
            "colorscale": [
             [
              0,
              "#0d0887"
             ],
             [
              0.1111111111111111,
              "#46039f"
             ],
             [
              0.2222222222222222,
              "#7201a8"
             ],
             [
              0.3333333333333333,
              "#9c179e"
             ],
             [
              0.4444444444444444,
              "#bd3786"
             ],
             [
              0.5555555555555556,
              "#d8576b"
             ],
             [
              0.6666666666666666,
              "#ed7953"
             ],
             [
              0.7777777777777778,
              "#fb9f3a"
             ],
             [
              0.8888888888888888,
              "#fdca26"
             ],
             [
              1,
              "#f0f921"
             ]
            ],
            "type": "surface"
           }
          ],
          "table": [
           {
            "cells": {
             "fill": {
              "color": "#EBF0F8"
             },
             "line": {
              "color": "white"
             }
            },
            "header": {
             "fill": {
              "color": "#C8D4E3"
             },
             "line": {
              "color": "white"
             }
            },
            "type": "table"
           }
          ]
         },
         "layout": {
          "annotationdefaults": {
           "arrowcolor": "#2a3f5f",
           "arrowhead": 0,
           "arrowwidth": 1
          },
          "autotypenumbers": "strict",
          "coloraxis": {
           "colorbar": {
            "outlinewidth": 0,
            "ticks": ""
           }
          },
          "colorscale": {
           "diverging": [
            [
             0,
             "#8e0152"
            ],
            [
             0.1,
             "#c51b7d"
            ],
            [
             0.2,
             "#de77ae"
            ],
            [
             0.3,
             "#f1b6da"
            ],
            [
             0.4,
             "#fde0ef"
            ],
            [
             0.5,
             "#f7f7f7"
            ],
            [
             0.6,
             "#e6f5d0"
            ],
            [
             0.7,
             "#b8e186"
            ],
            [
             0.8,
             "#7fbc41"
            ],
            [
             0.9,
             "#4d9221"
            ],
            [
             1,
             "#276419"
            ]
           ],
           "sequential": [
            [
             0,
             "#0d0887"
            ],
            [
             0.1111111111111111,
             "#46039f"
            ],
            [
             0.2222222222222222,
             "#7201a8"
            ],
            [
             0.3333333333333333,
             "#9c179e"
            ],
            [
             0.4444444444444444,
             "#bd3786"
            ],
            [
             0.5555555555555556,
             "#d8576b"
            ],
            [
             0.6666666666666666,
             "#ed7953"
            ],
            [
             0.7777777777777778,
             "#fb9f3a"
            ],
            [
             0.8888888888888888,
             "#fdca26"
            ],
            [
             1,
             "#f0f921"
            ]
           ],
           "sequentialminus": [
            [
             0,
             "#0d0887"
            ],
            [
             0.1111111111111111,
             "#46039f"
            ],
            [
             0.2222222222222222,
             "#7201a8"
            ],
            [
             0.3333333333333333,
             "#9c179e"
            ],
            [
             0.4444444444444444,
             "#bd3786"
            ],
            [
             0.5555555555555556,
             "#d8576b"
            ],
            [
             0.6666666666666666,
             "#ed7953"
            ],
            [
             0.7777777777777778,
             "#fb9f3a"
            ],
            [
             0.8888888888888888,
             "#fdca26"
            ],
            [
             1,
             "#f0f921"
            ]
           ]
          },
          "colorway": [
           "#636efa",
           "#EF553B",
           "#00cc96",
           "#ab63fa",
           "#FFA15A",
           "#19d3f3",
           "#FF6692",
           "#B6E880",
           "#FF97FF",
           "#FECB52"
          ],
          "font": {
           "color": "#2a3f5f"
          },
          "geo": {
           "bgcolor": "white",
           "lakecolor": "white",
           "landcolor": "#E5ECF6",
           "showlakes": true,
           "showland": true,
           "subunitcolor": "white"
          },
          "hoverlabel": {
           "align": "left"
          },
          "hovermode": "closest",
          "mapbox": {
           "style": "light"
          },
          "paper_bgcolor": "white",
          "plot_bgcolor": "#E5ECF6",
          "polar": {
           "angularaxis": {
            "gridcolor": "white",
            "linecolor": "white",
            "ticks": ""
           },
           "bgcolor": "#E5ECF6",
           "radialaxis": {
            "gridcolor": "white",
            "linecolor": "white",
            "ticks": ""
           }
          },
          "scene": {
           "xaxis": {
            "backgroundcolor": "#E5ECF6",
            "gridcolor": "white",
            "gridwidth": 2,
            "linecolor": "white",
            "showbackground": true,
            "ticks": "",
            "zerolinecolor": "white"
           },
           "yaxis": {
            "backgroundcolor": "#E5ECF6",
            "gridcolor": "white",
            "gridwidth": 2,
            "linecolor": "white",
            "showbackground": true,
            "ticks": "",
            "zerolinecolor": "white"
           },
           "zaxis": {
            "backgroundcolor": "#E5ECF6",
            "gridcolor": "white",
            "gridwidth": 2,
            "linecolor": "white",
            "showbackground": true,
            "ticks": "",
            "zerolinecolor": "white"
           }
          },
          "shapedefaults": {
           "line": {
            "color": "#2a3f5f"
           }
          },
          "ternary": {
           "aaxis": {
            "gridcolor": "white",
            "linecolor": "white",
            "ticks": ""
           },
           "baxis": {
            "gridcolor": "white",
            "linecolor": "white",
            "ticks": ""
           },
           "bgcolor": "#E5ECF6",
           "caxis": {
            "gridcolor": "white",
            "linecolor": "white",
            "ticks": ""
           }
          },
          "title": {
           "x": 0.05
          },
          "xaxis": {
           "automargin": true,
           "gridcolor": "white",
           "linecolor": "white",
           "ticks": "",
           "title": {
            "standoff": 15
           },
           "zerolinecolor": "white",
           "zerolinewidth": 2
          },
          "yaxis": {
           "automargin": true,
           "gridcolor": "white",
           "linecolor": "white",
           "ticks": "",
           "title": {
            "standoff": 15
           },
           "zerolinecolor": "white",
           "zerolinewidth": 2
          }
         }
        },
        "title": {
         "text": "Unemployment, total(%)"
        },
        "width": 1000,
        "xaxis": {
         "anchor": "y",
         "domain": [
          0,
          1
         ],
         "title": {
          "text": "value"
         }
        },
        "yaxis": {
         "anchor": "x",
         "domain": [
          0,
          1
         ],
         "title": {
          "text": "countrycode"
         }
        }
       }
      },
      "text/html": [
       "<div>                            <div id=\"61f13a52-64cc-42ae-aa43-84d0d156e2e0\" class=\"plotly-graph-div\" style=\"height:525px; width:1000px;\"></div>            <script type=\"text/javascript\">                require([\"plotly\"], function(Plotly) {                    window.PLOTLYENV=window.PLOTLYENV || {};                                    if (document.getElementById(\"61f13a52-64cc-42ae-aa43-84d0d156e2e0\")) {                    Plotly.newPlot(                        \"61f13a52-64cc-42ae-aa43-84d0d156e2e0\",                        [{\"hovertemplate\":\"variable=yr_2005_x<br>value=%{x}<br>countrycode=%{y}<extra></extra>\",\"legendgroup\":\"yr_2005_x\",\"marker\":{\"color\":\"#636efa\",\"symbol\":\"circle\"},\"mode\":\"markers\",\"name\":\"yr_2005_x\",\"orientation\":\"h\",\"showlegend\":true,\"x\":[6.76000022888184,5.07999992370605,9.56999969482422,3.55999994277954,3.09999990463257,8.85299968719482,29.1200008392334,2.84999990463257,1.35000002384186],\"xaxis\":\"x\",\"y\":[\"CAN\",\"USA\",\"BRA\",\"MEX\",\"NER\",\"SYR\",\"ZAF\",\"COD\",\"THA\"],\"yaxis\":\"y\",\"type\":\"scatter\"},{\"hovertemplate\":\"variable=yr_2006_x<br>value=%{x}<br>countrycode=%{y}<extra></extra>\",\"legendgroup\":\"yr_2006_x\",\"marker\":{\"color\":\"#EF553B\",\"symbol\":\"circle\"},\"mode\":\"markers\",\"name\":\"yr_2006_x\",\"orientation\":\"h\",\"showlegend\":true,\"x\":[6.32000017166138,4.61999988555908,8.64000034332275,3.5699999332428,2.6489999294281,8.17000007629395,28.3400001525879,3.08299994468689,1.22000002861023],\"xaxis\":\"x\",\"y\":[\"CAN\",\"USA\",\"BRA\",\"MEX\",\"NER\",\"SYR\",\"ZAF\",\"COD\",\"THA\"],\"yaxis\":\"y\",\"type\":\"scatter\"},{\"hovertemplate\":\"variable=yr_2007_x<br>value=%{x}<br>countrycode=%{y}<extra></extra>\",\"legendgroup\":\"yr_2007_x\",\"marker\":{\"color\":\"#00cc96\",\"symbol\":\"circle\"},\"mode\":\"markers\",\"name\":\"yr_2007_x\",\"orientation\":\"h\",\"showlegend\":true,\"x\":[6.03999996185303,4.61999988555908,8.32999992370605,3.63000011444092,2.20300006866455,8.42000007629395,26.5400009155273,3.31299996376038,1.17999994754791],\"xaxis\":\"x\",\"y\":[\"CAN\",\"USA\",\"BRA\",\"MEX\",\"NER\",\"SYR\",\"ZAF\",\"COD\",\"THA\"],\"yaxis\":\"y\",\"type\":\"scatter\"},{\"hovertemplate\":\"variable=yr_2008_x<br>value=%{x}<br>countrycode=%{y}<extra></extra>\",\"legendgroup\":\"yr_2008_x\",\"marker\":{\"color\":\"#ab63fa\",\"symbol\":\"circle\"},\"mode\":\"markers\",\"name\":\"yr_2008_x\",\"orientation\":\"h\",\"showlegend\":true,\"x\":[6.1399998664856,5.78000020980835,7.34000015258789,3.86999988555908,1.71000003814697,10.9399995803833,22.4099998474121,3.54699993133545,1.17999994754791],\"xaxis\":\"x\",\"y\":[\"CAN\",\"USA\",\"BRA\",\"MEX\",\"NER\",\"SYR\",\"ZAF\",\"COD\",\"THA\"],\"yaxis\":\"y\",\"type\":\"scatter\"},{\"hovertemplate\":\"variable=yr_2009_x<br>value=%{x}<br>countrycode=%{y}<extra></extra>\",\"legendgroup\":\"yr_2009_x\",\"marker\":{\"color\":\"#FFA15A\",\"symbol\":\"circle\"},\"mode\":\"markers\",\"name\":\"yr_2009_x\",\"orientation\":\"h\",\"showlegend\":true,\"x\":[8.34000015258789,9.25,8.52000045776367,5.3600001335144,1.26699995994568,8.14000034332275,23.5200004577637,3.79299998283386,0.949000000953674],\"xaxis\":\"x\",\"y\":[\"CAN\",\"USA\",\"BRA\",\"MEX\",\"NER\",\"SYR\",\"ZAF\",\"COD\",\"THA\"],\"yaxis\":\"y\",\"type\":\"scatter\"},{\"hovertemplate\":\"variable=yr_2010_x<br>value=%{x}<br>countrycode=%{y}<extra></extra>\",\"legendgroup\":\"yr_2010_x\",\"marker\":{\"color\":\"#19d3f3\",\"symbol\":\"circle\"},\"mode\":\"markers\",\"name\":\"yr_2010_x\",\"orientation\":\"h\",\"showlegend\":true,\"x\":[8.0600004196167,9.63000011444092,7.27400016784668,5.30000019073486,0.778999984264374,8.60999965667725,24.6800003051758,4.01399993896484,0.620000004768372],\"xaxis\":\"x\",\"y\":[\"CAN\",\"USA\",\"BRA\",\"MEX\",\"NER\",\"SYR\",\"ZAF\",\"COD\",\"THA\"],\"yaxis\":\"y\",\"type\":\"scatter\"},{\"hovertemplate\":\"variable=yr_2011_x<br>value=%{x}<br>countrycode=%{y}<extra></extra>\",\"legendgroup\":\"yr_2011_x\",\"marker\":{\"color\":\"#FF6692\",\"symbol\":\"circle\"},\"mode\":\"markers\",\"name\":\"yr_2011_x\",\"orientation\":\"h\",\"showlegend\":true,\"x\":[7.51000022888184,8.94999980926514,6.92000007629395,5.17000007629395,0.319999992847443,8.69699954986572,24.6399993896484,4.2519998550415,0.660000026226044],\"xaxis\":\"x\",\"y\":[\"CAN\",\"USA\",\"BRA\",\"MEX\",\"NER\",\"SYR\",\"ZAF\",\"COD\",\"THA\"],\"yaxis\":\"y\",\"type\":\"scatter\"},{\"hovertemplate\":\"variable=yr_2012_x<br>value=%{x}<br>countrycode=%{y}<extra></extra>\",\"legendgroup\":\"yr_2012_x\",\"marker\":{\"color\":\"#B6E880\",\"symbol\":\"circle\"},\"mode\":\"markers\",\"name\":\"yr_2012_x\",\"orientation\":\"h\",\"showlegend\":true,\"x\":[7.28999996185303,8.06999969482422,7.19000005722046,4.8899998664856,2.1800000667572,8.80799961090088,24.7299995422363,4.48999977111816,0.579999983310699],\"xaxis\":\"x\",\"y\":[\"CAN\",\"USA\",\"BRA\",\"MEX\",\"NER\",\"SYR\",\"ZAF\",\"COD\",\"THA\"],\"yaxis\":\"y\",\"type\":\"scatter\"},{\"hovertemplate\":\"variable=yr_2013_x<br>value=%{x}<br>countrycode=%{y}<extra></extra>\",\"legendgroup\":\"yr_2013_x\",\"marker\":{\"color\":\"#FF97FF\",\"symbol\":\"circle\"},\"mode\":\"markers\",\"name\":\"yr_2013_x\",\"orientation\":\"h\",\"showlegend\":true,\"x\":[7.07000017166138,7.36999988555908,6.98000001907349,4.90999984741211,1.36899995803833,8.82600021362305,24.5599994659424,4.47599983215332,0.25],\"xaxis\":\"x\",\"y\":[\"CAN\",\"USA\",\"BRA\",\"MEX\",\"NER\",\"SYR\",\"ZAF\",\"COD\",\"THA\"],\"yaxis\":\"y\",\"type\":\"scatter\"},{\"hovertemplate\":\"variable=yr_2014_x<br>value=%{x}<br>countrycode=%{y}<extra></extra>\",\"legendgroup\":\"yr_2014_x\",\"marker\":{\"color\":\"#FECB52\",\"symbol\":\"circle\"},\"mode\":\"markers\",\"name\":\"yr_2014_x\",\"orientation\":\"h\",\"showlegend\":true,\"x\":[6.90999984741211,6.17000007629395,6.65999984741211,4.80999994277954,0.519999980926514,8.7209997177124,24.8899993896484,4.46400022506714,0.579999983310699],\"xaxis\":\"x\",\"y\":[\"CAN\",\"USA\",\"BRA\",\"MEX\",\"NER\",\"SYR\",\"ZAF\",\"COD\",\"THA\"],\"yaxis\":\"y\",\"type\":\"scatter\"},{\"hovertemplate\":\"variable=yr_2015_x<br>value=%{x}<br>countrycode=%{y}<extra></extra>\",\"legendgroup\":\"yr_2015_x\",\"marker\":{\"color\":\"#636efa\",\"symbol\":\"circle\"},\"mode\":\"markers\",\"name\":\"yr_2015_x\",\"orientation\":\"h\",\"showlegend\":true,\"x\":[6.90999984741211,5.28000020980835,8.43000030517578,4.30999994277954,0.529999971389771,8.71199989318848,25.1499996185303,4.46600008010864,0.600000023841858],\"xaxis\":\"x\",\"y\":[\"CAN\",\"USA\",\"BRA\",\"MEX\",\"NER\",\"SYR\",\"ZAF\",\"COD\",\"THA\"],\"yaxis\":\"y\",\"type\":\"scatter\"},{\"hovertemplate\":\"variable=yr_2016_x<br>value=%{x}<br>countrycode=%{y}<extra></extra>\",\"legendgroup\":\"yr_2016_x\",\"marker\":{\"color\":\"#EF553B\",\"symbol\":\"circle\"},\"mode\":\"markers\",\"name\":\"yr_2016_x\",\"orientation\":\"h\",\"showlegend\":true,\"x\":[7.0,4.86999988555908,11.6000003814697,3.85999989509583,0.533999979496002,8.72500038146973,26.5400009155273,4.47700023651123,0.689999997615814],\"xaxis\":\"x\",\"y\":[\"CAN\",\"USA\",\"BRA\",\"MEX\",\"NER\",\"SYR\",\"ZAF\",\"COD\",\"THA\"],\"yaxis\":\"y\",\"type\":\"scatter\"},{\"hovertemplate\":\"variable=yr_2017_x<br>value=%{x}<br>countrycode=%{y}<extra></extra>\",\"legendgroup\":\"yr_2017_x\",\"marker\":{\"color\":\"#00cc96\",\"symbol\":\"circle\"},\"mode\":\"markers\",\"name\":\"yr_2017_x\",\"orientation\":\"h\",\"showlegend\":true,\"x\":[6.34000015258789,4.3600001335144,12.8199996948242,3.42000007629395,0.541999995708466,8.7519998550415,27.0400009155273,4.46500015258789,0.829999983310699],\"xaxis\":\"x\",\"y\":[\"CAN\",\"USA\",\"BRA\",\"MEX\",\"NER\",\"SYR\",\"ZAF\",\"COD\",\"THA\"],\"yaxis\":\"y\",\"type\":\"scatter\"},{\"hovertemplate\":\"variable=yr_2018_x<br>value=%{x}<br>countrycode=%{y}<extra></extra>\",\"legendgroup\":\"yr_2018_x\",\"marker\":{\"color\":\"#ab63fa\",\"symbol\":\"circle\"},\"mode\":\"markers\",\"name\":\"yr_2018_x\",\"orientation\":\"h\",\"showlegend\":true,\"x\":[5.82999992370605,3.90000009536743,12.3299999237061,3.27999997138977,0.545000016689301,8.75500011444092,26.9099998474121,4.45100021362305,0.769999980926514],\"xaxis\":\"x\",\"y\":[\"CAN\",\"USA\",\"BRA\",\"MEX\",\"NER\",\"SYR\",\"ZAF\",\"COD\",\"THA\"],\"yaxis\":\"y\",\"type\":\"scatter\"},{\"hovertemplate\":\"variable=yr_2019_x<br>value=%{x}<br>countrycode=%{y}<extra></extra>\",\"legendgroup\":\"yr_2019_x\",\"marker\":{\"color\":\"#FFA15A\",\"symbol\":\"circle\"},\"mode\":\"markers\",\"name\":\"yr_2019_x\",\"orientation\":\"h\",\"showlegend\":true,\"x\":[5.65999984741211,3.67000007629395,11.9300003051758,3.48000001907349,0.554000020027161,8.77299976348877,28.4699993133545,4.45100021362305,0.720000028610229],\"xaxis\":\"x\",\"y\":[\"CAN\",\"USA\",\"BRA\",\"MEX\",\"NER\",\"SYR\",\"ZAF\",\"COD\",\"THA\"],\"yaxis\":\"y\",\"type\":\"scatter\"},{\"hovertemplate\":\"variable=yr_2020_x<br>value=%{x}<br>countrycode=%{y}<extra></extra>\",\"legendgroup\":\"yr_2020_x\",\"marker\":{\"color\":\"#19d3f3\",\"symbol\":\"circle\"},\"mode\":\"markers\",\"name\":\"yr_2020_x\",\"orientation\":\"h\",\"showlegend\":true,\"x\":[9.46000003814697,8.05000019073486,13.6899995803833,4.44999980926514,0.624000012874603,10.2569999694824,29.2199993133545,5.26599979400635,1.10000002384186],\"xaxis\":\"x\",\"y\":[\"CAN\",\"USA\",\"BRA\",\"MEX\",\"NER\",\"SYR\",\"ZAF\",\"COD\",\"THA\"],\"yaxis\":\"y\",\"type\":\"scatter\"},{\"hovertemplate\":\"variable=yr_2005_y<br>value=%{x}<br>countrycode=%{y}<extra></extra>\",\"legendgroup\":\"yr_2005_y\",\"marker\":{\"color\":\"#FF6692\",\"symbol\":\"circle\"},\"mode\":\"markers\",\"name\":\"yr_2005_y\",\"orientation\":\"h\",\"showlegend\":true,\"x\":[99.80519484,99.8817868,77.56479232,81.27377788,7.901511602,91.0882877,64.01580626,22.05200139,93.83781676],\"xaxis\":\"x\",\"y\":[\"CAN\",\"USA\",\"BRA\",\"MEX\",\"NER\",\"SYR\",\"ZAF\",\"COD\",\"THA\"],\"yaxis\":\"y\",\"type\":\"scatter\"},{\"hovertemplate\":\"variable=yr_2006_y<br>value=%{x}<br>countrycode=%{y}<extra></extra>\",\"legendgroup\":\"yr_2006_y\",\"marker\":{\"color\":\"#B6E880\",\"symbol\":\"circle\"},\"mode\":\"markers\",\"name\":\"yr_2006_y\",\"orientation\":\"h\",\"showlegend\":true,\"x\":[99.75033789,99.88154042,78.43290643,82.07830717,8.401596097,91.02442426,65.04813012,21.55023257,94.13753606],\"xaxis\":\"x\",\"y\":[\"CAN\",\"USA\",\"BRA\",\"MEX\",\"NER\",\"SYR\",\"ZAF\",\"COD\",\"THA\"],\"yaxis\":\"y\",\"type\":\"scatter\"},{\"hovertemplate\":\"variable=yr_2007_y<br>value=%{x}<br>countrycode=%{y}<extra></extra>\",\"legendgroup\":\"yr_2007_y\",\"marker\":{\"color\":\"#FF97FF\",\"symbol\":\"circle\"},\"mode\":\"markers\",\"name\":\"yr_2007_y\",\"orientation\":\"h\",\"showlegend\":true,\"x\":[99.69595411,99.88129549,79.29597638,82.87293106,8.8936197,90.95633527,66.07165911,21.05658611,94.4425781],\"xaxis\":\"x\",\"y\":[\"CAN\",\"USA\",\"BRA\",\"MEX\",\"NER\",\"SYR\",\"ZAF\",\"COD\",\"THA\"],\"yaxis\":\"y\",\"type\":\"scatter\"},{\"hovertemplate\":\"variable=yr_2008_y<br>value=%{x}<br>countrycode=%{y}<extra></extra>\",\"legendgroup\":\"yr_2008_y\",\"marker\":{\"color\":\"#FECB52\",\"symbol\":\"circle\"},\"mode\":\"markers\",\"name\":\"yr_2008_y\",\"orientation\":\"h\",\"showlegend\":true,\"x\":[99.6414571,99.8810546,80.1540827,83.65830449,9.377293422,90.88388403,67.08632138,20.57102918,94.75302481],\"xaxis\":\"x\",\"y\":[\"CAN\",\"USA\",\"BRA\",\"MEX\",\"NER\",\"SYR\",\"ZAF\",\"COD\",\"THA\"],\"yaxis\":\"y\",\"type\":\"scatter\"},{\"hovertemplate\":\"variable=yr_2009_y<br>value=%{x}<br>countrycode=%{y}<extra></extra>\",\"legendgroup\":\"yr_2009_y\",\"marker\":{\"color\":\"#636efa\",\"symbol\":\"circle\"},\"mode\":\"markers\",\"name\":\"yr_2009_y\",\"orientation\":\"h\",\"showlegend\":true,\"x\":[99.5868457,99.88081511,81.00652682,84.43419231,9.853170088,90.80703479,68.0912245,20.09368866,95.06909558],\"xaxis\":\"x\",\"y\":[\"CAN\",\"USA\",\"BRA\",\"MEX\",\"NER\",\"SYR\",\"ZAF\",\"COD\",\"THA\"],\"yaxis\":\"y\",\"type\":\"scatter\"},{\"hovertemplate\":\"variable=yr_2010_y<br>value=%{x}<br>countrycode=%{y}<extra></extra>\",\"legendgroup\":\"yr_2010_y\",\"marker\":{\"color\":\"#EF553B\",\"symbol\":\"circle\"},\"mode\":\"markers\",\"name\":\"yr_2010_y\",\"orientation\":\"h\",\"showlegend\":true,\"x\":[99.53213067,99.86076619,81.85420444,85.20102819,10.32097412,90.7259759,69.08668367,19.62451329,95.39077552],\"xaxis\":\"x\",\"y\":[\"CAN\",\"USA\",\"BRA\",\"MEX\",\"NER\",\"SYR\",\"ZAF\",\"COD\",\"THA\"],\"yaxis\":\"y\",\"type\":\"scatter\"},{\"hovertemplate\":\"variable=yr_2011_y<br>value=%{x}<br>countrycode=%{y}<extra></extra>\",\"legendgroup\":\"yr_2011_y\",\"marker\":{\"color\":\"#00cc96\",\"symbol\":\"circle\"},\"mode\":\"markers\",\"name\":\"yr_2011_y\",\"orientation\":\"h\",\"showlegend\":true,\"x\":[99.47721571,99.84103269,82.70058102,85.95971004,10.78038007,90.57767283,70.07234949,19.16364168,95.72517684],\"xaxis\":\"x\",\"y\":[\"CAN\",\"USA\",\"BRA\",\"MEX\",\"NER\",\"SYR\",\"ZAF\",\"COD\",\"THA\"],\"yaxis\":\"y\",\"type\":\"scatter\"},{\"hovertemplate\":\"variable=yr_2012_y<br>value=%{x}<br>countrycode=%{y}<extra></extra>\",\"legendgroup\":\"yr_2012_y\",\"marker\":{\"color\":\"#ab63fa\",\"symbol\":\"circle\"},\"mode\":\"markers\",\"name\":\"yr_2012_y\",\"orientation\":\"h\",\"showlegend\":true,\"x\":[99.42171918,99.82162867,83.54222598,86.70980432,11.23201288,90.43993583,71.04814234,18.71100167,96.06462166],\"xaxis\":\"x\",\"y\":[\"CAN\",\"USA\",\"BRA\",\"MEX\",\"NER\",\"SYR\",\"ZAF\",\"COD\",\"THA\"],\"yaxis\":\"y\",\"type\":\"scatter\"},{\"hovertemplate\":\"variable=yr_2013_y<br>value=%{x}<br>countrycode=%{y}<extra></extra>\",\"legendgroup\":\"yr_2013_y\",\"marker\":{\"color\":\"#FFA15A\",\"symbol\":\"circle\"},\"mode\":\"markers\",\"name\":\"yr_2013_y\",\"orientation\":\"h\",\"showlegend\":true,\"x\":[99.36619078,99.80256859,84.37851825,87.45178303,11.67555994,90.31297485,72.01358167,18.26661658,96.40752741],\"xaxis\":\"x\",\"y\":[\"CAN\",\"USA\",\"BRA\",\"MEX\",\"NER\",\"SYR\",\"ZAF\",\"COD\",\"THA\"],\"yaxis\":\"y\",\"type\":\"scatter\"},{\"hovertemplate\":\"variable=yr_2014_y<br>value=%{x}<br>countrycode=%{y}<extra></extra>\",\"legendgroup\":\"yr_2014_y\",\"marker\":{\"color\":\"#19d3f3\",\"symbol\":\"circle\"},\"mode\":\"markers\",\"name\":\"yr_2014_y\",\"orientation\":\"h\",\"showlegend\":true,\"x\":[99.31064352,99.78386084,85.21064211,88.18573213,12.11638501,90.19673733,72.96880358,17.83057536,96.75388237],\"xaxis\":\"x\",\"y\":[\"CAN\",\"USA\",\"BRA\",\"MEX\",\"NER\",\"SYR\",\"ZAF\",\"COD\",\"THA\"],\"yaxis\":\"y\",\"type\":\"scatter\"},{\"hovertemplate\":\"variable=yr_2015_y<br>value=%{x}<br>countrycode=%{y}<extra></extra>\",\"legendgroup\":\"yr_2015_y\",\"marker\":{\"color\":\"#FF6692\",\"symbol\":\"circle\"},\"mode\":\"markers\",\"name\":\"yr_2015_y\",\"orientation\":\"h\",\"showlegend\":true,\"x\":[99.25507123,99.7655241,86.03796198,88.91148404,12.55582982,90.13175702,73.9135389,17.40283928,97.10370657],\"xaxis\":\"x\",\"y\":[\"CAN\",\"USA\",\"BRA\",\"MEX\",\"NER\",\"SYR\",\"ZAF\",\"COD\",\"THA\"],\"yaxis\":\"y\",\"type\":\"scatter\"},{\"hovertemplate\":\"variable=yr_2016_y<br>value=%{x}<br>countrycode=%{y}<extra></extra>\",\"legendgroup\":\"yr_2016_y\",\"marker\":{\"color\":\"#B6E880\",\"symbol\":\"circle\"},\"mode\":\"markers\",\"name\":\"yr_2016_y\",\"orientation\":\"h\",\"showlegend\":true,\"x\":[99.19947682,99.74755356,86.86024254,89.62944687,12.99383525,90.05918385,74.84761764,16.98342625,97.45533132],\"xaxis\":\"x\",\"y\":[\"CAN\",\"USA\",\"BRA\",\"MEX\",\"NER\",\"SYR\",\"ZAF\",\"COD\",\"THA\"],\"yaxis\":\"y\",\"type\":\"scatter\"},{\"hovertemplate\":\"variable=yr_2017_y<br>value=%{x}<br>countrycode=%{y}<extra></extra>\",\"legendgroup\":\"yr_2017_y\",\"marker\":{\"color\":\"#FF97FF\",\"symbol\":\"circle\"},\"mode\":\"markers\",\"name\":\"yr_2017_y\",\"orientation\":\"h\",\"showlegend\":true,\"x\":[99.14388406,99.72996764,87.67795802,90.33947554,13.43185924,89.9790253,75.77086841,16.57227169,97.79090683],\"xaxis\":\"x\",\"y\":[\"CAN\",\"USA\",\"BRA\",\"MEX\",\"NER\",\"SYR\",\"ZAF\",\"COD\",\"THA\"],\"yaxis\":\"y\",\"type\":\"scatter\"},{\"hovertemplate\":\"variable=yr_2018_y<br>value=%{x}<br>countrycode=%{y}<extra></extra>\",\"legendgroup\":\"yr_2018_y\",\"marker\":{\"color\":\"#FECB52\",\"symbol\":\"circle\"},\"mode\":\"markers\",\"name\":\"yr_2018_y\",\"orientation\":\"h\",\"showlegend\":true,\"x\":[99.08828896,99.71277377,88.49054496,91.04184497,13.86985027,89.89132051,76.68318836,16.16946438,98.12521791],\"xaxis\":\"x\",\"y\":[\"CAN\",\"USA\",\"BRA\",\"MEX\",\"NER\",\"SYR\",\"ZAF\",\"COD\",\"THA\"],\"yaxis\":\"y\",\"type\":\"scatter\"},{\"hovertemplate\":\"variable=yr_2019_y<br>value=%{x}<br>countrycode=%{y}<extra></extra>\",\"legendgroup\":\"yr_2019_y\",\"marker\":{\"color\":\"#636efa\",\"symbol\":\"circle\"},\"mode\":\"markers\",\"name\":\"yr_2019_y\",\"orientation\":\"h\",\"showlegend\":true,\"x\":[99.03268117,99.69599445,89.29879625,91.73666093,14.30938558,89.79611461,77.58447964,15.77493074,98.42052549],\"xaxis\":\"x\",\"y\":[\"CAN\",\"USA\",\"BRA\",\"MEX\",\"NER\",\"SYR\",\"ZAF\",\"COD\",\"THA\"],\"yaxis\":\"y\",\"type\":\"scatter\"},{\"hovertemplate\":\"variable=yr_2020_y<br>value=%{x}<br>countrycode=%{y}<extra></extra>\",\"legendgroup\":\"yr_2020_y\",\"marker\":{\"color\":\"#EF553B\",\"symbol\":\"circle\"},\"mode\":\"markers\",\"name\":\"yr_2020_y\",\"orientation\":\"h\",\"showlegend\":true,\"x\":[99.03286158,99.67961928,90.07847103,92.42406261,14.75130566,89.69347966,78.47461071,15.38867157,98.71311912],\"xaxis\":\"x\",\"y\":[\"CAN\",\"USA\",\"BRA\",\"MEX\",\"NER\",\"SYR\",\"ZAF\",\"COD\",\"THA\"],\"yaxis\":\"y\",\"type\":\"scatter\"}],                        {\"template\":{\"data\":{\"histogram2dcontour\":[{\"type\":\"histogram2dcontour\",\"colorbar\":{\"outlinewidth\":0,\"ticks\":\"\"},\"colorscale\":[[0.0,\"#0d0887\"],[0.1111111111111111,\"#46039f\"],[0.2222222222222222,\"#7201a8\"],[0.3333333333333333,\"#9c179e\"],[0.4444444444444444,\"#bd3786\"],[0.5555555555555556,\"#d8576b\"],[0.6666666666666666,\"#ed7953\"],[0.7777777777777778,\"#fb9f3a\"],[0.8888888888888888,\"#fdca26\"],[1.0,\"#f0f921\"]]}],\"choropleth\":[{\"type\":\"choropleth\",\"colorbar\":{\"outlinewidth\":0,\"ticks\":\"\"}}],\"histogram2d\":[{\"type\":\"histogram2d\",\"colorbar\":{\"outlinewidth\":0,\"ticks\":\"\"},\"colorscale\":[[0.0,\"#0d0887\"],[0.1111111111111111,\"#46039f\"],[0.2222222222222222,\"#7201a8\"],[0.3333333333333333,\"#9c179e\"],[0.4444444444444444,\"#bd3786\"],[0.5555555555555556,\"#d8576b\"],[0.6666666666666666,\"#ed7953\"],[0.7777777777777778,\"#fb9f3a\"],[0.8888888888888888,\"#fdca26\"],[1.0,\"#f0f921\"]]}],\"heatmap\":[{\"type\":\"heatmap\",\"colorbar\":{\"outlinewidth\":0,\"ticks\":\"\"},\"colorscale\":[[0.0,\"#0d0887\"],[0.1111111111111111,\"#46039f\"],[0.2222222222222222,\"#7201a8\"],[0.3333333333333333,\"#9c179e\"],[0.4444444444444444,\"#bd3786\"],[0.5555555555555556,\"#d8576b\"],[0.6666666666666666,\"#ed7953\"],[0.7777777777777778,\"#fb9f3a\"],[0.8888888888888888,\"#fdca26\"],[1.0,\"#f0f921\"]]}],\"heatmapgl\":[{\"type\":\"heatmapgl\",\"colorbar\":{\"outlinewidth\":0,\"ticks\":\"\"},\"colorscale\":[[0.0,\"#0d0887\"],[0.1111111111111111,\"#46039f\"],[0.2222222222222222,\"#7201a8\"],[0.3333333333333333,\"#9c179e\"],[0.4444444444444444,\"#bd3786\"],[0.5555555555555556,\"#d8576b\"],[0.6666666666666666,\"#ed7953\"],[0.7777777777777778,\"#fb9f3a\"],[0.8888888888888888,\"#fdca26\"],[1.0,\"#f0f921\"]]}],\"contourcarpet\":[{\"type\":\"contourcarpet\",\"colorbar\":{\"outlinewidth\":0,\"ticks\":\"\"}}],\"contour\":[{\"type\":\"contour\",\"colorbar\":{\"outlinewidth\":0,\"ticks\":\"\"},\"colorscale\":[[0.0,\"#0d0887\"],[0.1111111111111111,\"#46039f\"],[0.2222222222222222,\"#7201a8\"],[0.3333333333333333,\"#9c179e\"],[0.4444444444444444,\"#bd3786\"],[0.5555555555555556,\"#d8576b\"],[0.6666666666666666,\"#ed7953\"],[0.7777777777777778,\"#fb9f3a\"],[0.8888888888888888,\"#fdca26\"],[1.0,\"#f0f921\"]]}],\"surface\":[{\"type\":\"surface\",\"colorbar\":{\"outlinewidth\":0,\"ticks\":\"\"},\"colorscale\":[[0.0,\"#0d0887\"],[0.1111111111111111,\"#46039f\"],[0.2222222222222222,\"#7201a8\"],[0.3333333333333333,\"#9c179e\"],[0.4444444444444444,\"#bd3786\"],[0.5555555555555556,\"#d8576b\"],[0.6666666666666666,\"#ed7953\"],[0.7777777777777778,\"#fb9f3a\"],[0.8888888888888888,\"#fdca26\"],[1.0,\"#f0f921\"]]}],\"mesh3d\":[{\"type\":\"mesh3d\",\"colorbar\":{\"outlinewidth\":0,\"ticks\":\"\"}}],\"scatter\":[{\"fillpattern\":{\"fillmode\":\"overlay\",\"size\":10,\"solidity\":0.2},\"type\":\"scatter\"}],\"parcoords\":[{\"type\":\"parcoords\",\"line\":{\"colorbar\":{\"outlinewidth\":0,\"ticks\":\"\"}}}],\"scatterpolargl\":[{\"type\":\"scatterpolargl\",\"marker\":{\"colorbar\":{\"outlinewidth\":0,\"ticks\":\"\"}}}],\"bar\":[{\"error_x\":{\"color\":\"#2a3f5f\"},\"error_y\":{\"color\":\"#2a3f5f\"},\"marker\":{\"line\":{\"color\":\"#E5ECF6\",\"width\":0.5},\"pattern\":{\"fillmode\":\"overlay\",\"size\":10,\"solidity\":0.2}},\"type\":\"bar\"}],\"scattergeo\":[{\"type\":\"scattergeo\",\"marker\":{\"colorbar\":{\"outlinewidth\":0,\"ticks\":\"\"}}}],\"scatterpolar\":[{\"type\":\"scatterpolar\",\"marker\":{\"colorbar\":{\"outlinewidth\":0,\"ticks\":\"\"}}}],\"histogram\":[{\"marker\":{\"pattern\":{\"fillmode\":\"overlay\",\"size\":10,\"solidity\":0.2}},\"type\":\"histogram\"}],\"scattergl\":[{\"type\":\"scattergl\",\"marker\":{\"colorbar\":{\"outlinewidth\":0,\"ticks\":\"\"}}}],\"scatter3d\":[{\"type\":\"scatter3d\",\"line\":{\"colorbar\":{\"outlinewidth\":0,\"ticks\":\"\"}},\"marker\":{\"colorbar\":{\"outlinewidth\":0,\"ticks\":\"\"}}}],\"scattermapbox\":[{\"type\":\"scattermapbox\",\"marker\":{\"colorbar\":{\"outlinewidth\":0,\"ticks\":\"\"}}}],\"scatterternary\":[{\"type\":\"scatterternary\",\"marker\":{\"colorbar\":{\"outlinewidth\":0,\"ticks\":\"\"}}}],\"scattercarpet\":[{\"type\":\"scattercarpet\",\"marker\":{\"colorbar\":{\"outlinewidth\":0,\"ticks\":\"\"}}}],\"carpet\":[{\"aaxis\":{\"endlinecolor\":\"#2a3f5f\",\"gridcolor\":\"white\",\"linecolor\":\"white\",\"minorgridcolor\":\"white\",\"startlinecolor\":\"#2a3f5f\"},\"baxis\":{\"endlinecolor\":\"#2a3f5f\",\"gridcolor\":\"white\",\"linecolor\":\"white\",\"minorgridcolor\":\"white\",\"startlinecolor\":\"#2a3f5f\"},\"type\":\"carpet\"}],\"table\":[{\"cells\":{\"fill\":{\"color\":\"#EBF0F8\"},\"line\":{\"color\":\"white\"}},\"header\":{\"fill\":{\"color\":\"#C8D4E3\"},\"line\":{\"color\":\"white\"}},\"type\":\"table\"}],\"barpolar\":[{\"marker\":{\"line\":{\"color\":\"#E5ECF6\",\"width\":0.5},\"pattern\":{\"fillmode\":\"overlay\",\"size\":10,\"solidity\":0.2}},\"type\":\"barpolar\"}],\"pie\":[{\"automargin\":true,\"type\":\"pie\"}]},\"layout\":{\"autotypenumbers\":\"strict\",\"colorway\":[\"#636efa\",\"#EF553B\",\"#00cc96\",\"#ab63fa\",\"#FFA15A\",\"#19d3f3\",\"#FF6692\",\"#B6E880\",\"#FF97FF\",\"#FECB52\"],\"font\":{\"color\":\"#2a3f5f\"},\"hovermode\":\"closest\",\"hoverlabel\":{\"align\":\"left\"},\"paper_bgcolor\":\"white\",\"plot_bgcolor\":\"#E5ECF6\",\"polar\":{\"bgcolor\":\"#E5ECF6\",\"angularaxis\":{\"gridcolor\":\"white\",\"linecolor\":\"white\",\"ticks\":\"\"},\"radialaxis\":{\"gridcolor\":\"white\",\"linecolor\":\"white\",\"ticks\":\"\"}},\"ternary\":{\"bgcolor\":\"#E5ECF6\",\"aaxis\":{\"gridcolor\":\"white\",\"linecolor\":\"white\",\"ticks\":\"\"},\"baxis\":{\"gridcolor\":\"white\",\"linecolor\":\"white\",\"ticks\":\"\"},\"caxis\":{\"gridcolor\":\"white\",\"linecolor\":\"white\",\"ticks\":\"\"}},\"coloraxis\":{\"colorbar\":{\"outlinewidth\":0,\"ticks\":\"\"}},\"colorscale\":{\"sequential\":[[0.0,\"#0d0887\"],[0.1111111111111111,\"#46039f\"],[0.2222222222222222,\"#7201a8\"],[0.3333333333333333,\"#9c179e\"],[0.4444444444444444,\"#bd3786\"],[0.5555555555555556,\"#d8576b\"],[0.6666666666666666,\"#ed7953\"],[0.7777777777777778,\"#fb9f3a\"],[0.8888888888888888,\"#fdca26\"],[1.0,\"#f0f921\"]],\"sequentialminus\":[[0.0,\"#0d0887\"],[0.1111111111111111,\"#46039f\"],[0.2222222222222222,\"#7201a8\"],[0.3333333333333333,\"#9c179e\"],[0.4444444444444444,\"#bd3786\"],[0.5555555555555556,\"#d8576b\"],[0.6666666666666666,\"#ed7953\"],[0.7777777777777778,\"#fb9f3a\"],[0.8888888888888888,\"#fdca26\"],[1.0,\"#f0f921\"]],\"diverging\":[[0,\"#8e0152\"],[0.1,\"#c51b7d\"],[0.2,\"#de77ae\"],[0.3,\"#f1b6da\"],[0.4,\"#fde0ef\"],[0.5,\"#f7f7f7\"],[0.6,\"#e6f5d0\"],[0.7,\"#b8e186\"],[0.8,\"#7fbc41\"],[0.9,\"#4d9221\"],[1,\"#276419\"]]},\"xaxis\":{\"gridcolor\":\"white\",\"linecolor\":\"white\",\"ticks\":\"\",\"title\":{\"standoff\":15},\"zerolinecolor\":\"white\",\"automargin\":true,\"zerolinewidth\":2},\"yaxis\":{\"gridcolor\":\"white\",\"linecolor\":\"white\",\"ticks\":\"\",\"title\":{\"standoff\":15},\"zerolinecolor\":\"white\",\"automargin\":true,\"zerolinewidth\":2},\"scene\":{\"xaxis\":{\"backgroundcolor\":\"#E5ECF6\",\"gridcolor\":\"white\",\"linecolor\":\"white\",\"showbackground\":true,\"ticks\":\"\",\"zerolinecolor\":\"white\",\"gridwidth\":2},\"yaxis\":{\"backgroundcolor\":\"#E5ECF6\",\"gridcolor\":\"white\",\"linecolor\":\"white\",\"showbackground\":true,\"ticks\":\"\",\"zerolinecolor\":\"white\",\"gridwidth\":2},\"zaxis\":{\"backgroundcolor\":\"#E5ECF6\",\"gridcolor\":\"white\",\"linecolor\":\"white\",\"showbackground\":true,\"ticks\":\"\",\"zerolinecolor\":\"white\",\"gridwidth\":2}},\"shapedefaults\":{\"line\":{\"color\":\"#2a3f5f\"}},\"annotationdefaults\":{\"arrowcolor\":\"#2a3f5f\",\"arrowhead\":0,\"arrowwidth\":1},\"geo\":{\"bgcolor\":\"white\",\"landcolor\":\"#E5ECF6\",\"subunitcolor\":\"white\",\"showland\":true,\"showlakes\":true,\"lakecolor\":\"white\"},\"title\":{\"x\":0.05},\"mapbox\":{\"style\":\"light\"}}},\"xaxis\":{\"anchor\":\"y\",\"domain\":[0.0,1.0],\"title\":{\"text\":\"value\"}},\"yaxis\":{\"anchor\":\"x\",\"domain\":[0.0,1.0],\"title\":{\"text\":\"countrycode\"}},\"legend\":{\"title\":{\"text\":\"variable\"},\"tracegroupgap\":0},\"title\":{\"text\":\"Unemployment, total(%)\"},\"width\":1000},                        {\"responsive\": true}                    ).then(function(){\n",
       "                            \n",
       "var gd = document.getElementById('61f13a52-64cc-42ae-aa43-84d0d156e2e0');\n",
       "var x = new MutationObserver(function (mutations, observer) {{\n",
       "        var display = window.getComputedStyle(gd).display;\n",
       "        if (!display || display === 'none') {{\n",
       "            console.log([gd, 'removed!']);\n",
       "            Plotly.purge(gd);\n",
       "            observer.disconnect();\n",
       "        }}\n",
       "}});\n",
       "\n",
       "// Listen for the removal of the full notebook cells\n",
       "var notebookContainer = gd.closest('#notebook-container');\n",
       "if (notebookContainer) {{\n",
       "    x.observe(notebookContainer, {childList: true});\n",
       "}}\n",
       "\n",
       "// Listen for the clearing of the current output cell\n",
       "var outputEl = gd.closest('.output');\n",
       "if (outputEl) {{\n",
       "    x.observe(outputEl, {childList: true});\n",
       "}}\n",
       "\n",
       "                        })                };                });            </script>        </div>"
      ]
     },
     "metadata": {},
     "output_type": "display_data"
    }
   ],
   "source": [
    "df=df_quality\n",
    "\n",
    "df.plot(\n",
    "    title='Unemployment, total(%)',\n",
    "    kind='scatter',\n",
    "    x= df.drop(['countrycode'], axis = 1).columns, #['yr_2005', 'yr_2006','yr_2007','yr_2008','yr_2009', 'yr_2011'], \n",
    "    y='countrycode', \n",
    "    backend='plotly', \n",
    "    width=1000, \n",
    "    \n",
    ")"
   ]
  },
  {
   "cell_type": "code",
   "execution_count": 149,
   "id": "880234c9",
   "metadata": {},
   "outputs": [
    {
     "data": {
      "text/plain": [
       "<AxesSubplot:>"
      ]
     },
     "execution_count": 149,
     "metadata": {},
     "output_type": "execute_result"
    },
    {
     "data": {
      "image/png": "[encoded data removed]",
      "text/plain": [
       "<Figure size 1440x720 with 1 Axes>"
      ]
     },
     "metadata": {},
     "output_type": "display_data"
    }
   ],
   "source": [
    "####Boxplot Unemployment total #######\n",
    "df=df_quality\n",
    "df.boxplot(column=list(df.drop(['countrycode'], axis = 1).columns), rot=45, fontsize=15, figsize=(20,10))"
   ]
  },
  {
   "cell_type": "code",
   "execution_count": 164,
   "id": "0b9c3f77",
   "metadata": {},
   "outputs": [
    {
     "data": {
      "text/plain": [
       "<AxesSubplot:ylabel='Frequency'>"
      ]
     },
     "execution_count": 164,
     "metadata": {},
     "output_type": "execute_result"
    },
    {
     "data": {
      "image/png": "[encoded data removed]",
      "text/plain": [
       "<Figure size 432x288 with 1 Axes>"
      ]
     },
     "metadata": {},
     "output_type": "display_data"
    }
   ],
   "source": [
    "#####Histogram Total unemployment #####\n",
    "df=df_quality\n",
    "df.plot.hist(bins=20, alpha=0.75)"
   ]
  },
  {
   "cell_type": "code",
   "execution_count": 33,
   "id": "desirable-table",
   "metadata": {},
   "outputs": [
    {
     "data": {
      "text/html": [
       "<div>\n",
       "<style scoped>\n",
       "    .dataframe tbody tr th:only-of-type {\n",
       "        vertical-align: middle;\n",
       "    }\n",
       "\n",
       "    .dataframe tbody tr th {\n",
       "        vertical-align: top;\n",
       "    }\n",
       "\n",
       "    .dataframe thead th {\n",
       "        text-align: right;\n",
       "    }\n",
       "</style>\n",
       "<table border=\"1\" class=\"dataframe\">\n",
       "  <thead>\n",
       "    <tr style=\"text-align: right;\">\n",
       "      <th></th>\n",
       "      <th>countrycode</th>\n",
       "      <th>incomegroup</th>\n",
       "      <th>countryname</th>\n",
       "      <th>yr_2005</th>\n",
       "      <th>yr_2006</th>\n",
       "      <th>yr_2007</th>\n",
       "      <th>yr_2008</th>\n",
       "      <th>yr_2009</th>\n",
       "      <th>yr_2010</th>\n",
       "      <th>yr_2011</th>\n",
       "      <th>...</th>\n",
       "      <th>BasicSan_yr_2019</th>\n",
       "      <th>BasicSan_yr_2020</th>\n",
       "      <th>0</th>\n",
       "      <th>East Asia &amp; Pacific</th>\n",
       "      <th>Europe &amp; Central Asia</th>\n",
       "      <th>Latin America &amp; Caribbean</th>\n",
       "      <th>Middle East &amp; North Africa</th>\n",
       "      <th>North America</th>\n",
       "      <th>South Asia</th>\n",
       "      <th>Sub-Saharan Africa</th>\n",
       "    </tr>\n",
       "  </thead>\n",
       "  <tbody>\n",
       "    <tr>\n",
       "      <th>0</th>\n",
       "      <td>AFG</td>\n",
       "      <td>Low income</td>\n",
       "      <td>Afghanistan</td>\n",
       "      <td>0.16</td>\n",
       "      <td>0.16</td>\n",
       "      <td>0.16</td>\n",
       "      <td>0.16</td>\n",
       "      <td>0.16</td>\n",
       "      <td>0.18</td>\n",
       "      <td>0.18</td>\n",
       "      <td>...</td>\n",
       "      <td>0.00000</td>\n",
       "      <td>0.000000</td>\n",
       "      <td>0</td>\n",
       "      <td>0</td>\n",
       "      <td>0</td>\n",
       "      <td>0</td>\n",
       "      <td>0</td>\n",
       "      <td>0</td>\n",
       "      <td>1</td>\n",
       "      <td>0</td>\n",
       "    </tr>\n",
       "    <tr>\n",
       "      <th>1</th>\n",
       "      <td>AGO</td>\n",
       "      <td>Lower middle income</td>\n",
       "      <td>Angola</td>\n",
       "      <td>0.22</td>\n",
       "      <td>0.22</td>\n",
       "      <td>0.24</td>\n",
       "      <td>0.24</td>\n",
       "      <td>0.24</td>\n",
       "      <td>0.24</td>\n",
       "      <td>0.24</td>\n",
       "      <td>...</td>\n",
       "      <td>0.00000</td>\n",
       "      <td>0.000000</td>\n",
       "      <td>0</td>\n",
       "      <td>0</td>\n",
       "      <td>0</td>\n",
       "      <td>0</td>\n",
       "      <td>0</td>\n",
       "      <td>0</td>\n",
       "      <td>0</td>\n",
       "      <td>1</td>\n",
       "    </tr>\n",
       "    <tr>\n",
       "      <th>2</th>\n",
       "      <td>ALB</td>\n",
       "      <td>Upper middle income</td>\n",
       "      <td>Albania</td>\n",
       "      <td>0.46</td>\n",
       "      <td>0.46</td>\n",
       "      <td>0.51</td>\n",
       "      <td>0.51</td>\n",
       "      <td>0.51</td>\n",
       "      <td>0.53</td>\n",
       "      <td>0.53</td>\n",
       "      <td>...</td>\n",
       "      <td>0.00000</td>\n",
       "      <td>0.000000</td>\n",
       "      <td>0</td>\n",
       "      <td>0</td>\n",
       "      <td>1</td>\n",
       "      <td>0</td>\n",
       "      <td>0</td>\n",
       "      <td>0</td>\n",
       "      <td>0</td>\n",
       "      <td>0</td>\n",
       "    </tr>\n",
       "    <tr>\n",
       "      <th>3</th>\n",
       "      <td>ARE</td>\n",
       "      <td>High income</td>\n",
       "      <td>United Arab Emirates</td>\n",
       "      <td>0.51</td>\n",
       "      <td>0.51</td>\n",
       "      <td>0.53</td>\n",
       "      <td>0.53</td>\n",
       "      <td>0.53</td>\n",
       "      <td>0.57</td>\n",
       "      <td>0.57</td>\n",
       "      <td>...</td>\n",
       "      <td>0.00000</td>\n",
       "      <td>0.000000</td>\n",
       "      <td>0</td>\n",
       "      <td>0</td>\n",
       "      <td>0</td>\n",
       "      <td>0</td>\n",
       "      <td>1</td>\n",
       "      <td>0</td>\n",
       "      <td>0</td>\n",
       "      <td>0</td>\n",
       "    </tr>\n",
       "    <tr>\n",
       "      <th>4</th>\n",
       "      <td>ARG</td>\n",
       "      <td>Upper middle income</td>\n",
       "      <td>Argentina</td>\n",
       "      <td>0.61</td>\n",
       "      <td>0.61</td>\n",
       "      <td>0.63</td>\n",
       "      <td>0.63</td>\n",
       "      <td>0.63</td>\n",
       "      <td>0.65</td>\n",
       "      <td>0.65</td>\n",
       "      <td>...</td>\n",
       "      <td>0.00000</td>\n",
       "      <td>0.000000</td>\n",
       "      <td>0</td>\n",
       "      <td>0</td>\n",
       "      <td>0</td>\n",
       "      <td>1</td>\n",
       "      <td>0</td>\n",
       "      <td>0</td>\n",
       "      <td>0</td>\n",
       "      <td>0</td>\n",
       "    </tr>\n",
       "    <tr>\n",
       "      <th>...</th>\n",
       "      <td>...</td>\n",
       "      <td>...</td>\n",
       "      <td>...</td>\n",
       "      <td>...</td>\n",
       "      <td>...</td>\n",
       "      <td>...</td>\n",
       "      <td>...</td>\n",
       "      <td>...</td>\n",
       "      <td>...</td>\n",
       "      <td>...</td>\n",
       "      <td>...</td>\n",
       "      <td>...</td>\n",
       "      <td>...</td>\n",
       "      <td>...</td>\n",
       "      <td>...</td>\n",
       "      <td>...</td>\n",
       "      <td>...</td>\n",
       "      <td>...</td>\n",
       "      <td>...</td>\n",
       "      <td>...</td>\n",
       "      <td>...</td>\n",
       "    </tr>\n",
       "    <tr>\n",
       "      <th>157</th>\n",
       "      <td>VNM</td>\n",
       "      <td>Lower middle income</td>\n",
       "      <td>Vietnam</td>\n",
       "      <td>0.43</td>\n",
       "      <td>0.43</td>\n",
       "      <td>0.43</td>\n",
       "      <td>0.43</td>\n",
       "      <td>0.43</td>\n",
       "      <td>0.45</td>\n",
       "      <td>0.45</td>\n",
       "      <td>...</td>\n",
       "      <td>0.00000</td>\n",
       "      <td>0.000000</td>\n",
       "      <td>0</td>\n",
       "      <td>1</td>\n",
       "      <td>0</td>\n",
       "      <td>0</td>\n",
       "      <td>0</td>\n",
       "      <td>0</td>\n",
       "      <td>0</td>\n",
       "      <td>0</td>\n",
       "    </tr>\n",
       "    <tr>\n",
       "      <th>158</th>\n",
       "      <td>YEM</td>\n",
       "      <td>Low income</td>\n",
       "      <td>Yemen</td>\n",
       "      <td>0.28</td>\n",
       "      <td>0.28</td>\n",
       "      <td>0.30</td>\n",
       "      <td>0.30</td>\n",
       "      <td>0.30</td>\n",
       "      <td>0.32</td>\n",
       "      <td>0.32</td>\n",
       "      <td>...</td>\n",
       "      <td>0.00000</td>\n",
       "      <td>0.000000</td>\n",
       "      <td>0</td>\n",
       "      <td>0</td>\n",
       "      <td>0</td>\n",
       "      <td>0</td>\n",
       "      <td>1</td>\n",
       "      <td>0</td>\n",
       "      <td>0</td>\n",
       "      <td>0</td>\n",
       "    </tr>\n",
       "    <tr>\n",
       "      <th>159</th>\n",
       "      <td>ZAF</td>\n",
       "      <td>Upper middle income</td>\n",
       "      <td>South Africa</td>\n",
       "      <td>0.33</td>\n",
       "      <td>0.33</td>\n",
       "      <td>0.34</td>\n",
       "      <td>0.34</td>\n",
       "      <td>0.34</td>\n",
       "      <td>0.35</td>\n",
       "      <td>0.35</td>\n",
       "      <td>...</td>\n",
       "      <td>77.58448</td>\n",
       "      <td>78.474611</td>\n",
       "      <td>0</td>\n",
       "      <td>0</td>\n",
       "      <td>0</td>\n",
       "      <td>0</td>\n",
       "      <td>0</td>\n",
       "      <td>0</td>\n",
       "      <td>0</td>\n",
       "      <td>1</td>\n",
       "    </tr>\n",
       "    <tr>\n",
       "      <th>160</th>\n",
       "      <td>ZMB</td>\n",
       "      <td>Lower middle income</td>\n",
       "      <td>Zambia</td>\n",
       "      <td>0.22</td>\n",
       "      <td>0.22</td>\n",
       "      <td>0.21</td>\n",
       "      <td>0.21</td>\n",
       "      <td>0.21</td>\n",
       "      <td>0.24</td>\n",
       "      <td>0.24</td>\n",
       "      <td>...</td>\n",
       "      <td>0.00000</td>\n",
       "      <td>0.000000</td>\n",
       "      <td>0</td>\n",
       "      <td>0</td>\n",
       "      <td>0</td>\n",
       "      <td>0</td>\n",
       "      <td>0</td>\n",
       "      <td>0</td>\n",
       "      <td>0</td>\n",
       "      <td>1</td>\n",
       "    </tr>\n",
       "    <tr>\n",
       "      <th>161</th>\n",
       "      <td>ZWE</td>\n",
       "      <td>Lower middle income</td>\n",
       "      <td>Zimbabwe</td>\n",
       "      <td>0.22</td>\n",
       "      <td>0.22</td>\n",
       "      <td>0.23</td>\n",
       "      <td>0.23</td>\n",
       "      <td>0.23</td>\n",
       "      <td>0.23</td>\n",
       "      <td>0.23</td>\n",
       "      <td>...</td>\n",
       "      <td>0.00000</td>\n",
       "      <td>0.000000</td>\n",
       "      <td>0</td>\n",
       "      <td>0</td>\n",
       "      <td>0</td>\n",
       "      <td>0</td>\n",
       "      <td>0</td>\n",
       "      <td>0</td>\n",
       "      <td>0</td>\n",
       "      <td>1</td>\n",
       "    </tr>\n",
       "  </tbody>\n",
       "</table>\n",
       "<p>162 rows × 59 columns</p>\n",
       "</div>"
      ],
      "text/plain": [
       "    countrycode          incomegroup           countryname  yr_2005  yr_2006  \\\n",
       "0           AFG           Low income           Afghanistan     0.16     0.16   \n",
       "1           AGO  Lower middle income                Angola     0.22     0.22   \n",
       "2           ALB  Upper middle income               Albania     0.46     0.46   \n",
       "3           ARE          High income  United Arab Emirates     0.51     0.51   \n",
       "4           ARG  Upper middle income             Argentina     0.61     0.61   \n",
       "..          ...                  ...                   ...      ...      ...   \n",
       "157         VNM  Lower middle income               Vietnam     0.43     0.43   \n",
       "158         YEM           Low income                 Yemen     0.28     0.28   \n",
       "159         ZAF  Upper middle income          South Africa     0.33     0.33   \n",
       "160         ZMB  Lower middle income                Zambia     0.22     0.22   \n",
       "161         ZWE  Lower middle income              Zimbabwe     0.22     0.22   \n",
       "\n",
       "     yr_2007  yr_2008  yr_2009  yr_2010  yr_2011  ...  BasicSan_yr_2019  \\\n",
       "0       0.16     0.16     0.16     0.18     0.18  ...           0.00000   \n",
       "1       0.24     0.24     0.24     0.24     0.24  ...           0.00000   \n",
       "2       0.51     0.51     0.51     0.53     0.53  ...           0.00000   \n",
       "3       0.53     0.53     0.53     0.57     0.57  ...           0.00000   \n",
       "4       0.63     0.63     0.63     0.65     0.65  ...           0.00000   \n",
       "..       ...      ...      ...      ...      ...  ...               ...   \n",
       "157     0.43     0.43     0.43     0.45     0.45  ...           0.00000   \n",
       "158     0.30     0.30     0.30     0.32     0.32  ...           0.00000   \n",
       "159     0.34     0.34     0.34     0.35     0.35  ...          77.58448   \n",
       "160     0.21     0.21     0.21     0.24     0.24  ...           0.00000   \n",
       "161     0.23     0.23     0.23     0.23     0.23  ...           0.00000   \n",
       "\n",
       "     BasicSan_yr_2020  0  East Asia & Pacific  Europe & Central Asia  \\\n",
       "0            0.000000  0                    0                      0   \n",
       "1            0.000000  0                    0                      0   \n",
       "2            0.000000  0                    0                      1   \n",
       "3            0.000000  0                    0                      0   \n",
       "4            0.000000  0                    0                      0   \n",
       "..                ... ..                  ...                    ...   \n",
       "157          0.000000  0                    1                      0   \n",
       "158          0.000000  0                    0                      0   \n",
       "159         78.474611  0                    0                      0   \n",
       "160          0.000000  0                    0                      0   \n",
       "161          0.000000  0                    0                      0   \n",
       "\n",
       "     Latin America & Caribbean  Middle East & North Africa  North America  \\\n",
       "0                            0                           0              0   \n",
       "1                            0                           0              0   \n",
       "2                            0                           0              0   \n",
       "3                            0                           1              0   \n",
       "4                            1                           0              0   \n",
       "..                         ...                         ...            ...   \n",
       "157                          0                           0              0   \n",
       "158                          0                           1              0   \n",
       "159                          0                           0              0   \n",
       "160                          0                           0              0   \n",
       "161                          0                           0              0   \n",
       "\n",
       "     South Asia  Sub-Saharan Africa  \n",
       "0             1                   0  \n",
       "1             0                   1  \n",
       "2             0                   0  \n",
       "3             0                   0  \n",
       "4             0                   0  \n",
       "..          ...                 ...  \n",
       "157           0                   0  \n",
       "158           0                   0  \n",
       "159           0                   1  \n",
       "160           0                   1  \n",
       "161           0                   1  \n",
       "\n",
       "[162 rows x 59 columns]"
      ]
     },
     "execution_count": 33,
     "metadata": {},
     "output_type": "execute_result"
    }
   ],
   "source": [
    "df = pd.merge(df_country[['countrycode', 'Region', 'incomegroup']], df_devidx, on='countrycode', how='outer')\n",
    "df = pd.merge(df, df_quality, on='countrycode', how='outer')\n",
    "df.fillna(0, inplace=True)\n",
    "\n",
    "region_1hot = pd.get_dummies(df['Region'])\n",
    "df.drop('Region', axis=1, inplace=True)\n",
    "df = df.join(region_1hot)\n",
    "\n",
    "df = df.loc[df['incomegroup'] != 0]\n",
    "\n",
    "X, y = df.loc[:, ~df.columns.isin(['countryname', 'countrycode','incomegroup'])], df['incomegroup']\n",
    "\n",
    "X_train, X_test, y_train, y_test = train_test_split(X, y, test_size=0.33, random_state=55)\n",
    "\n",
    "df"
   ]
  },
  {
   "cell_type": "code",
   "execution_count": null,
   "id": "b9d4fd52",
   "metadata": {},
   "outputs": [],
   "source": []
  }
 ],
 "metadata": {
  "kernelspec": {
   "display_name": "Python 3 (ipykernel)",
   "language": "python",
   "name": "python3"
  },
  "language_info": {
   "codemirror_mode": {
    "name": "ipython",
    "version": 3
   },
   "file_extension": ".py",
   "mimetype": "text/x-python",
   "name": "python",
   "nbconvert_exporter": "python",
   "pygments_lexer": "ipython3",
   "version": "3.10.2"
  }
 },
 "nbformat": 4,
 "nbformat_minor": 5
}
